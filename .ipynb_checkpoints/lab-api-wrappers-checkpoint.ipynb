{
 "cells": [
  {
   "cell_type": "markdown",
   "id": "74763161",
   "metadata": {},
   "source": [
    "# Lab | API wrappers - Create your collection of songs & audio features\n",
    "\n",
    "\n",
    "#### Instructions \n",
    "\n",
    "\n",
    "To move forward with the project, you need to create a collection of songs with their audio features - as large as possible! \n",
    "\n",
    "These are the songs that we will cluster. And, later, when the user inputs a song, we will find the cluster to which the song belongs and recommend a song from the same cluster.\n",
    "The more songs you have, the more accurate and diverse recommendations you'll be able to give. Although... you might want to make sure the collected songs are \"curated\" in a certain way. Try to find playlists of songs that are diverse, but also that meet certain standards.\n",
    "\n",
    "The process of sending hundreds or thousands of requests can take some time - it's normal if you have to wait a few minutes (or, if you're ambitious, even hours) to get all the data you need.\n",
    "\n",
    "An idea for collecting as many songs as possible is to start with all the songs of a big, diverse playlist and then go to every artist present in the playlist and grab every song of every album of that artist. The amount of songs you'll be collecting per playlist will grow exponentially!"
   ]
  },
  {
   "cell_type": "code",
   "execution_count": 2,
   "id": "287f8fa1",
   "metadata": {
    "id": "P6Z1QB7eeJeq"
   },
   "outputs": [],
   "source": [
    "secrets_file = open(\"secrets.txt\",\"r\")"
   ]
  },
  {
   "cell_type": "code",
   "execution_count": 3,
   "id": "0116551b",
   "metadata": {
    "id": "O_zvc84bnbh2"
   },
   "outputs": [],
   "source": [
    "string = secrets_file.read()"
   ]
  },
  {
   "cell_type": "code",
   "execution_count": 4,
   "id": "a33b1007",
   "metadata": {},
   "outputs": [
    {
     "data": {
      "text/plain": [
       "'clientid:806b30c89127425d9de916ba36c86ea8\\nclientsecret:0f6eaf58bc364cd598cac727e6da88b4'"
      ]
     },
     "execution_count": 4,
     "metadata": {},
     "output_type": "execute_result"
    }
   ],
   "source": [
    "string"
   ]
  },
  {
   "cell_type": "code",
   "execution_count": 5,
   "id": "82319bcb",
   "metadata": {
    "id": "kXwHdEdLndJZ"
   },
   "outputs": [
    {
     "data": {
      "text/plain": [
       "['clientid:806b30c89127425d9de916ba36c86ea8',\n",
       " 'clientsecret:0f6eaf58bc364cd598cac727e6da88b4']"
      ]
     },
     "execution_count": 5,
     "metadata": {},
     "output_type": "execute_result"
    }
   ],
   "source": [
    "string.split('\\n')"
   ]
  },
  {
   "cell_type": "code",
   "execution_count": 6,
   "id": "773c0c37",
   "metadata": {
    "id": "gZmYnRSNngr7"
   },
   "outputs": [],
   "source": [
    "secrets_dict={}\n",
    "for line in string.split('\\n'):\n",
    "    if len(line) > 0:\n",
    "        #print(line.split(':'))\n",
    "        secrets_dict[line.split(':')[0]]=line.split(':')[1].strip()"
   ]
  },
  {
   "cell_type": "code",
   "execution_count": 7,
   "id": "e6c9615a",
   "metadata": {
    "id": "5iV66R_RnhXR"
   },
   "outputs": [
    {
     "data": {
      "text/plain": [
       "{'clientid': '806b30c89127425d9de916ba36c86ea8',\n",
       " 'clientsecret': '0f6eaf58bc364cd598cac727e6da88b4'}"
      ]
     },
     "execution_count": 7,
     "metadata": {},
     "output_type": "execute_result"
    }
   ],
   "source": [
    "secrets_dict"
   ]
  },
  {
   "cell_type": "code",
   "execution_count": 8,
   "id": "59d10adc",
   "metadata": {
    "id": "JuPP1QvSaGdp"
   },
   "outputs": [],
   "source": [
    "import spotipy\n",
    "from spotipy.oauth2 import SpotifyClientCredentials\n",
    "\n",
    "sp = spotipy.Spotify(auth_manager=SpotifyClientCredentials(client_id=secrets_dict['clientid'],\n",
    "                                                           client_secret=secrets_dict['clientsecret']))"
   ]
  },
  {
   "cell_type": "markdown",
   "id": "056ee5c2",
   "metadata": {},
   "source": [
    "Note: This file format can also be used to store program configuration parameters"
   ]
  },
  {
   "cell_type": "markdown",
   "id": "ae890ab4",
   "metadata": {
    "id": "oAQak0FunTy8"
   },
   "source": [
    "#### authentication with secrets"
   ]
  },
  {
   "cell_type": "code",
   "execution_count": 9,
   "id": "8d15c056",
   "metadata": {
    "id": "HkTY3iTCnYdC"
   },
   "outputs": [],
   "source": [
    "import spotipy\n",
    "from spotipy.oauth2 import SpotifyClientCredentials\n",
    "\n",
    "#Initialize SpotiPy with user credentials\n",
    "sp = spotipy.Spotify(auth_manager=SpotifyClientCredentials(client_id=secrets_dict['clientid'],\n",
    "                                                           client_secret=secrets_dict['clientsecret']))"
   ]
  },
  {
   "cell_type": "markdown",
   "id": "7c17a5bf",
   "metadata": {},
   "source": [
    "### Playlists\n",
    "\n",
    "We will need to collect a \"database\" of songs. Playlists are a good way to access relatively large amounts of songs."
   ]
  },
  {
   "cell_type": "markdown",
   "id": "3abe9d9c",
   "metadata": {},
   "source": [
    "### Playlists | Playlist #1"
   ]
  },
  {
   "cell_type": "code",
   "execution_count": 10,
   "id": "f55fc1fc",
   "metadata": {
    "id": "mbK1y25Ds0U5"
   },
   "outputs": [],
   "source": [
    "# we will need more songs for our clustering\n",
    "playlist = sp.user_playlist_tracks(\"spotify\", \"1G8IpkZKobrIlXcVPoSIuf\")"
   ]
  },
  {
   "cell_type": "code",
   "execution_count": 11,
   "id": "33be05f4",
   "metadata": {
    "colab": {
     "base_uri": "https://localhost:8080/"
    },
    "executionInfo": {
     "elapsed": 724,
     "status": "ok",
     "timestamp": 1619600561407,
     "user": {
      "displayName": "David Henriques",
      "photoUrl": "",
      "userId": "14332050621134291491"
     },
     "user_tz": -60
    },
    "id": "mGHkfglOs_lj",
    "outputId": "23cf666a-c40e-4848-b906-905ed84a91eb"
   },
   "outputs": [
    {
     "data": {
      "text/plain": [
       "10000"
      ]
     },
     "execution_count": 11,
     "metadata": {},
     "output_type": "execute_result"
    }
   ],
   "source": [
    "# this one is biiiig!\n",
    "playlist[\"total\"] "
   ]
  },
  {
   "cell_type": "code",
   "execution_count": 1,
   "id": "68d213b4",
   "metadata": {
    "scrolled": false
   },
   "outputs": [],
   "source": [
    "# playlist['items']"
   ]
  },
  {
   "cell_type": "code",
   "execution_count": 13,
   "id": "a50d3a36",
   "metadata": {},
   "outputs": [
    {
     "data": {
      "text/plain": [
       "100"
      ]
     },
     "execution_count": 13,
     "metadata": {},
     "output_type": "execute_result"
    }
   ],
   "source": [
    "# Each page is limited to 100 tracks, we will have to fix it:\n",
    "len(playlist[\"items\"])"
   ]
  },
  {
   "cell_type": "code",
   "execution_count": 14,
   "id": "79eea164",
   "metadata": {},
   "outputs": [
    {
     "data": {
      "text/plain": [
       "'https://api.spotify.com/v1/playlists/1G8IpkZKobrIlXcVPoSIuf/tracks?offset=100&limit=100&additional_types=track'"
      ]
     },
     "execution_count": 14,
     "metadata": {},
     "output_type": "execute_result"
    }
   ],
   "source": [
    "# we could use the url to the next page which is provided...\n",
    "playlist['next']"
   ]
  },
  {
   "cell_type": "code",
   "execution_count": 15,
   "id": "0ef383e3",
   "metadata": {},
   "outputs": [],
   "source": [
    "from random import randint\n",
    "from time import sleep\n",
    "\n",
    "def get_playlist_tracks(playlist_id):\n",
    "    results = sp.user_playlist_tracks(\"spotify\",playlist_id)\n",
    "    tracks = results['items']\n",
    "    while results['next']!=None:\n",
    "        results = sp.next(results)\n",
    "        tracks = tracks + results['items']\n",
    "        sleep(randint(1,3000)/1000) # respectful nap\n",
    "    return tracks"
   ]
  },
  {
   "cell_type": "code",
   "execution_count": 16,
   "id": "31344a0f",
   "metadata": {},
   "outputs": [
    {
     "data": {
      "text/plain": [
       "10000"
      ]
     },
     "execution_count": 16,
     "metadata": {},
     "output_type": "execute_result"
    }
   ],
   "source": [
    "# this will take at least around num_pages_in_playlist * (avg_sleep_time + processing_time) = 53 * (2+0.1) = 110 seconds\n",
    "all_tracks = get_playlist_tracks(\"1G8IpkZKobrIlXcVPoSIuf\")\n",
    "len(all_tracks)"
   ]
  },
  {
   "cell_type": "code",
   "execution_count": 17,
   "id": "35d875ef",
   "metadata": {},
   "outputs": [],
   "source": [
    "import pandas as pd\n",
    "from pandas import json_normalize\n",
    "tracks = json_normalize(all_tracks)"
   ]
  },
  {
   "cell_type": "code",
   "execution_count": 18,
   "id": "c910afee",
   "metadata": {},
   "outputs": [
    {
     "data": {
      "text/plain": [
       "Index(['added_at', 'is_local', 'primary_color',\n",
       "       'added_by.external_urls.spotify', 'added_by.href', 'added_by.id',\n",
       "       'added_by.type', 'added_by.uri', 'track.album.album_type',\n",
       "       'track.album.artists', 'track.album.available_markets',\n",
       "       'track.album.external_urls.spotify', 'track.album.href',\n",
       "       'track.album.id', 'track.album.images', 'track.album.name',\n",
       "       'track.album.release_date', 'track.album.release_date_precision',\n",
       "       'track.album.total_tracks', 'track.album.type', 'track.album.uri',\n",
       "       'track.artists', 'track.available_markets', 'track.disc_number',\n",
       "       'track.duration_ms', 'track.episode', 'track.explicit',\n",
       "       'track.external_ids.isrc', 'track.external_urls.spotify', 'track.href',\n",
       "       'track.id', 'track.is_local', 'track.name', 'track.popularity',\n",
       "       'track.preview_url', 'track.track', 'track.track_number', 'track.type',\n",
       "       'track.uri', 'video_thumbnail.url', 'track'],\n",
       "      dtype='object')"
      ]
     },
     "execution_count": 18,
     "metadata": {},
     "output_type": "execute_result"
    }
   ],
   "source": [
    "tracks.columns"
   ]
  },
  {
   "cell_type": "code",
   "execution_count": 19,
   "id": "39df47bf",
   "metadata": {},
   "outputs": [
    {
     "data": {
      "text/plain": [
       "[{'external_urls': {'spotify': 'https://open.spotify.com/artist/74ASZWbe4lXaubB36ztrGX'},\n",
       "  'href': 'https://api.spotify.com/v1/artists/74ASZWbe4lXaubB36ztrGX',\n",
       "  'id': '74ASZWbe4lXaubB36ztrGX',\n",
       "  'name': 'Bob Dylan',\n",
       "  'type': 'artist',\n",
       "  'uri': 'spotify:artist:74ASZWbe4lXaubB36ztrGX'}]"
      ]
     },
     "execution_count": 19,
     "metadata": {},
     "output_type": "execute_result"
    }
   ],
   "source": [
    "tracks['track.artists'][0]"
   ]
  },
  {
   "cell_type": "code",
   "execution_count": 20,
   "id": "69f6a957",
   "metadata": {},
   "outputs": [
    {
     "data": {
      "text/plain": [
       "'3AhXZa8sUQht0UEdBJgpGc'"
      ]
     },
     "execution_count": 20,
     "metadata": {},
     "output_type": "execute_result"
    }
   ],
   "source": [
    "tracks['track.id'][0]"
   ]
  },
  {
   "cell_type": "code",
   "execution_count": 21,
   "id": "9dbe5bb8",
   "metadata": {},
   "outputs": [],
   "source": [
    "# data = tracks[['track.artists','track.id']]\n",
    "\n",
    "# def expand_list_dict2(row):\n",
    "#     df = json_normalize(row['track.artists'])\n",
    "#     df['song_id'] = tracks.loc[row.name, 'track.id']\n",
    "#     return df\n",
    "\n",
    "# tracks['artists_dfs'] = data.apply(expand_list_dict2, axis=1)\n",
    "# print(tracks['artists_dfs'].head())"
   ]
  },
  {
   "cell_type": "code",
   "execution_count": 22,
   "id": "d377eab4",
   "metadata": {},
   "outputs": [],
   "source": [
    "# def expand_list_dict2(row):\n",
    "#     df = json_normalize(row['track.artists'])\n",
    "#     df['song_id'] = row['track.id']\n",
    "#     return df\n",
    "\n",
    "# tracks2['artists_dfs'] = tracks2.apply(expand_list_dict2, axis=1)\n",
    "# tracks2['artists_dfs'][0]"
   ]
  },
  {
   "cell_type": "code",
   "execution_count": 23,
   "id": "ceb70ffa",
   "metadata": {},
   "outputs": [],
   "source": [
    "# JOSE\n",
    "def expand_list_dict2(row):\n",
    "    artists_data = row['track.artists']\n",
    "    if isinstance(artists_data, list):  # Check if it's a list\n",
    "        artists_data = [artist for artist in artists_data if isinstance(artist, dict)]  # Filter out non-dictionaries\n",
    "        if artists_data:  # Check if there's any artist data present\n",
    "            df = json_normalize(artists_data)\n",
    "            df['song_id'] = row['track.id']\n",
    "            return df\n",
    "    return None  # Return None if it's not a list or has no valid artist data"
   ]
  },
  {
   "cell_type": "code",
   "execution_count": 24,
   "id": "333be103",
   "metadata": {},
   "outputs": [
    {
     "data": {
      "text/html": [
       "<div>\n",
       "<style scoped>\n",
       "    .dataframe tbody tr th:only-of-type {\n",
       "        vertical-align: middle;\n",
       "    }\n",
       "\n",
       "    .dataframe tbody tr th {\n",
       "        vertical-align: top;\n",
       "    }\n",
       "\n",
       "    .dataframe thead th {\n",
       "        text-align: right;\n",
       "    }\n",
       "</style>\n",
       "<table border=\"1\" class=\"dataframe\">\n",
       "  <thead>\n",
       "    <tr style=\"text-align: right;\">\n",
       "      <th></th>\n",
       "      <th>href</th>\n",
       "      <th>id</th>\n",
       "      <th>name</th>\n",
       "      <th>type</th>\n",
       "      <th>uri</th>\n",
       "      <th>external_urls.spotify</th>\n",
       "      <th>song_id</th>\n",
       "    </tr>\n",
       "  </thead>\n",
       "  <tbody>\n",
       "    <tr>\n",
       "      <th>0</th>\n",
       "      <td>https://api.spotify.com/v1/artists/74ASZWbe4lX...</td>\n",
       "      <td>74ASZWbe4lXaubB36ztrGX</td>\n",
       "      <td>Bob Dylan</td>\n",
       "      <td>artist</td>\n",
       "      <td>spotify:artist:74ASZWbe4lXaubB36ztrGX</td>\n",
       "      <td>https://open.spotify.com/artist/74ASZWbe4lXaub...</td>\n",
       "      <td>3AhXZa8sUQht0UEdBJgpGc</td>\n",
       "    </tr>\n",
       "  </tbody>\n",
       "</table>\n",
       "</div>"
      ],
      "text/plain": [
       "                                                href                      id  \\\n",
       "0  https://api.spotify.com/v1/artists/74ASZWbe4lX...  74ASZWbe4lXaubB36ztrGX   \n",
       "\n",
       "        name    type                                    uri  \\\n",
       "0  Bob Dylan  artist  spotify:artist:74ASZWbe4lXaubB36ztrGX   \n",
       "\n",
       "                               external_urls.spotify                 song_id  \n",
       "0  https://open.spotify.com/artist/74ASZWbe4lXaub...  3AhXZa8sUQht0UEdBJgpGc  "
      ]
     },
     "execution_count": 24,
     "metadata": {},
     "output_type": "execute_result"
    }
   ],
   "source": [
    "tracks['artists_dfs'] = tracks.apply(expand_list_dict2, axis=1)\n",
    "tracks['artists_dfs'][0]"
   ]
  },
  {
   "cell_type": "code",
   "execution_count": 25,
   "id": "63f605cd",
   "metadata": {},
   "outputs": [
    {
     "data": {
      "text/html": [
       "<div>\n",
       "<style scoped>\n",
       "    .dataframe tbody tr th:only-of-type {\n",
       "        vertical-align: middle;\n",
       "    }\n",
       "\n",
       "    .dataframe tbody tr th {\n",
       "        vertical-align: top;\n",
       "    }\n",
       "\n",
       "    .dataframe thead th {\n",
       "        text-align: right;\n",
       "    }\n",
       "</style>\n",
       "<table border=\"1\" class=\"dataframe\">\n",
       "  <thead>\n",
       "    <tr style=\"text-align: right;\">\n",
       "      <th></th>\n",
       "      <th>href</th>\n",
       "      <th>id</th>\n",
       "      <th>name</th>\n",
       "      <th>type</th>\n",
       "      <th>uri</th>\n",
       "      <th>external_urls.spotify</th>\n",
       "      <th>song_id</th>\n",
       "    </tr>\n",
       "  </thead>\n",
       "  <tbody>\n",
       "    <tr>\n",
       "      <th>0</th>\n",
       "      <td>https://api.spotify.com/v1/artists/74ASZWbe4lX...</td>\n",
       "      <td>74ASZWbe4lXaubB36ztrGX</td>\n",
       "      <td>Bob Dylan</td>\n",
       "      <td>artist</td>\n",
       "      <td>spotify:artist:74ASZWbe4lXaubB36ztrGX</td>\n",
       "      <td>https://open.spotify.com/artist/74ASZWbe4lXaub...</td>\n",
       "      <td>3AhXZa8sUQht0UEdBJgpGc</td>\n",
       "    </tr>\n",
       "    <tr>\n",
       "      <th>0</th>\n",
       "      <td>https://api.spotify.com/v1/artists/6olE6TJLqED...</td>\n",
       "      <td>6olE6TJLqED3rqDCT0FyPh</td>\n",
       "      <td>Nirvana</td>\n",
       "      <td>artist</td>\n",
       "      <td>spotify:artist:6olE6TJLqED3rqDCT0FyPh</td>\n",
       "      <td>https://open.spotify.com/artist/6olE6TJLqED3rq...</td>\n",
       "      <td>3oTlkzk1OtrhH8wBAduVEi</td>\n",
       "    </tr>\n",
       "    <tr>\n",
       "      <th>0</th>\n",
       "      <td>https://api.spotify.com/v1/artists/3WrFJ7ztbog...</td>\n",
       "      <td>3WrFJ7ztbogyGnTHbHJFl2</td>\n",
       "      <td>The Beatles</td>\n",
       "      <td>artist</td>\n",
       "      <td>spotify:artist:3WrFJ7ztbogyGnTHbHJFl2</td>\n",
       "      <td>https://open.spotify.com/artist/3WrFJ7ztbogyGn...</td>\n",
       "      <td>3ZFBeIyP41HhnALjxWy1pR</td>\n",
       "    </tr>\n",
       "    <tr>\n",
       "      <th>0</th>\n",
       "      <td>https://api.spotify.com/v1/artists/3oDbviiivRW...</td>\n",
       "      <td>3oDbviiivRWhXwIE8hxkVV</td>\n",
       "      <td>The Beach Boys</td>\n",
       "      <td>artist</td>\n",
       "      <td>spotify:artist:3oDbviiivRWhXwIE8hxkVV</td>\n",
       "      <td>https://open.spotify.com/artist/3oDbviiivRWhXw...</td>\n",
       "      <td>5Qt4Cc66g24QWwGP3YYV9y</td>\n",
       "    </tr>\n",
       "    <tr>\n",
       "      <th>0</th>\n",
       "      <td>https://api.spotify.com/v1/artists/293zczrfYaf...</td>\n",
       "      <td>293zczrfYafIItmnmM3coR</td>\n",
       "      <td>Chuck Berry</td>\n",
       "      <td>artist</td>\n",
       "      <td>spotify:artist:293zczrfYafIItmnmM3coR</td>\n",
       "      <td>https://open.spotify.com/artist/293zczrfYafIIt...</td>\n",
       "      <td>7MH2ZclofPlTrZOkPzZKhK</td>\n",
       "    </tr>\n",
       "    <tr>\n",
       "      <th>...</th>\n",
       "      <td>...</td>\n",
       "      <td>...</td>\n",
       "      <td>...</td>\n",
       "      <td>...</td>\n",
       "      <td>...</td>\n",
       "      <td>...</td>\n",
       "      <td>...</td>\n",
       "    </tr>\n",
       "    <tr>\n",
       "      <th>0</th>\n",
       "      <td>https://api.spotify.com/v1/artists/2vwI9jlKSgJ...</td>\n",
       "      <td>2vwI9jlKSgJbne3dlTzaLO</td>\n",
       "      <td>Skids</td>\n",
       "      <td>artist</td>\n",
       "      <td>spotify:artist:2vwI9jlKSgJbne3dlTzaLO</td>\n",
       "      <td>https://open.spotify.com/artist/2vwI9jlKSgJbne...</td>\n",
       "      <td>2QSD3K3b3BJ8DPhGhQfDPW</td>\n",
       "    </tr>\n",
       "    <tr>\n",
       "      <th>0</th>\n",
       "      <td>https://api.spotify.com/v1/artists/7xTKLpo7UCz...</td>\n",
       "      <td>7xTKLpo7UCzXSnlH7fOIoM</td>\n",
       "      <td>Redman</td>\n",
       "      <td>artist</td>\n",
       "      <td>spotify:artist:7xTKLpo7UCzXSnlH7fOIoM</td>\n",
       "      <td>https://open.spotify.com/artist/7xTKLpo7UCzXSn...</td>\n",
       "      <td>49XnDVsYOHgV4gFZeCojKj</td>\n",
       "    </tr>\n",
       "    <tr>\n",
       "      <th>0</th>\n",
       "      <td>https://api.spotify.com/v1/artists/6nB0iY1cjSY...</td>\n",
       "      <td>6nB0iY1cjSY1KyhYyuIIKH</td>\n",
       "      <td>FKA twigs</td>\n",
       "      <td>artist</td>\n",
       "      <td>spotify:artist:6nB0iY1cjSY1KyhYyuIIKH</td>\n",
       "      <td>https://open.spotify.com/artist/6nB0iY1cjSY1Ky...</td>\n",
       "      <td>5Y9IIH8Xmo1nuk0gfFjc4Q</td>\n",
       "    </tr>\n",
       "    <tr>\n",
       "      <th>0</th>\n",
       "      <td>https://api.spotify.com/v1/artists/3LrsctPHK5w...</td>\n",
       "      <td>3LrsctPHK5wMdvEqvFN8BW</td>\n",
       "      <td>The Mighty Lemon Drops</td>\n",
       "      <td>artist</td>\n",
       "      <td>spotify:artist:3LrsctPHK5wMdvEqvFN8BW</td>\n",
       "      <td>https://open.spotify.com/artist/3LrsctPHK5wMdv...</td>\n",
       "      <td>0ya0JYEFoXNviB8RMeHDtW</td>\n",
       "    </tr>\n",
       "    <tr>\n",
       "      <th>0</th>\n",
       "      <td>https://api.spotify.com/v1/artists/1SQRv42e4Pj...</td>\n",
       "      <td>1SQRv42e4PjEYfPhS0Tk9E</td>\n",
       "      <td>The Kinks</td>\n",
       "      <td>artist</td>\n",
       "      <td>spotify:artist:1SQRv42e4PjEYfPhS0Tk9E</td>\n",
       "      <td>https://open.spotify.com/artist/1SQRv42e4PjEYf...</td>\n",
       "      <td>32y1kRg6IF3f6jpkHxzFoK</td>\n",
       "    </tr>\n",
       "  </tbody>\n",
       "</table>\n",
       "<p>10977 rows × 7 columns</p>\n",
       "</div>"
      ],
      "text/plain": [
       "                                                 href                      id  \\\n",
       "0   https://api.spotify.com/v1/artists/74ASZWbe4lX...  74ASZWbe4lXaubB36ztrGX   \n",
       "0   https://api.spotify.com/v1/artists/6olE6TJLqED...  6olE6TJLqED3rqDCT0FyPh   \n",
       "0   https://api.spotify.com/v1/artists/3WrFJ7ztbog...  3WrFJ7ztbogyGnTHbHJFl2   \n",
       "0   https://api.spotify.com/v1/artists/3oDbviiivRW...  3oDbviiivRWhXwIE8hxkVV   \n",
       "0   https://api.spotify.com/v1/artists/293zczrfYaf...  293zczrfYafIItmnmM3coR   \n",
       "..                                                ...                     ...   \n",
       "0   https://api.spotify.com/v1/artists/2vwI9jlKSgJ...  2vwI9jlKSgJbne3dlTzaLO   \n",
       "0   https://api.spotify.com/v1/artists/7xTKLpo7UCz...  7xTKLpo7UCzXSnlH7fOIoM   \n",
       "0   https://api.spotify.com/v1/artists/6nB0iY1cjSY...  6nB0iY1cjSY1KyhYyuIIKH   \n",
       "0   https://api.spotify.com/v1/artists/3LrsctPHK5w...  3LrsctPHK5wMdvEqvFN8BW   \n",
       "0   https://api.spotify.com/v1/artists/1SQRv42e4Pj...  1SQRv42e4PjEYfPhS0Tk9E   \n",
       "\n",
       "                      name    type                                    uri  \\\n",
       "0                Bob Dylan  artist  spotify:artist:74ASZWbe4lXaubB36ztrGX   \n",
       "0                  Nirvana  artist  spotify:artist:6olE6TJLqED3rqDCT0FyPh   \n",
       "0              The Beatles  artist  spotify:artist:3WrFJ7ztbogyGnTHbHJFl2   \n",
       "0           The Beach Boys  artist  spotify:artist:3oDbviiivRWhXwIE8hxkVV   \n",
       "0              Chuck Berry  artist  spotify:artist:293zczrfYafIItmnmM3coR   \n",
       "..                     ...     ...                                    ...   \n",
       "0                    Skids  artist  spotify:artist:2vwI9jlKSgJbne3dlTzaLO   \n",
       "0                   Redman  artist  spotify:artist:7xTKLpo7UCzXSnlH7fOIoM   \n",
       "0                FKA twigs  artist  spotify:artist:6nB0iY1cjSY1KyhYyuIIKH   \n",
       "0   The Mighty Lemon Drops  artist  spotify:artist:3LrsctPHK5wMdvEqvFN8BW   \n",
       "0                The Kinks  artist  spotify:artist:1SQRv42e4PjEYfPhS0Tk9E   \n",
       "\n",
       "                                external_urls.spotify                 song_id  \n",
       "0   https://open.spotify.com/artist/74ASZWbe4lXaub...  3AhXZa8sUQht0UEdBJgpGc  \n",
       "0   https://open.spotify.com/artist/6olE6TJLqED3rq...  3oTlkzk1OtrhH8wBAduVEi  \n",
       "0   https://open.spotify.com/artist/3WrFJ7ztbogyGn...  3ZFBeIyP41HhnALjxWy1pR  \n",
       "0   https://open.spotify.com/artist/3oDbviiivRWhXw...  5Qt4Cc66g24QWwGP3YYV9y  \n",
       "0   https://open.spotify.com/artist/293zczrfYafIIt...  7MH2ZclofPlTrZOkPzZKhK  \n",
       "..                                                ...                     ...  \n",
       "0   https://open.spotify.com/artist/2vwI9jlKSgJbne...  2QSD3K3b3BJ8DPhGhQfDPW  \n",
       "0   https://open.spotify.com/artist/7xTKLpo7UCzXSn...  49XnDVsYOHgV4gFZeCojKj  \n",
       "0   https://open.spotify.com/artist/6nB0iY1cjSY1Ky...  5Y9IIH8Xmo1nuk0gfFjc4Q  \n",
       "0   https://open.spotify.com/artist/3LrsctPHK5wMdv...  0ya0JYEFoXNviB8RMeHDtW  \n",
       "0   https://open.spotify.com/artist/1SQRv42e4PjEYf...  32y1kRg6IF3f6jpkHxzFoK  \n",
       "\n",
       "[10977 rows x 7 columns]"
      ]
     },
     "execution_count": 25,
     "metadata": {},
     "output_type": "execute_result"
    }
   ],
   "source": [
    "# now we create a new dataframe with all these artists\n",
    "artist_df = pd.DataFrame(columns=['href', 'id', 'name', 'type', 'uri'])\n",
    "for mini_df in tracks['artists_dfs']:\n",
    "    #display(val)\n",
    "    artist_df = pd.concat([artist_df, mini_df], axis=0)\n",
    "artist_df"
   ]
  },
  {
   "cell_type": "code",
   "execution_count": 26,
   "id": "2cd6ed22",
   "metadata": {},
   "outputs": [
    {
     "data": {
      "text/html": [
       "<div>\n",
       "<style scoped>\n",
       "    .dataframe tbody tr th:only-of-type {\n",
       "        vertical-align: middle;\n",
       "    }\n",
       "\n",
       "    .dataframe tbody tr th {\n",
       "        vertical-align: top;\n",
       "    }\n",
       "\n",
       "    .dataframe thead th {\n",
       "        text-align: right;\n",
       "    }\n",
       "</style>\n",
       "<table border=\"1\" class=\"dataframe\">\n",
       "  <thead>\n",
       "    <tr style=\"text-align: right;\">\n",
       "      <th></th>\n",
       "      <th>added_at</th>\n",
       "      <th>is_local</th>\n",
       "      <th>primary_color</th>\n",
       "      <th>added_by.external_urls.spotify</th>\n",
       "      <th>added_by.href</th>\n",
       "      <th>added_by.id</th>\n",
       "      <th>added_by.type</th>\n",
       "      <th>added_by.uri</th>\n",
       "      <th>track.album.album_type</th>\n",
       "      <th>track.album.artists</th>\n",
       "      <th>...</th>\n",
       "      <th>video_thumbnail.url</th>\n",
       "      <th>track</th>\n",
       "      <th>artists_dfs</th>\n",
       "      <th>href</th>\n",
       "      <th>id</th>\n",
       "      <th>name</th>\n",
       "      <th>type</th>\n",
       "      <th>uri</th>\n",
       "      <th>external_urls.spotify</th>\n",
       "      <th>song_id</th>\n",
       "    </tr>\n",
       "  </thead>\n",
       "  <tbody>\n",
       "    <tr>\n",
       "      <th>0</th>\n",
       "      <td>2020-11-29T15:02:07Z</td>\n",
       "      <td>False</td>\n",
       "      <td>None</td>\n",
       "      <td>https://open.spotify.com/user/acclaimedmusic</td>\n",
       "      <td>https://api.spotify.com/v1/users/acclaimedmusic</td>\n",
       "      <td>acclaimedmusic</td>\n",
       "      <td>user</td>\n",
       "      <td>spotify:user:acclaimedmusic</td>\n",
       "      <td>album</td>\n",
       "      <td>[{'external_urls': {'spotify': 'https://open.s...</td>\n",
       "      <td>...</td>\n",
       "      <td>None</td>\n",
       "      <td>NaN</td>\n",
       "      <td>...</td>\n",
       "      <td>https://api.spotify.com/v1/artists/74ASZWbe4lX...</td>\n",
       "      <td>74ASZWbe4lXaubB36ztrGX</td>\n",
       "      <td>Bob Dylan</td>\n",
       "      <td>artist</td>\n",
       "      <td>spotify:artist:74ASZWbe4lXaubB36ztrGX</td>\n",
       "      <td>https://open.spotify.com/artist/74ASZWbe4lXaub...</td>\n",
       "      <td>3AhXZa8sUQht0UEdBJgpGc</td>\n",
       "    </tr>\n",
       "    <tr>\n",
       "      <th>1</th>\n",
       "      <td>2020-11-29T15:02:07Z</td>\n",
       "      <td>False</td>\n",
       "      <td>None</td>\n",
       "      <td>https://open.spotify.com/user/acclaimedmusic</td>\n",
       "      <td>https://api.spotify.com/v1/users/acclaimedmusic</td>\n",
       "      <td>acclaimedmusic</td>\n",
       "      <td>user</td>\n",
       "      <td>spotify:user:acclaimedmusic</td>\n",
       "      <td>album</td>\n",
       "      <td>[{'external_urls': {'spotify': 'https://open.s...</td>\n",
       "      <td>...</td>\n",
       "      <td>None</td>\n",
       "      <td>NaN</td>\n",
       "      <td>...</td>\n",
       "      <td>https://api.spotify.com/v1/artists/6olE6TJLqED...</td>\n",
       "      <td>6olE6TJLqED3rqDCT0FyPh</td>\n",
       "      <td>Nirvana</td>\n",
       "      <td>artist</td>\n",
       "      <td>spotify:artist:6olE6TJLqED3rqDCT0FyPh</td>\n",
       "      <td>https://open.spotify.com/artist/6olE6TJLqED3rq...</td>\n",
       "      <td>3oTlkzk1OtrhH8wBAduVEi</td>\n",
       "    </tr>\n",
       "    <tr>\n",
       "      <th>2</th>\n",
       "      <td>2020-11-29T15:02:07Z</td>\n",
       "      <td>False</td>\n",
       "      <td>None</td>\n",
       "      <td>https://open.spotify.com/user/acclaimedmusic</td>\n",
       "      <td>https://api.spotify.com/v1/users/acclaimedmusic</td>\n",
       "      <td>acclaimedmusic</td>\n",
       "      <td>user</td>\n",
       "      <td>spotify:user:acclaimedmusic</td>\n",
       "      <td>album</td>\n",
       "      <td>[{'external_urls': {'spotify': 'https://open.s...</td>\n",
       "      <td>...</td>\n",
       "      <td>None</td>\n",
       "      <td>NaN</td>\n",
       "      <td>...</td>\n",
       "      <td>https://api.spotify.com/v1/artists/3WrFJ7ztbog...</td>\n",
       "      <td>3WrFJ7ztbogyGnTHbHJFl2</td>\n",
       "      <td>The Beatles</td>\n",
       "      <td>artist</td>\n",
       "      <td>spotify:artist:3WrFJ7ztbogyGnTHbHJFl2</td>\n",
       "      <td>https://open.spotify.com/artist/3WrFJ7ztbogyGn...</td>\n",
       "      <td>3ZFBeIyP41HhnALjxWy1pR</td>\n",
       "    </tr>\n",
       "    <tr>\n",
       "      <th>3</th>\n",
       "      <td>2020-11-29T15:02:07Z</td>\n",
       "      <td>False</td>\n",
       "      <td>None</td>\n",
       "      <td>https://open.spotify.com/user/acclaimedmusic</td>\n",
       "      <td>https://api.spotify.com/v1/users/acclaimedmusic</td>\n",
       "      <td>acclaimedmusic</td>\n",
       "      <td>user</td>\n",
       "      <td>spotify:user:acclaimedmusic</td>\n",
       "      <td>album</td>\n",
       "      <td>[{'external_urls': {'spotify': 'https://open.s...</td>\n",
       "      <td>...</td>\n",
       "      <td>None</td>\n",
       "      <td>NaN</td>\n",
       "      <td>...</td>\n",
       "      <td>https://api.spotify.com/v1/artists/3oDbviiivRW...</td>\n",
       "      <td>3oDbviiivRWhXwIE8hxkVV</td>\n",
       "      <td>The Beach Boys</td>\n",
       "      <td>artist</td>\n",
       "      <td>spotify:artist:3oDbviiivRWhXwIE8hxkVV</td>\n",
       "      <td>https://open.spotify.com/artist/3oDbviiivRWhXw...</td>\n",
       "      <td>5Qt4Cc66g24QWwGP3YYV9y</td>\n",
       "    </tr>\n",
       "    <tr>\n",
       "      <th>4</th>\n",
       "      <td>2020-11-29T15:02:07Z</td>\n",
       "      <td>False</td>\n",
       "      <td>None</td>\n",
       "      <td>https://open.spotify.com/user/acclaimedmusic</td>\n",
       "      <td>https://api.spotify.com/v1/users/acclaimedmusic</td>\n",
       "      <td>acclaimedmusic</td>\n",
       "      <td>user</td>\n",
       "      <td>spotify:user:acclaimedmusic</td>\n",
       "      <td>compilation</td>\n",
       "      <td>[{'external_urls': {'spotify': 'https://open.s...</td>\n",
       "      <td>...</td>\n",
       "      <td>None</td>\n",
       "      <td>NaN</td>\n",
       "      <td>...</td>\n",
       "      <td>https://api.spotify.com/v1/artists/293zczrfYaf...</td>\n",
       "      <td>293zczrfYafIItmnmM3coR</td>\n",
       "      <td>Chuck Berry</td>\n",
       "      <td>artist</td>\n",
       "      <td>spotify:artist:293zczrfYafIItmnmM3coR</td>\n",
       "      <td>https://open.spotify.com/artist/293zczrfYafIIt...</td>\n",
       "      <td>7MH2ZclofPlTrZOkPzZKhK</td>\n",
       "    </tr>\n",
       "  </tbody>\n",
       "</table>\n",
       "<p>5 rows × 49 columns</p>\n",
       "</div>"
      ],
      "text/plain": [
       "               added_at  is_local primary_color  \\\n",
       "0  2020-11-29T15:02:07Z     False          None   \n",
       "1  2020-11-29T15:02:07Z     False          None   \n",
       "2  2020-11-29T15:02:07Z     False          None   \n",
       "3  2020-11-29T15:02:07Z     False          None   \n",
       "4  2020-11-29T15:02:07Z     False          None   \n",
       "\n",
       "                 added_by.external_urls.spotify  \\\n",
       "0  https://open.spotify.com/user/acclaimedmusic   \n",
       "1  https://open.spotify.com/user/acclaimedmusic   \n",
       "2  https://open.spotify.com/user/acclaimedmusic   \n",
       "3  https://open.spotify.com/user/acclaimedmusic   \n",
       "4  https://open.spotify.com/user/acclaimedmusic   \n",
       "\n",
       "                                     added_by.href     added_by.id  \\\n",
       "0  https://api.spotify.com/v1/users/acclaimedmusic  acclaimedmusic   \n",
       "1  https://api.spotify.com/v1/users/acclaimedmusic  acclaimedmusic   \n",
       "2  https://api.spotify.com/v1/users/acclaimedmusic  acclaimedmusic   \n",
       "3  https://api.spotify.com/v1/users/acclaimedmusic  acclaimedmusic   \n",
       "4  https://api.spotify.com/v1/users/acclaimedmusic  acclaimedmusic   \n",
       "\n",
       "  added_by.type                 added_by.uri track.album.album_type  \\\n",
       "0          user  spotify:user:acclaimedmusic                  album   \n",
       "1          user  spotify:user:acclaimedmusic                  album   \n",
       "2          user  spotify:user:acclaimedmusic                  album   \n",
       "3          user  spotify:user:acclaimedmusic                  album   \n",
       "4          user  spotify:user:acclaimedmusic            compilation   \n",
       "\n",
       "                                 track.album.artists  ... video_thumbnail.url  \\\n",
       "0  [{'external_urls': {'spotify': 'https://open.s...  ...                None   \n",
       "1  [{'external_urls': {'spotify': 'https://open.s...  ...                None   \n",
       "2  [{'external_urls': {'spotify': 'https://open.s...  ...                None   \n",
       "3  [{'external_urls': {'spotify': 'https://open.s...  ...                None   \n",
       "4  [{'external_urls': {'spotify': 'https://open.s...  ...                None   \n",
       "\n",
       "  track                                        artists_dfs  \\\n",
       "0   NaN                                                ...   \n",
       "1   NaN                                                ...   \n",
       "2   NaN                                                ...   \n",
       "3   NaN                                                ...   \n",
       "4   NaN                                                ...   \n",
       "\n",
       "                                                href                      id  \\\n",
       "0  https://api.spotify.com/v1/artists/74ASZWbe4lX...  74ASZWbe4lXaubB36ztrGX   \n",
       "1  https://api.spotify.com/v1/artists/6olE6TJLqED...  6olE6TJLqED3rqDCT0FyPh   \n",
       "2  https://api.spotify.com/v1/artists/3WrFJ7ztbog...  3WrFJ7ztbogyGnTHbHJFl2   \n",
       "3  https://api.spotify.com/v1/artists/3oDbviiivRW...  3oDbviiivRWhXwIE8hxkVV   \n",
       "4  https://api.spotify.com/v1/artists/293zczrfYaf...  293zczrfYafIItmnmM3coR   \n",
       "\n",
       "             name    type                                    uri  \\\n",
       "0       Bob Dylan  artist  spotify:artist:74ASZWbe4lXaubB36ztrGX   \n",
       "1         Nirvana  artist  spotify:artist:6olE6TJLqED3rqDCT0FyPh   \n",
       "2     The Beatles  artist  spotify:artist:3WrFJ7ztbogyGnTHbHJFl2   \n",
       "3  The Beach Boys  artist  spotify:artist:3oDbviiivRWhXwIE8hxkVV   \n",
       "4     Chuck Berry  artist  spotify:artist:293zczrfYafIItmnmM3coR   \n",
       "\n",
       "                               external_urls.spotify                 song_id  \n",
       "0  https://open.spotify.com/artist/74ASZWbe4lXaub...  3AhXZa8sUQht0UEdBJgpGc  \n",
       "1  https://open.spotify.com/artist/6olE6TJLqED3rq...  3oTlkzk1OtrhH8wBAduVEi  \n",
       "2  https://open.spotify.com/artist/3WrFJ7ztbogyGn...  3ZFBeIyP41HhnALjxWy1pR  \n",
       "3  https://open.spotify.com/artist/3oDbviiivRWhXw...  5Qt4Cc66g24QWwGP3YYV9y  \n",
       "4  https://open.spotify.com/artist/293zczrfYafIIt...  7MH2ZclofPlTrZOkPzZKhK  \n",
       "\n",
       "[5 rows x 49 columns]"
      ]
     },
     "execution_count": 26,
     "metadata": {},
     "output_type": "execute_result"
    }
   ],
   "source": [
    "df_merged = pd.merge(left=tracks,\n",
    "                    right=artist_df,\n",
    "                    how='inner',\n",
    "                    left_on='track.id',\n",
    "                    right_on='song_id')\n",
    "df_merged.head()"
   ]
  },
  {
   "cell_type": "code",
   "execution_count": 27,
   "id": "3f2728bd",
   "metadata": {},
   "outputs": [
    {
     "data": {
      "text/html": [
       "<div>\n",
       "<style scoped>\n",
       "    .dataframe tbody tr th:only-of-type {\n",
       "        vertical-align: middle;\n",
       "    }\n",
       "\n",
       "    .dataframe tbody tr th {\n",
       "        vertical-align: top;\n",
       "    }\n",
       "\n",
       "    .dataframe thead th {\n",
       "        text-align: right;\n",
       "    }\n",
       "</style>\n",
       "<table border=\"1\" class=\"dataframe\">\n",
       "  <thead>\n",
       "    <tr style=\"text-align: right;\">\n",
       "      <th></th>\n",
       "      <th>track.name</th>\n",
       "      <th>name</th>\n",
       "      <th>song_id</th>\n",
       "    </tr>\n",
       "  </thead>\n",
       "  <tbody>\n",
       "    <tr>\n",
       "      <th>0</th>\n",
       "      <td>Like a Rolling Stone</td>\n",
       "      <td>Bob Dylan</td>\n",
       "      <td>3AhXZa8sUQht0UEdBJgpGc</td>\n",
       "    </tr>\n",
       "    <tr>\n",
       "      <th>1</th>\n",
       "      <td>Smells Like Teen Spirit</td>\n",
       "      <td>Nirvana</td>\n",
       "      <td>3oTlkzk1OtrhH8wBAduVEi</td>\n",
       "    </tr>\n",
       "    <tr>\n",
       "      <th>2</th>\n",
       "      <td>A Day In The Life - Remastered</td>\n",
       "      <td>The Beatles</td>\n",
       "      <td>3ZFBeIyP41HhnALjxWy1pR</td>\n",
       "    </tr>\n",
       "    <tr>\n",
       "      <th>3</th>\n",
       "      <td>Good Vibrations (Mono)</td>\n",
       "      <td>The Beach Boys</td>\n",
       "      <td>5Qt4Cc66g24QWwGP3YYV9y</td>\n",
       "    </tr>\n",
       "    <tr>\n",
       "      <th>4</th>\n",
       "      <td>Johnny B Goode</td>\n",
       "      <td>Chuck Berry</td>\n",
       "      <td>7MH2ZclofPlTrZOkPzZKhK</td>\n",
       "    </tr>\n",
       "    <tr>\n",
       "      <th>...</th>\n",
       "      <td>...</td>\n",
       "      <td>...</td>\n",
       "      <td>...</td>\n",
       "    </tr>\n",
       "    <tr>\n",
       "      <th>13624</th>\n",
       "      <td>Into The Valley</td>\n",
       "      <td>Skids</td>\n",
       "      <td>2QSD3K3b3BJ8DPhGhQfDPW</td>\n",
       "    </tr>\n",
       "    <tr>\n",
       "      <th>13625</th>\n",
       "      <td>Tonight's Da Night</td>\n",
       "      <td>Redman</td>\n",
       "      <td>49XnDVsYOHgV4gFZeCojKj</td>\n",
       "    </tr>\n",
       "    <tr>\n",
       "      <th>13626</th>\n",
       "      <td>Figure 8</td>\n",
       "      <td>FKA twigs</td>\n",
       "      <td>5Y9IIH8Xmo1nuk0gfFjc4Q</td>\n",
       "    </tr>\n",
       "    <tr>\n",
       "      <th>13627</th>\n",
       "      <td>Like An Angel</td>\n",
       "      <td>The Mighty Lemon Drops</td>\n",
       "      <td>0ya0JYEFoXNviB8RMeHDtW</td>\n",
       "    </tr>\n",
       "    <tr>\n",
       "      <th>13628</th>\n",
       "      <td>Come Dancing</td>\n",
       "      <td>The Kinks</td>\n",
       "      <td>32y1kRg6IF3f6jpkHxzFoK</td>\n",
       "    </tr>\n",
       "  </tbody>\n",
       "</table>\n",
       "<p>13629 rows × 3 columns</p>\n",
       "</div>"
      ],
      "text/plain": [
       "                           track.name                    name  \\\n",
       "0                Like a Rolling Stone               Bob Dylan   \n",
       "1             Smells Like Teen Spirit                 Nirvana   \n",
       "2      A Day In The Life - Remastered             The Beatles   \n",
       "3              Good Vibrations (Mono)          The Beach Boys   \n",
       "4                      Johnny B Goode             Chuck Berry   \n",
       "...                               ...                     ...   \n",
       "13624                 Into The Valley                   Skids   \n",
       "13625              Tonight's Da Night                  Redman   \n",
       "13626                        Figure 8               FKA twigs   \n",
       "13627                   Like An Angel  The Mighty Lemon Drops   \n",
       "13628                    Come Dancing               The Kinks   \n",
       "\n",
       "                      song_id  \n",
       "0      3AhXZa8sUQht0UEdBJgpGc  \n",
       "1      3oTlkzk1OtrhH8wBAduVEi  \n",
       "2      3ZFBeIyP41HhnALjxWy1pR  \n",
       "3      5Qt4Cc66g24QWwGP3YYV9y  \n",
       "4      7MH2ZclofPlTrZOkPzZKhK  \n",
       "...                       ...  \n",
       "13624  2QSD3K3b3BJ8DPhGhQfDPW  \n",
       "13625  49XnDVsYOHgV4gFZeCojKj  \n",
       "13626  5Y9IIH8Xmo1nuk0gfFjc4Q  \n",
       "13627  0ya0JYEFoXNviB8RMeHDtW  \n",
       "13628  32y1kRg6IF3f6jpkHxzFoK  \n",
       "\n",
       "[13629 rows x 3 columns]"
      ]
     },
     "execution_count": 27,
     "metadata": {},
     "output_type": "execute_result"
    }
   ],
   "source": [
    "df_final = df_merged[['track.name', 'name', 'song_id']]\n",
    "df_final"
   ]
  },
  {
   "cell_type": "code",
   "execution_count": 72,
   "id": "70d57357",
   "metadata": {},
   "outputs": [],
   "source": [
    "df_final.to_csv('df_final.csv', index=False)"
   ]
  },
  {
   "cell_type": "code",
   "execution_count": null,
   "id": "f068ff8e",
   "metadata": {},
   "outputs": [],
   "source": []
  },
  {
   "cell_type": "markdown",
   "id": "048c39ba",
   "metadata": {},
   "source": [
    "### Playlists | Playlist #2"
   ]
  },
  {
   "cell_type": "code",
   "execution_count": 28,
   "id": "afcde2b1",
   "metadata": {
    "id": "mbK1y25Ds0U5"
   },
   "outputs": [],
   "source": [
    "playlist = sp.user_playlist_tracks(\"spotify\", \"5xqpyfZyS1DVysoevdVyEn\")"
   ]
  },
  {
   "cell_type": "code",
   "execution_count": 29,
   "id": "b8ceea65",
   "metadata": {
    "colab": {
     "base_uri": "https://localhost:8080/"
    },
    "executionInfo": {
     "elapsed": 724,
     "status": "ok",
     "timestamp": 1619600561407,
     "user": {
      "displayName": "David Henriques",
      "photoUrl": "",
      "userId": "14332050621134291491"
     },
     "user_tz": -60
    },
    "id": "mGHkfglOs_lj",
    "outputId": "23cf666a-c40e-4848-b906-905ed84a91eb"
   },
   "outputs": [
    {
     "data": {
      "text/plain": [
       "10991"
      ]
     },
     "execution_count": 29,
     "metadata": {},
     "output_type": "execute_result"
    }
   ],
   "source": [
    "playlist[\"total\"] "
   ]
  },
  {
   "cell_type": "code",
   "execution_count": 30,
   "id": "70e9defa",
   "metadata": {},
   "outputs": [
    {
     "data": {
      "text/plain": [
       "100"
      ]
     },
     "execution_count": 30,
     "metadata": {},
     "output_type": "execute_result"
    }
   ],
   "source": [
    "len(playlist[\"items\"])"
   ]
  },
  {
   "cell_type": "code",
   "execution_count": 31,
   "id": "3423e217",
   "metadata": {},
   "outputs": [
    {
     "data": {
      "text/plain": [
       "10991"
      ]
     },
     "execution_count": 31,
     "metadata": {},
     "output_type": "execute_result"
    }
   ],
   "source": [
    "all_tracks = get_playlist_tracks(\"5xqpyfZyS1DVysoevdVyEn\")\n",
    "len(all_tracks)"
   ]
  },
  {
   "cell_type": "code",
   "execution_count": 32,
   "id": "d3a8e4c4",
   "metadata": {},
   "outputs": [],
   "source": [
    "tracks = json_normalize(all_tracks)"
   ]
  },
  {
   "cell_type": "code",
   "execution_count": 33,
   "id": "70abe54c",
   "metadata": {},
   "outputs": [
    {
     "data": {
      "text/plain": [
       "[{'external_urls': {'spotify': 'https://open.spotify.com/artist/1xU878Z1QtBldR7ru9owdU'},\n",
       "  'href': 'https://api.spotify.com/v1/artists/1xU878Z1QtBldR7ru9owdU',\n",
       "  'id': '1xU878Z1QtBldR7ru9owdU',\n",
       "  'name': 'Phoenix',\n",
       "  'type': 'artist',\n",
       "  'uri': 'spotify:artist:1xU878Z1QtBldR7ru9owdU'}]"
      ]
     },
     "execution_count": 33,
     "metadata": {},
     "output_type": "execute_result"
    }
   ],
   "source": [
    "tracks['track.artists'][0]"
   ]
  },
  {
   "cell_type": "code",
   "execution_count": 34,
   "id": "89a03971",
   "metadata": {},
   "outputs": [
    {
     "data": {
      "text/plain": [
       "'3AA8xNhDC0MpqwkGX3EP5V'"
      ]
     },
     "execution_count": 34,
     "metadata": {},
     "output_type": "execute_result"
    }
   ],
   "source": [
    "tracks['track.id'][0]"
   ]
  },
  {
   "cell_type": "code",
   "execution_count": 35,
   "id": "9151ecc1",
   "metadata": {},
   "outputs": [
    {
     "data": {
      "text/html": [
       "<div>\n",
       "<style scoped>\n",
       "    .dataframe tbody tr th:only-of-type {\n",
       "        vertical-align: middle;\n",
       "    }\n",
       "\n",
       "    .dataframe tbody tr th {\n",
       "        vertical-align: top;\n",
       "    }\n",
       "\n",
       "    .dataframe thead th {\n",
       "        text-align: right;\n",
       "    }\n",
       "</style>\n",
       "<table border=\"1\" class=\"dataframe\">\n",
       "  <thead>\n",
       "    <tr style=\"text-align: right;\">\n",
       "      <th></th>\n",
       "      <th>href</th>\n",
       "      <th>id</th>\n",
       "      <th>name</th>\n",
       "      <th>type</th>\n",
       "      <th>uri</th>\n",
       "      <th>external_urls.spotify</th>\n",
       "      <th>song_id</th>\n",
       "    </tr>\n",
       "  </thead>\n",
       "  <tbody>\n",
       "    <tr>\n",
       "      <th>0</th>\n",
       "      <td>https://api.spotify.com/v1/artists/1xU878Z1QtB...</td>\n",
       "      <td>1xU878Z1QtBldR7ru9owdU</td>\n",
       "      <td>Phoenix</td>\n",
       "      <td>artist</td>\n",
       "      <td>spotify:artist:1xU878Z1QtBldR7ru9owdU</td>\n",
       "      <td>https://open.spotify.com/artist/1xU878Z1QtBldR...</td>\n",
       "      <td>3AA8xNhDC0MpqwkGX3EP5V</td>\n",
       "    </tr>\n",
       "  </tbody>\n",
       "</table>\n",
       "</div>"
      ],
      "text/plain": [
       "                                                href                      id  \\\n",
       "0  https://api.spotify.com/v1/artists/1xU878Z1QtB...  1xU878Z1QtBldR7ru9owdU   \n",
       "\n",
       "      name    type                                    uri  \\\n",
       "0  Phoenix  artist  spotify:artist:1xU878Z1QtBldR7ru9owdU   \n",
       "\n",
       "                               external_urls.spotify                 song_id  \n",
       "0  https://open.spotify.com/artist/1xU878Z1QtBldR...  3AA8xNhDC0MpqwkGX3EP5V  "
      ]
     },
     "execution_count": 35,
     "metadata": {},
     "output_type": "execute_result"
    }
   ],
   "source": [
    "tracks['artists_dfs'] = tracks.apply(expand_list_dict2, axis=1)\n",
    "tracks['artists_dfs'][0]"
   ]
  },
  {
   "cell_type": "code",
   "execution_count": 36,
   "id": "44686ac4",
   "metadata": {},
   "outputs": [
    {
     "data": {
      "text/html": [
       "<div>\n",
       "<style scoped>\n",
       "    .dataframe tbody tr th:only-of-type {\n",
       "        vertical-align: middle;\n",
       "    }\n",
       "\n",
       "    .dataframe tbody tr th {\n",
       "        vertical-align: top;\n",
       "    }\n",
       "\n",
       "    .dataframe thead th {\n",
       "        text-align: right;\n",
       "    }\n",
       "</style>\n",
       "<table border=\"1\" class=\"dataframe\">\n",
       "  <thead>\n",
       "    <tr style=\"text-align: right;\">\n",
       "      <th></th>\n",
       "      <th>href</th>\n",
       "      <th>id</th>\n",
       "      <th>name</th>\n",
       "      <th>type</th>\n",
       "      <th>uri</th>\n",
       "      <th>external_urls.spotify</th>\n",
       "      <th>song_id</th>\n",
       "    </tr>\n",
       "  </thead>\n",
       "  <tbody>\n",
       "    <tr>\n",
       "      <th>0</th>\n",
       "      <td>https://api.spotify.com/v1/artists/1xU878Z1QtB...</td>\n",
       "      <td>1xU878Z1QtBldR7ru9owdU</td>\n",
       "      <td>Phoenix</td>\n",
       "      <td>artist</td>\n",
       "      <td>spotify:artist:1xU878Z1QtBldR7ru9owdU</td>\n",
       "      <td>https://open.spotify.com/artist/1xU878Z1QtBldR...</td>\n",
       "      <td>3AA8xNhDC0MpqwkGX3EP5V</td>\n",
       "    </tr>\n",
       "    <tr>\n",
       "      <th>0</th>\n",
       "      <td>https://api.spotify.com/v1/artists/2oWyxHNcxMc...</td>\n",
       "      <td>2oWyxHNcxMcrvNIHMX2apR</td>\n",
       "      <td>Radio 4</td>\n",
       "      <td>artist</td>\n",
       "      <td>spotify:artist:2oWyxHNcxMcrvNIHMX2apR</td>\n",
       "      <td>https://open.spotify.com/artist/2oWyxHNcxMcrvN...</td>\n",
       "      <td>2i8lRhmZNKaM1ypHwRybuD</td>\n",
       "    </tr>\n",
       "    <tr>\n",
       "      <th>0</th>\n",
       "      <td>https://api.spotify.com/v1/artists/2UyhhfLOvfL...</td>\n",
       "      <td>2UyhhfLOvfLs7ZhzsAaNC3</td>\n",
       "      <td>Mount Sims</td>\n",
       "      <td>artist</td>\n",
       "      <td>spotify:artist:2UyhhfLOvfLs7ZhzsAaNC3</td>\n",
       "      <td>https://open.spotify.com/artist/2UyhhfLOvfLs7Z...</td>\n",
       "      <td>4flxgPC0426CEeSrzQIic0</td>\n",
       "    </tr>\n",
       "    <tr>\n",
       "      <th>0</th>\n",
       "      <td>https://api.spotify.com/v1/artists/1gkSl4XpHIH...</td>\n",
       "      <td>1gkSl4XpHIHI4I1WQbfXOE</td>\n",
       "      <td>Peaches</td>\n",
       "      <td>artist</td>\n",
       "      <td>spotify:artist:1gkSl4XpHIHI4I1WQbfXOE</td>\n",
       "      <td>https://open.spotify.com/artist/1gkSl4XpHIHI4I...</td>\n",
       "      <td>1XHFob24QklIXtLRopKirJ</td>\n",
       "    </tr>\n",
       "    <tr>\n",
       "      <th>0</th>\n",
       "      <td>https://api.spotify.com/v1/artists/3GpAL7oEFD3...</td>\n",
       "      <td>3GpAL7oEFD37IJDOOiirqy</td>\n",
       "      <td>Zongamin</td>\n",
       "      <td>artist</td>\n",
       "      <td>spotify:artist:3GpAL7oEFD37IJDOOiirqy</td>\n",
       "      <td>https://open.spotify.com/artist/3GpAL7oEFD37IJ...</td>\n",
       "      <td>4JB847zlgViLq8tJIzRsZy</td>\n",
       "    </tr>\n",
       "  </tbody>\n",
       "</table>\n",
       "</div>"
      ],
      "text/plain": [
       "                                                href                      id  \\\n",
       "0  https://api.spotify.com/v1/artists/1xU878Z1QtB...  1xU878Z1QtBldR7ru9owdU   \n",
       "0  https://api.spotify.com/v1/artists/2oWyxHNcxMc...  2oWyxHNcxMcrvNIHMX2apR   \n",
       "0  https://api.spotify.com/v1/artists/2UyhhfLOvfL...  2UyhhfLOvfLs7ZhzsAaNC3   \n",
       "0  https://api.spotify.com/v1/artists/1gkSl4XpHIH...  1gkSl4XpHIHI4I1WQbfXOE   \n",
       "0  https://api.spotify.com/v1/artists/3GpAL7oEFD3...  3GpAL7oEFD37IJDOOiirqy   \n",
       "\n",
       "         name    type                                    uri  \\\n",
       "0     Phoenix  artist  spotify:artist:1xU878Z1QtBldR7ru9owdU   \n",
       "0     Radio 4  artist  spotify:artist:2oWyxHNcxMcrvNIHMX2apR   \n",
       "0  Mount Sims  artist  spotify:artist:2UyhhfLOvfLs7ZhzsAaNC3   \n",
       "0     Peaches  artist  spotify:artist:1gkSl4XpHIHI4I1WQbfXOE   \n",
       "0    Zongamin  artist  spotify:artist:3GpAL7oEFD37IJDOOiirqy   \n",
       "\n",
       "                               external_urls.spotify                 song_id  \n",
       "0  https://open.spotify.com/artist/1xU878Z1QtBldR...  3AA8xNhDC0MpqwkGX3EP5V  \n",
       "0  https://open.spotify.com/artist/2oWyxHNcxMcrvN...  2i8lRhmZNKaM1ypHwRybuD  \n",
       "0  https://open.spotify.com/artist/2UyhhfLOvfLs7Z...  4flxgPC0426CEeSrzQIic0  \n",
       "0  https://open.spotify.com/artist/1gkSl4XpHIHI4I...  1XHFob24QklIXtLRopKirJ  \n",
       "0  https://open.spotify.com/artist/3GpAL7oEFD37IJ...  4JB847zlgViLq8tJIzRsZy  "
      ]
     },
     "execution_count": 36,
     "metadata": {},
     "output_type": "execute_result"
    }
   ],
   "source": [
    "artist_df = pd.DataFrame(columns=['href', 'id', 'name', 'type', 'uri'])\n",
    "for mini_df in tracks['artists_dfs']:\n",
    "    artist_df = pd.concat([artist_df, mini_df], axis=0)\n",
    "artist_df.head()"
   ]
  },
  {
   "cell_type": "code",
   "execution_count": 37,
   "id": "daebd731",
   "metadata": {},
   "outputs": [
    {
     "data": {
      "text/html": [
       "<div>\n",
       "<style scoped>\n",
       "    .dataframe tbody tr th:only-of-type {\n",
       "        vertical-align: middle;\n",
       "    }\n",
       "\n",
       "    .dataframe tbody tr th {\n",
       "        vertical-align: top;\n",
       "    }\n",
       "\n",
       "    .dataframe thead th {\n",
       "        text-align: right;\n",
       "    }\n",
       "</style>\n",
       "<table border=\"1\" class=\"dataframe\">\n",
       "  <thead>\n",
       "    <tr style=\"text-align: right;\">\n",
       "      <th></th>\n",
       "      <th>added_at</th>\n",
       "      <th>is_local</th>\n",
       "      <th>primary_color</th>\n",
       "      <th>added_by.external_urls.spotify</th>\n",
       "      <th>added_by.href</th>\n",
       "      <th>added_by.id</th>\n",
       "      <th>added_by.type</th>\n",
       "      <th>added_by.uri</th>\n",
       "      <th>track.album.album_type</th>\n",
       "      <th>track.album.artists</th>\n",
       "      <th>...</th>\n",
       "      <th>track.uri</th>\n",
       "      <th>video_thumbnail.url</th>\n",
       "      <th>artists_dfs</th>\n",
       "      <th>href</th>\n",
       "      <th>id</th>\n",
       "      <th>name</th>\n",
       "      <th>type</th>\n",
       "      <th>uri</th>\n",
       "      <th>external_urls.spotify</th>\n",
       "      <th>song_id</th>\n",
       "    </tr>\n",
       "  </thead>\n",
       "  <tbody>\n",
       "    <tr>\n",
       "      <th>0</th>\n",
       "      <td>2016-04-13T17:09:41Z</td>\n",
       "      <td>False</td>\n",
       "      <td>None</td>\n",
       "      <td>https://open.spotify.com/user/secretagentfrog</td>\n",
       "      <td>https://api.spotify.com/v1/users/secretagentfrog</td>\n",
       "      <td>secretagentfrog</td>\n",
       "      <td>user</td>\n",
       "      <td>spotify:user:secretagentfrog</td>\n",
       "      <td>album</td>\n",
       "      <td>[{'external_urls': {'spotify': 'https://open.s...</td>\n",
       "      <td>...</td>\n",
       "      <td>spotify:track:3AA8xNhDC0MpqwkGX3EP5V</td>\n",
       "      <td>None</td>\n",
       "      <td>...</td>\n",
       "      <td>https://api.spotify.com/v1/artists/1xU878Z1QtB...</td>\n",
       "      <td>1xU878Z1QtBldR7ru9owdU</td>\n",
       "      <td>Phoenix</td>\n",
       "      <td>artist</td>\n",
       "      <td>spotify:artist:1xU878Z1QtBldR7ru9owdU</td>\n",
       "      <td>https://open.spotify.com/artist/1xU878Z1QtBldR...</td>\n",
       "      <td>3AA8xNhDC0MpqwkGX3EP5V</td>\n",
       "    </tr>\n",
       "    <tr>\n",
       "      <th>1</th>\n",
       "      <td>2016-04-13T17:09:41Z</td>\n",
       "      <td>False</td>\n",
       "      <td>None</td>\n",
       "      <td>https://open.spotify.com/user/secretagentfrog</td>\n",
       "      <td>https://api.spotify.com/v1/users/secretagentfrog</td>\n",
       "      <td>secretagentfrog</td>\n",
       "      <td>user</td>\n",
       "      <td>spotify:user:secretagentfrog</td>\n",
       "      <td>single</td>\n",
       "      <td>[{'external_urls': {'spotify': 'https://open.s...</td>\n",
       "      <td>...</td>\n",
       "      <td>spotify:track:2i8lRhmZNKaM1ypHwRybuD</td>\n",
       "      <td>None</td>\n",
       "      <td>...</td>\n",
       "      <td>https://api.spotify.com/v1/artists/2oWyxHNcxMc...</td>\n",
       "      <td>2oWyxHNcxMcrvNIHMX2apR</td>\n",
       "      <td>Radio 4</td>\n",
       "      <td>artist</td>\n",
       "      <td>spotify:artist:2oWyxHNcxMcrvNIHMX2apR</td>\n",
       "      <td>https://open.spotify.com/artist/2oWyxHNcxMcrvN...</td>\n",
       "      <td>2i8lRhmZNKaM1ypHwRybuD</td>\n",
       "    </tr>\n",
       "    <tr>\n",
       "      <th>2</th>\n",
       "      <td>2016-04-13T17:09:41Z</td>\n",
       "      <td>False</td>\n",
       "      <td>None</td>\n",
       "      <td>https://open.spotify.com/user/secretagentfrog</td>\n",
       "      <td>https://api.spotify.com/v1/users/secretagentfrog</td>\n",
       "      <td>secretagentfrog</td>\n",
       "      <td>user</td>\n",
       "      <td>spotify:user:secretagentfrog</td>\n",
       "      <td>album</td>\n",
       "      <td>[{'external_urls': {'spotify': 'https://open.s...</td>\n",
       "      <td>...</td>\n",
       "      <td>spotify:track:4flxgPC0426CEeSrzQIic0</td>\n",
       "      <td>None</td>\n",
       "      <td>...</td>\n",
       "      <td>https://api.spotify.com/v1/artists/2UyhhfLOvfL...</td>\n",
       "      <td>2UyhhfLOvfLs7ZhzsAaNC3</td>\n",
       "      <td>Mount Sims</td>\n",
       "      <td>artist</td>\n",
       "      <td>spotify:artist:2UyhhfLOvfLs7ZhzsAaNC3</td>\n",
       "      <td>https://open.spotify.com/artist/2UyhhfLOvfLs7Z...</td>\n",
       "      <td>4flxgPC0426CEeSrzQIic0</td>\n",
       "    </tr>\n",
       "    <tr>\n",
       "      <th>3</th>\n",
       "      <td>2016-04-13T17:09:41Z</td>\n",
       "      <td>False</td>\n",
       "      <td>None</td>\n",
       "      <td>https://open.spotify.com/user/secretagentfrog</td>\n",
       "      <td>https://api.spotify.com/v1/users/secretagentfrog</td>\n",
       "      <td>secretagentfrog</td>\n",
       "      <td>user</td>\n",
       "      <td>spotify:user:secretagentfrog</td>\n",
       "      <td>album</td>\n",
       "      <td>[{'external_urls': {'spotify': 'https://open.s...</td>\n",
       "      <td>...</td>\n",
       "      <td>spotify:track:1XHFob24QklIXtLRopKirJ</td>\n",
       "      <td>None</td>\n",
       "      <td>...</td>\n",
       "      <td>https://api.spotify.com/v1/artists/1gkSl4XpHIH...</td>\n",
       "      <td>1gkSl4XpHIHI4I1WQbfXOE</td>\n",
       "      <td>Peaches</td>\n",
       "      <td>artist</td>\n",
       "      <td>spotify:artist:1gkSl4XpHIHI4I1WQbfXOE</td>\n",
       "      <td>https://open.spotify.com/artist/1gkSl4XpHIHI4I...</td>\n",
       "      <td>1XHFob24QklIXtLRopKirJ</td>\n",
       "    </tr>\n",
       "    <tr>\n",
       "      <th>4</th>\n",
       "      <td>2016-04-13T17:09:41Z</td>\n",
       "      <td>False</td>\n",
       "      <td>None</td>\n",
       "      <td>https://open.spotify.com/user/secretagentfrog</td>\n",
       "      <td>https://api.spotify.com/v1/users/secretagentfrog</td>\n",
       "      <td>secretagentfrog</td>\n",
       "      <td>user</td>\n",
       "      <td>spotify:user:secretagentfrog</td>\n",
       "      <td>album</td>\n",
       "      <td>[{'external_urls': {'spotify': 'https://open.s...</td>\n",
       "      <td>...</td>\n",
       "      <td>spotify:track:4JB847zlgViLq8tJIzRsZy</td>\n",
       "      <td>None</td>\n",
       "      <td>...</td>\n",
       "      <td>https://api.spotify.com/v1/artists/3GpAL7oEFD3...</td>\n",
       "      <td>3GpAL7oEFD37IJDOOiirqy</td>\n",
       "      <td>Zongamin</td>\n",
       "      <td>artist</td>\n",
       "      <td>spotify:artist:3GpAL7oEFD37IJDOOiirqy</td>\n",
       "      <td>https://open.spotify.com/artist/3GpAL7oEFD37IJ...</td>\n",
       "      <td>4JB847zlgViLq8tJIzRsZy</td>\n",
       "    </tr>\n",
       "  </tbody>\n",
       "</table>\n",
       "<p>5 rows × 48 columns</p>\n",
       "</div>"
      ],
      "text/plain": [
       "               added_at  is_local primary_color  \\\n",
       "0  2016-04-13T17:09:41Z     False          None   \n",
       "1  2016-04-13T17:09:41Z     False          None   \n",
       "2  2016-04-13T17:09:41Z     False          None   \n",
       "3  2016-04-13T17:09:41Z     False          None   \n",
       "4  2016-04-13T17:09:41Z     False          None   \n",
       "\n",
       "                  added_by.external_urls.spotify  \\\n",
       "0  https://open.spotify.com/user/secretagentfrog   \n",
       "1  https://open.spotify.com/user/secretagentfrog   \n",
       "2  https://open.spotify.com/user/secretagentfrog   \n",
       "3  https://open.spotify.com/user/secretagentfrog   \n",
       "4  https://open.spotify.com/user/secretagentfrog   \n",
       "\n",
       "                                      added_by.href      added_by.id  \\\n",
       "0  https://api.spotify.com/v1/users/secretagentfrog  secretagentfrog   \n",
       "1  https://api.spotify.com/v1/users/secretagentfrog  secretagentfrog   \n",
       "2  https://api.spotify.com/v1/users/secretagentfrog  secretagentfrog   \n",
       "3  https://api.spotify.com/v1/users/secretagentfrog  secretagentfrog   \n",
       "4  https://api.spotify.com/v1/users/secretagentfrog  secretagentfrog   \n",
       "\n",
       "  added_by.type                  added_by.uri track.album.album_type  \\\n",
       "0          user  spotify:user:secretagentfrog                  album   \n",
       "1          user  spotify:user:secretagentfrog                 single   \n",
       "2          user  spotify:user:secretagentfrog                  album   \n",
       "3          user  spotify:user:secretagentfrog                  album   \n",
       "4          user  spotify:user:secretagentfrog                  album   \n",
       "\n",
       "                                 track.album.artists  ...  \\\n",
       "0  [{'external_urls': {'spotify': 'https://open.s...  ...   \n",
       "1  [{'external_urls': {'spotify': 'https://open.s...  ...   \n",
       "2  [{'external_urls': {'spotify': 'https://open.s...  ...   \n",
       "3  [{'external_urls': {'spotify': 'https://open.s...  ...   \n",
       "4  [{'external_urls': {'spotify': 'https://open.s...  ...   \n",
       "\n",
       "                              track.uri video_thumbnail.url  \\\n",
       "0  spotify:track:3AA8xNhDC0MpqwkGX3EP5V                None   \n",
       "1  spotify:track:2i8lRhmZNKaM1ypHwRybuD                None   \n",
       "2  spotify:track:4flxgPC0426CEeSrzQIic0                None   \n",
       "3  spotify:track:1XHFob24QklIXtLRopKirJ                None   \n",
       "4  spotify:track:4JB847zlgViLq8tJIzRsZy                None   \n",
       "\n",
       "                                         artists_dfs  \\\n",
       "0                                                ...   \n",
       "1                                                ...   \n",
       "2                                                ...   \n",
       "3                                                ...   \n",
       "4                                                ...   \n",
       "\n",
       "                                                href                      id  \\\n",
       "0  https://api.spotify.com/v1/artists/1xU878Z1QtB...  1xU878Z1QtBldR7ru9owdU   \n",
       "1  https://api.spotify.com/v1/artists/2oWyxHNcxMc...  2oWyxHNcxMcrvNIHMX2apR   \n",
       "2  https://api.spotify.com/v1/artists/2UyhhfLOvfL...  2UyhhfLOvfLs7ZhzsAaNC3   \n",
       "3  https://api.spotify.com/v1/artists/1gkSl4XpHIH...  1gkSl4XpHIHI4I1WQbfXOE   \n",
       "4  https://api.spotify.com/v1/artists/3GpAL7oEFD3...  3GpAL7oEFD37IJDOOiirqy   \n",
       "\n",
       "         name    type                                    uri  \\\n",
       "0     Phoenix  artist  spotify:artist:1xU878Z1QtBldR7ru9owdU   \n",
       "1     Radio 4  artist  spotify:artist:2oWyxHNcxMcrvNIHMX2apR   \n",
       "2  Mount Sims  artist  spotify:artist:2UyhhfLOvfLs7ZhzsAaNC3   \n",
       "3     Peaches  artist  spotify:artist:1gkSl4XpHIHI4I1WQbfXOE   \n",
       "4    Zongamin  artist  spotify:artist:3GpAL7oEFD37IJDOOiirqy   \n",
       "\n",
       "                               external_urls.spotify                 song_id  \n",
       "0  https://open.spotify.com/artist/1xU878Z1QtBldR...  3AA8xNhDC0MpqwkGX3EP5V  \n",
       "1  https://open.spotify.com/artist/2oWyxHNcxMcrvN...  2i8lRhmZNKaM1ypHwRybuD  \n",
       "2  https://open.spotify.com/artist/2UyhhfLOvfLs7Z...  4flxgPC0426CEeSrzQIic0  \n",
       "3  https://open.spotify.com/artist/1gkSl4XpHIHI4I...  1XHFob24QklIXtLRopKirJ  \n",
       "4  https://open.spotify.com/artist/3GpAL7oEFD37IJ...  4JB847zlgViLq8tJIzRsZy  \n",
       "\n",
       "[5 rows x 48 columns]"
      ]
     },
     "execution_count": 37,
     "metadata": {},
     "output_type": "execute_result"
    }
   ],
   "source": [
    "df_merged = pd.merge(left=tracks,\n",
    "                    right=artist_df,\n",
    "                    how='inner',\n",
    "                    left_on='track.id',\n",
    "                    right_on='song_id')\n",
    "df_merged.head()"
   ]
  },
  {
   "cell_type": "code",
   "execution_count": 38,
   "id": "950aa078",
   "metadata": {},
   "outputs": [
    {
     "data": {
      "text/html": [
       "<div>\n",
       "<style scoped>\n",
       "    .dataframe tbody tr th:only-of-type {\n",
       "        vertical-align: middle;\n",
       "    }\n",
       "\n",
       "    .dataframe tbody tr th {\n",
       "        vertical-align: top;\n",
       "    }\n",
       "\n",
       "    .dataframe thead th {\n",
       "        text-align: right;\n",
       "    }\n",
       "</style>\n",
       "<table border=\"1\" class=\"dataframe\">\n",
       "  <thead>\n",
       "    <tr style=\"text-align: right;\">\n",
       "      <th></th>\n",
       "      <th>track.name</th>\n",
       "      <th>name</th>\n",
       "      <th>song_id</th>\n",
       "    </tr>\n",
       "  </thead>\n",
       "  <tbody>\n",
       "    <tr>\n",
       "      <th>0</th>\n",
       "      <td>If I Ever Feel Better</td>\n",
       "      <td>Phoenix</td>\n",
       "      <td>3AA8xNhDC0MpqwkGX3EP5V</td>\n",
       "    </tr>\n",
       "    <tr>\n",
       "      <th>1</th>\n",
       "      <td>Dance To The Underground</td>\n",
       "      <td>Radio 4</td>\n",
       "      <td>2i8lRhmZNKaM1ypHwRybuD</td>\n",
       "    </tr>\n",
       "    <tr>\n",
       "      <th>2</th>\n",
       "      <td>How We Do</td>\n",
       "      <td>Mount Sims</td>\n",
       "      <td>4flxgPC0426CEeSrzQIic0</td>\n",
       "    </tr>\n",
       "    <tr>\n",
       "      <th>3</th>\n",
       "      <td>Fuck the Pain Away</td>\n",
       "      <td>Peaches</td>\n",
       "      <td>1XHFob24QklIXtLRopKirJ</td>\n",
       "    </tr>\n",
       "    <tr>\n",
       "      <th>4</th>\n",
       "      <td>Street Surgery 2</td>\n",
       "      <td>Zongamin</td>\n",
       "      <td>4JB847zlgViLq8tJIzRsZy</td>\n",
       "    </tr>\n",
       "    <tr>\n",
       "      <th>...</th>\n",
       "      <td>...</td>\n",
       "      <td>...</td>\n",
       "      <td>...</td>\n",
       "    </tr>\n",
       "    <tr>\n",
       "      <th>12676</th>\n",
       "      <td>Hate Is an Attractive Force</td>\n",
       "      <td>SLEEP RADIO</td>\n",
       "      <td>1v6vHkDHBjm4OHUzeOKber</td>\n",
       "    </tr>\n",
       "    <tr>\n",
       "      <th>12677</th>\n",
       "      <td>Promises</td>\n",
       "      <td>Dorian Concept</td>\n",
       "      <td>5TN8n4LQS8Or2WEnU56pXs</td>\n",
       "    </tr>\n",
       "    <tr>\n",
       "      <th>12678</th>\n",
       "      <td>16 Beat</td>\n",
       "      <td>Metronomy</td>\n",
       "      <td>6MEzr1cmAJi3FXBjXVXMnm</td>\n",
       "    </tr>\n",
       "    <tr>\n",
       "      <th>12679</th>\n",
       "      <td>Amplified In The Silence</td>\n",
       "      <td>Manchester Orchestra</td>\n",
       "      <td>6ovSjbBKatyx9KvWsxkAZo</td>\n",
       "    </tr>\n",
       "    <tr>\n",
       "      <th>12680</th>\n",
       "      <td>The Wrong Side</td>\n",
       "      <td>The Joy Formidable</td>\n",
       "      <td>6CO46FIr0FSGT0h0QXjpmH</td>\n",
       "    </tr>\n",
       "  </tbody>\n",
       "</table>\n",
       "<p>12681 rows × 3 columns</p>\n",
       "</div>"
      ],
      "text/plain": [
       "                        track.name                  name  \\\n",
       "0            If I Ever Feel Better               Phoenix   \n",
       "1         Dance To The Underground               Radio 4   \n",
       "2                        How We Do            Mount Sims   \n",
       "3               Fuck the Pain Away               Peaches   \n",
       "4                 Street Surgery 2              Zongamin   \n",
       "...                            ...                   ...   \n",
       "12676  Hate Is an Attractive Force           SLEEP RADIO   \n",
       "12677                     Promises        Dorian Concept   \n",
       "12678                      16 Beat             Metronomy   \n",
       "12679     Amplified In The Silence  Manchester Orchestra   \n",
       "12680               The Wrong Side    The Joy Formidable   \n",
       "\n",
       "                      song_id  \n",
       "0      3AA8xNhDC0MpqwkGX3EP5V  \n",
       "1      2i8lRhmZNKaM1ypHwRybuD  \n",
       "2      4flxgPC0426CEeSrzQIic0  \n",
       "3      1XHFob24QklIXtLRopKirJ  \n",
       "4      4JB847zlgViLq8tJIzRsZy  \n",
       "...                       ...  \n",
       "12676  1v6vHkDHBjm4OHUzeOKber  \n",
       "12677  5TN8n4LQS8Or2WEnU56pXs  \n",
       "12678  6MEzr1cmAJi3FXBjXVXMnm  \n",
       "12679  6ovSjbBKatyx9KvWsxkAZo  \n",
       "12680  6CO46FIr0FSGT0h0QXjpmH  \n",
       "\n",
       "[12681 rows x 3 columns]"
      ]
     },
     "execution_count": 38,
     "metadata": {},
     "output_type": "execute_result"
    }
   ],
   "source": [
    "df_final2 = df_merged[['track.name', 'name', 'song_id']]\n",
    "df_final2"
   ]
  },
  {
   "cell_type": "code",
   "execution_count": 73,
   "id": "cd6625d9",
   "metadata": {},
   "outputs": [],
   "source": [
    "df_final2.to_csv('df_final2.csv', index=False)"
   ]
  },
  {
   "cell_type": "code",
   "execution_count": null,
   "id": "d01c9f60",
   "metadata": {},
   "outputs": [],
   "source": []
  },
  {
   "cell_type": "markdown",
   "id": "cc7c7f40",
   "metadata": {},
   "source": [
    "### Playlists | Playlist #3"
   ]
  },
  {
   "cell_type": "code",
   "execution_count": 39,
   "id": "784a6898",
   "metadata": {
    "id": "mbK1y25Ds0U5"
   },
   "outputs": [],
   "source": [
    "playlist = sp.user_playlist_tracks(\"spotify\", \"1YL4XoegERoragv0RK2RC9\")"
   ]
  },
  {
   "cell_type": "code",
   "execution_count": 40,
   "id": "2d8f02e0",
   "metadata": {
    "colab": {
     "base_uri": "https://localhost:8080/"
    },
    "executionInfo": {
     "elapsed": 724,
     "status": "ok",
     "timestamp": 1619600561407,
     "user": {
      "displayName": "David Henriques",
      "photoUrl": "",
      "userId": "14332050621134291491"
     },
     "user_tz": -60
    },
    "id": "mGHkfglOs_lj",
    "outputId": "23cf666a-c40e-4848-b906-905ed84a91eb"
   },
   "outputs": [
    {
     "data": {
      "text/plain": [
       "9994"
      ]
     },
     "execution_count": 40,
     "metadata": {},
     "output_type": "execute_result"
    }
   ],
   "source": [
    "playlist[\"total\"] "
   ]
  },
  {
   "cell_type": "code",
   "execution_count": 41,
   "id": "3a20f01a",
   "metadata": {},
   "outputs": [
    {
     "data": {
      "text/plain": [
       "100"
      ]
     },
     "execution_count": 41,
     "metadata": {},
     "output_type": "execute_result"
    }
   ],
   "source": [
    "len(playlist[\"items\"])"
   ]
  },
  {
   "cell_type": "code",
   "execution_count": 42,
   "id": "080fb250",
   "metadata": {},
   "outputs": [
    {
     "data": {
      "text/plain": [
       "9994"
      ]
     },
     "execution_count": 42,
     "metadata": {},
     "output_type": "execute_result"
    }
   ],
   "source": [
    "all_tracks = get_playlist_tracks(\"1YL4XoegERoragv0RK2RC9\")\n",
    "len(all_tracks)"
   ]
  },
  {
   "cell_type": "code",
   "execution_count": 43,
   "id": "0ac0c88e",
   "metadata": {},
   "outputs": [],
   "source": [
    "tracks = json_normalize(all_tracks)"
   ]
  },
  {
   "cell_type": "code",
   "execution_count": 44,
   "id": "eed5af79",
   "metadata": {},
   "outputs": [
    {
     "data": {
      "text/plain": [
       "[{'external_urls': {'spotify': 'https://open.spotify.com/artist/4qwGe91Bz9K2T8jXTZ815W'},\n",
       "  'href': 'https://api.spotify.com/v1/artists/4qwGe91Bz9K2T8jXTZ815W',\n",
       "  'id': '4qwGe91Bz9K2T8jXTZ815W',\n",
       "  'name': 'Janet Jackson',\n",
       "  'type': 'artist',\n",
       "  'uri': 'spotify:artist:4qwGe91Bz9K2T8jXTZ815W'}]"
      ]
     },
     "execution_count": 44,
     "metadata": {},
     "output_type": "execute_result"
    }
   ],
   "source": [
    "tracks['track.artists'][0]"
   ]
  },
  {
   "cell_type": "code",
   "execution_count": 45,
   "id": "da159137",
   "metadata": {},
   "outputs": [
    {
     "data": {
      "text/plain": [
       "'1IQu8MIytsL3io4PvubwtW'"
      ]
     },
     "execution_count": 45,
     "metadata": {},
     "output_type": "execute_result"
    }
   ],
   "source": [
    "tracks['track.id'][0]"
   ]
  },
  {
   "cell_type": "code",
   "execution_count": 46,
   "id": "5241875d",
   "metadata": {},
   "outputs": [
    {
     "data": {
      "text/html": [
       "<div>\n",
       "<style scoped>\n",
       "    .dataframe tbody tr th:only-of-type {\n",
       "        vertical-align: middle;\n",
       "    }\n",
       "\n",
       "    .dataframe tbody tr th {\n",
       "        vertical-align: top;\n",
       "    }\n",
       "\n",
       "    .dataframe thead th {\n",
       "        text-align: right;\n",
       "    }\n",
       "</style>\n",
       "<table border=\"1\" class=\"dataframe\">\n",
       "  <thead>\n",
       "    <tr style=\"text-align: right;\">\n",
       "      <th></th>\n",
       "      <th>href</th>\n",
       "      <th>id</th>\n",
       "      <th>name</th>\n",
       "      <th>type</th>\n",
       "      <th>uri</th>\n",
       "      <th>external_urls.spotify</th>\n",
       "      <th>song_id</th>\n",
       "    </tr>\n",
       "  </thead>\n",
       "  <tbody>\n",
       "    <tr>\n",
       "      <th>0</th>\n",
       "      <td>https://api.spotify.com/v1/artists/4qwGe91Bz9K...</td>\n",
       "      <td>4qwGe91Bz9K2T8jXTZ815W</td>\n",
       "      <td>Janet Jackson</td>\n",
       "      <td>artist</td>\n",
       "      <td>spotify:artist:4qwGe91Bz9K2T8jXTZ815W</td>\n",
       "      <td>https://open.spotify.com/artist/4qwGe91Bz9K2T8...</td>\n",
       "      <td>1IQu8MIytsL3io4PvubwtW</td>\n",
       "    </tr>\n",
       "  </tbody>\n",
       "</table>\n",
       "</div>"
      ],
      "text/plain": [
       "                                                href                      id  \\\n",
       "0  https://api.spotify.com/v1/artists/4qwGe91Bz9K...  4qwGe91Bz9K2T8jXTZ815W   \n",
       "\n",
       "            name    type                                    uri  \\\n",
       "0  Janet Jackson  artist  spotify:artist:4qwGe91Bz9K2T8jXTZ815W   \n",
       "\n",
       "                               external_urls.spotify                 song_id  \n",
       "0  https://open.spotify.com/artist/4qwGe91Bz9K2T8...  1IQu8MIytsL3io4PvubwtW  "
      ]
     },
     "execution_count": 46,
     "metadata": {},
     "output_type": "execute_result"
    }
   ],
   "source": [
    "tracks['artists_dfs'] = tracks.apply(expand_list_dict2, axis=1)\n",
    "tracks['artists_dfs'][0]"
   ]
  },
  {
   "cell_type": "code",
   "execution_count": 47,
   "id": "47097aff",
   "metadata": {},
   "outputs": [
    {
     "data": {
      "text/html": [
       "<div>\n",
       "<style scoped>\n",
       "    .dataframe tbody tr th:only-of-type {\n",
       "        vertical-align: middle;\n",
       "    }\n",
       "\n",
       "    .dataframe tbody tr th {\n",
       "        vertical-align: top;\n",
       "    }\n",
       "\n",
       "    .dataframe thead th {\n",
       "        text-align: right;\n",
       "    }\n",
       "</style>\n",
       "<table border=\"1\" class=\"dataframe\">\n",
       "  <thead>\n",
       "    <tr style=\"text-align: right;\">\n",
       "      <th></th>\n",
       "      <th>href</th>\n",
       "      <th>id</th>\n",
       "      <th>name</th>\n",
       "      <th>type</th>\n",
       "      <th>uri</th>\n",
       "      <th>external_urls.spotify</th>\n",
       "      <th>song_id</th>\n",
       "    </tr>\n",
       "  </thead>\n",
       "  <tbody>\n",
       "    <tr>\n",
       "      <th>0</th>\n",
       "      <td>https://api.spotify.com/v1/artists/4qwGe91Bz9K...</td>\n",
       "      <td>4qwGe91Bz9K2T8jXTZ815W</td>\n",
       "      <td>Janet Jackson</td>\n",
       "      <td>artist</td>\n",
       "      <td>spotify:artist:4qwGe91Bz9K2T8jXTZ815W</td>\n",
       "      <td>https://open.spotify.com/artist/4qwGe91Bz9K2T8...</td>\n",
       "      <td>1IQu8MIytsL3io4PvubwtW</td>\n",
       "    </tr>\n",
       "    <tr>\n",
       "      <th>0</th>\n",
       "      <td>https://api.spotify.com/v1/artists/2HcwFjNelS4...</td>\n",
       "      <td>2HcwFjNelS49kFbfvMxQYw</td>\n",
       "      <td>Robbie Williams</td>\n",
       "      <td>artist</td>\n",
       "      <td>spotify:artist:2HcwFjNelS49kFbfvMxQYw</td>\n",
       "      <td>https://open.spotify.com/artist/2HcwFjNelS49kF...</td>\n",
       "      <td>1YW369EbVyjpeLE3YbsjKQ</td>\n",
       "    </tr>\n",
       "    <tr>\n",
       "      <th>0</th>\n",
       "      <td>https://api.spotify.com/v1/artists/7pUbbv62ajr...</td>\n",
       "      <td>7pUbbv62ajr1JDVFaftZJT</td>\n",
       "      <td>Marcia Hines</td>\n",
       "      <td>artist</td>\n",
       "      <td>spotify:artist:7pUbbv62ajr1JDVFaftZJT</td>\n",
       "      <td>https://open.spotify.com/artist/7pUbbv62ajr1JD...</td>\n",
       "      <td>5r4a8aHraKhaK1u7OKvHwW</td>\n",
       "    </tr>\n",
       "    <tr>\n",
       "      <th>0</th>\n",
       "      <td>https://api.spotify.com/v1/artists/75L9s8KVrhC...</td>\n",
       "      <td>75L9s8KVrhCNtBUkZFnDFW</td>\n",
       "      <td>Vanessa Williams</td>\n",
       "      <td>artist</td>\n",
       "      <td>spotify:artist:75L9s8KVrhCNtBUkZFnDFW</td>\n",
       "      <td>https://open.spotify.com/artist/75L9s8KVrhCNtB...</td>\n",
       "      <td>4qjrCkcVbsYlitCqbBkeKe</td>\n",
       "    </tr>\n",
       "    <tr>\n",
       "      <th>0</th>\n",
       "      <td>https://api.spotify.com/v1/artists/74XFHRwlV6O...</td>\n",
       "      <td>74XFHRwlV6OrjEM0A2NCMF</td>\n",
       "      <td>Paramore</td>\n",
       "      <td>artist</td>\n",
       "      <td>spotify:artist:74XFHRwlV6OrjEM0A2NCMF</td>\n",
       "      <td>https://open.spotify.com/artist/74XFHRwlV6OrjE...</td>\n",
       "      <td>5u8F359esydVGN4thHmSRz</td>\n",
       "    </tr>\n",
       "  </tbody>\n",
       "</table>\n",
       "</div>"
      ],
      "text/plain": [
       "                                                href                      id  \\\n",
       "0  https://api.spotify.com/v1/artists/4qwGe91Bz9K...  4qwGe91Bz9K2T8jXTZ815W   \n",
       "0  https://api.spotify.com/v1/artists/2HcwFjNelS4...  2HcwFjNelS49kFbfvMxQYw   \n",
       "0  https://api.spotify.com/v1/artists/7pUbbv62ajr...  7pUbbv62ajr1JDVFaftZJT   \n",
       "0  https://api.spotify.com/v1/artists/75L9s8KVrhC...  75L9s8KVrhCNtBUkZFnDFW   \n",
       "0  https://api.spotify.com/v1/artists/74XFHRwlV6O...  74XFHRwlV6OrjEM0A2NCMF   \n",
       "\n",
       "               name    type                                    uri  \\\n",
       "0     Janet Jackson  artist  spotify:artist:4qwGe91Bz9K2T8jXTZ815W   \n",
       "0   Robbie Williams  artist  spotify:artist:2HcwFjNelS49kFbfvMxQYw   \n",
       "0      Marcia Hines  artist  spotify:artist:7pUbbv62ajr1JDVFaftZJT   \n",
       "0  Vanessa Williams  artist  spotify:artist:75L9s8KVrhCNtBUkZFnDFW   \n",
       "0          Paramore  artist  spotify:artist:74XFHRwlV6OrjEM0A2NCMF   \n",
       "\n",
       "                               external_urls.spotify                 song_id  \n",
       "0  https://open.spotify.com/artist/4qwGe91Bz9K2T8...  1IQu8MIytsL3io4PvubwtW  \n",
       "0  https://open.spotify.com/artist/2HcwFjNelS49kF...  1YW369EbVyjpeLE3YbsjKQ  \n",
       "0  https://open.spotify.com/artist/7pUbbv62ajr1JD...  5r4a8aHraKhaK1u7OKvHwW  \n",
       "0  https://open.spotify.com/artist/75L9s8KVrhCNtB...  4qjrCkcVbsYlitCqbBkeKe  \n",
       "0  https://open.spotify.com/artist/74XFHRwlV6OrjE...  5u8F359esydVGN4thHmSRz  "
      ]
     },
     "execution_count": 47,
     "metadata": {},
     "output_type": "execute_result"
    }
   ],
   "source": [
    "artist_df = pd.DataFrame(columns=['href', 'id', 'name', 'type', 'uri'])\n",
    "for mini_df in tracks['artists_dfs']:\n",
    "    artist_df = pd.concat([artist_df, mini_df], axis=0)\n",
    "artist_df.head()"
   ]
  },
  {
   "cell_type": "code",
   "execution_count": 48,
   "id": "e14747b1",
   "metadata": {},
   "outputs": [
    {
     "data": {
      "text/html": [
       "<div>\n",
       "<style scoped>\n",
       "    .dataframe tbody tr th:only-of-type {\n",
       "        vertical-align: middle;\n",
       "    }\n",
       "\n",
       "    .dataframe tbody tr th {\n",
       "        vertical-align: top;\n",
       "    }\n",
       "\n",
       "    .dataframe thead th {\n",
       "        text-align: right;\n",
       "    }\n",
       "</style>\n",
       "<table border=\"1\" class=\"dataframe\">\n",
       "  <thead>\n",
       "    <tr style=\"text-align: right;\">\n",
       "      <th></th>\n",
       "      <th>added_at</th>\n",
       "      <th>is_local</th>\n",
       "      <th>primary_color</th>\n",
       "      <th>added_by.external_urls.spotify</th>\n",
       "      <th>added_by.href</th>\n",
       "      <th>added_by.id</th>\n",
       "      <th>added_by.type</th>\n",
       "      <th>added_by.uri</th>\n",
       "      <th>track.album.album_type</th>\n",
       "      <th>track.album.artists</th>\n",
       "      <th>...</th>\n",
       "      <th>video_thumbnail.url</th>\n",
       "      <th>track</th>\n",
       "      <th>artists_dfs</th>\n",
       "      <th>href</th>\n",
       "      <th>id</th>\n",
       "      <th>name</th>\n",
       "      <th>type</th>\n",
       "      <th>uri</th>\n",
       "      <th>external_urls.spotify</th>\n",
       "      <th>song_id</th>\n",
       "    </tr>\n",
       "  </thead>\n",
       "  <tbody>\n",
       "    <tr>\n",
       "      <th>0</th>\n",
       "      <td>2021-08-08T09:26:31Z</td>\n",
       "      <td>False</td>\n",
       "      <td>None</td>\n",
       "      <td>https://open.spotify.com/user/bradnumber1</td>\n",
       "      <td>https://api.spotify.com/v1/users/bradnumber1</td>\n",
       "      <td>bradnumber1</td>\n",
       "      <td>user</td>\n",
       "      <td>spotify:user:bradnumber1</td>\n",
       "      <td>compilation</td>\n",
       "      <td>[{'external_urls': {'spotify': 'https://open.s...</td>\n",
       "      <td>...</td>\n",
       "      <td>None</td>\n",
       "      <td>NaN</td>\n",
       "      <td>...</td>\n",
       "      <td>https://api.spotify.com/v1/artists/4qwGe91Bz9K...</td>\n",
       "      <td>4qwGe91Bz9K2T8jXTZ815W</td>\n",
       "      <td>Janet Jackson</td>\n",
       "      <td>artist</td>\n",
       "      <td>spotify:artist:4qwGe91Bz9K2T8jXTZ815W</td>\n",
       "      <td>https://open.spotify.com/artist/4qwGe91Bz9K2T8...</td>\n",
       "      <td>1IQu8MIytsL3io4PvubwtW</td>\n",
       "    </tr>\n",
       "    <tr>\n",
       "      <th>1</th>\n",
       "      <td>2021-08-08T09:26:31Z</td>\n",
       "      <td>False</td>\n",
       "      <td>None</td>\n",
       "      <td>https://open.spotify.com/user/bradnumber1</td>\n",
       "      <td>https://api.spotify.com/v1/users/bradnumber1</td>\n",
       "      <td>bradnumber1</td>\n",
       "      <td>user</td>\n",
       "      <td>spotify:user:bradnumber1</td>\n",
       "      <td>album</td>\n",
       "      <td>[{'external_urls': {'spotify': 'https://open.s...</td>\n",
       "      <td>...</td>\n",
       "      <td>None</td>\n",
       "      <td>NaN</td>\n",
       "      <td>...</td>\n",
       "      <td>https://api.spotify.com/v1/artists/2HcwFjNelS4...</td>\n",
       "      <td>2HcwFjNelS49kFbfvMxQYw</td>\n",
       "      <td>Robbie Williams</td>\n",
       "      <td>artist</td>\n",
       "      <td>spotify:artist:2HcwFjNelS49kFbfvMxQYw</td>\n",
       "      <td>https://open.spotify.com/artist/2HcwFjNelS49kF...</td>\n",
       "      <td>1YW369EbVyjpeLE3YbsjKQ</td>\n",
       "    </tr>\n",
       "    <tr>\n",
       "      <th>2</th>\n",
       "      <td>2021-08-08T09:26:31Z</td>\n",
       "      <td>False</td>\n",
       "      <td>None</td>\n",
       "      <td>https://open.spotify.com/user/bradnumber1</td>\n",
       "      <td>https://api.spotify.com/v1/users/bradnumber1</td>\n",
       "      <td>bradnumber1</td>\n",
       "      <td>user</td>\n",
       "      <td>spotify:user:bradnumber1</td>\n",
       "      <td>single</td>\n",
       "      <td>[{'external_urls': {'spotify': 'https://open.s...</td>\n",
       "      <td>...</td>\n",
       "      <td>None</td>\n",
       "      <td>NaN</td>\n",
       "      <td>...</td>\n",
       "      <td>https://api.spotify.com/v1/artists/7pUbbv62ajr...</td>\n",
       "      <td>7pUbbv62ajr1JDVFaftZJT</td>\n",
       "      <td>Marcia Hines</td>\n",
       "      <td>artist</td>\n",
       "      <td>spotify:artist:7pUbbv62ajr1JDVFaftZJT</td>\n",
       "      <td>https://open.spotify.com/artist/7pUbbv62ajr1JD...</td>\n",
       "      <td>5r4a8aHraKhaK1u7OKvHwW</td>\n",
       "    </tr>\n",
       "    <tr>\n",
       "      <th>3</th>\n",
       "      <td>2021-08-08T09:26:31Z</td>\n",
       "      <td>False</td>\n",
       "      <td>None</td>\n",
       "      <td>https://open.spotify.com/user/bradnumber1</td>\n",
       "      <td>https://api.spotify.com/v1/users/bradnumber1</td>\n",
       "      <td>bradnumber1</td>\n",
       "      <td>user</td>\n",
       "      <td>spotify:user:bradnumber1</td>\n",
       "      <td>compilation</td>\n",
       "      <td>[{'external_urls': {'spotify': 'https://open.s...</td>\n",
       "      <td>...</td>\n",
       "      <td>None</td>\n",
       "      <td>NaN</td>\n",
       "      <td>...</td>\n",
       "      <td>https://api.spotify.com/v1/artists/75L9s8KVrhC...</td>\n",
       "      <td>75L9s8KVrhCNtBUkZFnDFW</td>\n",
       "      <td>Vanessa Williams</td>\n",
       "      <td>artist</td>\n",
       "      <td>spotify:artist:75L9s8KVrhCNtBUkZFnDFW</td>\n",
       "      <td>https://open.spotify.com/artist/75L9s8KVrhCNtB...</td>\n",
       "      <td>4qjrCkcVbsYlitCqbBkeKe</td>\n",
       "    </tr>\n",
       "    <tr>\n",
       "      <th>4</th>\n",
       "      <td>2021-08-08T09:26:31Z</td>\n",
       "      <td>False</td>\n",
       "      <td>None</td>\n",
       "      <td>https://open.spotify.com/user/bradnumber1</td>\n",
       "      <td>https://api.spotify.com/v1/users/bradnumber1</td>\n",
       "      <td>bradnumber1</td>\n",
       "      <td>user</td>\n",
       "      <td>spotify:user:bradnumber1</td>\n",
       "      <td>album</td>\n",
       "      <td>[{'external_urls': {'spotify': 'https://open.s...</td>\n",
       "      <td>...</td>\n",
       "      <td>None</td>\n",
       "      <td>NaN</td>\n",
       "      <td>...</td>\n",
       "      <td>https://api.spotify.com/v1/artists/74XFHRwlV6O...</td>\n",
       "      <td>74XFHRwlV6OrjEM0A2NCMF</td>\n",
       "      <td>Paramore</td>\n",
       "      <td>artist</td>\n",
       "      <td>spotify:artist:74XFHRwlV6OrjEM0A2NCMF</td>\n",
       "      <td>https://open.spotify.com/artist/74XFHRwlV6OrjE...</td>\n",
       "      <td>5u8F359esydVGN4thHmSRz</td>\n",
       "    </tr>\n",
       "  </tbody>\n",
       "</table>\n",
       "<p>5 rows × 49 columns</p>\n",
       "</div>"
      ],
      "text/plain": [
       "               added_at  is_local primary_color  \\\n",
       "0  2021-08-08T09:26:31Z     False          None   \n",
       "1  2021-08-08T09:26:31Z     False          None   \n",
       "2  2021-08-08T09:26:31Z     False          None   \n",
       "3  2021-08-08T09:26:31Z     False          None   \n",
       "4  2021-08-08T09:26:31Z     False          None   \n",
       "\n",
       "              added_by.external_urls.spotify  \\\n",
       "0  https://open.spotify.com/user/bradnumber1   \n",
       "1  https://open.spotify.com/user/bradnumber1   \n",
       "2  https://open.spotify.com/user/bradnumber1   \n",
       "3  https://open.spotify.com/user/bradnumber1   \n",
       "4  https://open.spotify.com/user/bradnumber1   \n",
       "\n",
       "                                  added_by.href  added_by.id added_by.type  \\\n",
       "0  https://api.spotify.com/v1/users/bradnumber1  bradnumber1          user   \n",
       "1  https://api.spotify.com/v1/users/bradnumber1  bradnumber1          user   \n",
       "2  https://api.spotify.com/v1/users/bradnumber1  bradnumber1          user   \n",
       "3  https://api.spotify.com/v1/users/bradnumber1  bradnumber1          user   \n",
       "4  https://api.spotify.com/v1/users/bradnumber1  bradnumber1          user   \n",
       "\n",
       "               added_by.uri track.album.album_type  \\\n",
       "0  spotify:user:bradnumber1            compilation   \n",
       "1  spotify:user:bradnumber1                  album   \n",
       "2  spotify:user:bradnumber1                 single   \n",
       "3  spotify:user:bradnumber1            compilation   \n",
       "4  spotify:user:bradnumber1                  album   \n",
       "\n",
       "                                 track.album.artists  ... video_thumbnail.url  \\\n",
       "0  [{'external_urls': {'spotify': 'https://open.s...  ...                None   \n",
       "1  [{'external_urls': {'spotify': 'https://open.s...  ...                None   \n",
       "2  [{'external_urls': {'spotify': 'https://open.s...  ...                None   \n",
       "3  [{'external_urls': {'spotify': 'https://open.s...  ...                None   \n",
       "4  [{'external_urls': {'spotify': 'https://open.s...  ...                None   \n",
       "\n",
       "  track                                        artists_dfs  \\\n",
       "0   NaN                                                ...   \n",
       "1   NaN                                                ...   \n",
       "2   NaN                                                ...   \n",
       "3   NaN                                                ...   \n",
       "4   NaN                                                ...   \n",
       "\n",
       "                                                href                      id  \\\n",
       "0  https://api.spotify.com/v1/artists/4qwGe91Bz9K...  4qwGe91Bz9K2T8jXTZ815W   \n",
       "1  https://api.spotify.com/v1/artists/2HcwFjNelS4...  2HcwFjNelS49kFbfvMxQYw   \n",
       "2  https://api.spotify.com/v1/artists/7pUbbv62ajr...  7pUbbv62ajr1JDVFaftZJT   \n",
       "3  https://api.spotify.com/v1/artists/75L9s8KVrhC...  75L9s8KVrhCNtBUkZFnDFW   \n",
       "4  https://api.spotify.com/v1/artists/74XFHRwlV6O...  74XFHRwlV6OrjEM0A2NCMF   \n",
       "\n",
       "               name    type                                    uri  \\\n",
       "0     Janet Jackson  artist  spotify:artist:4qwGe91Bz9K2T8jXTZ815W   \n",
       "1   Robbie Williams  artist  spotify:artist:2HcwFjNelS49kFbfvMxQYw   \n",
       "2      Marcia Hines  artist  spotify:artist:7pUbbv62ajr1JDVFaftZJT   \n",
       "3  Vanessa Williams  artist  spotify:artist:75L9s8KVrhCNtBUkZFnDFW   \n",
       "4          Paramore  artist  spotify:artist:74XFHRwlV6OrjEM0A2NCMF   \n",
       "\n",
       "                               external_urls.spotify                 song_id  \n",
       "0  https://open.spotify.com/artist/4qwGe91Bz9K2T8...  1IQu8MIytsL3io4PvubwtW  \n",
       "1  https://open.spotify.com/artist/2HcwFjNelS49kF...  1YW369EbVyjpeLE3YbsjKQ  \n",
       "2  https://open.spotify.com/artist/7pUbbv62ajr1JD...  5r4a8aHraKhaK1u7OKvHwW  \n",
       "3  https://open.spotify.com/artist/75L9s8KVrhCNtB...  4qjrCkcVbsYlitCqbBkeKe  \n",
       "4  https://open.spotify.com/artist/74XFHRwlV6OrjE...  5u8F359esydVGN4thHmSRz  \n",
       "\n",
       "[5 rows x 49 columns]"
      ]
     },
     "execution_count": 48,
     "metadata": {},
     "output_type": "execute_result"
    }
   ],
   "source": [
    "df_merged = pd.merge(left=tracks,\n",
    "                    right=artist_df,\n",
    "                    how='inner',\n",
    "                    left_on='track.id',\n",
    "                    right_on='song_id')\n",
    "df_merged.head()"
   ]
  },
  {
   "cell_type": "code",
   "execution_count": 49,
   "id": "a81a7338",
   "metadata": {
    "scrolled": false
   },
   "outputs": [
    {
     "data": {
      "text/html": [
       "<div>\n",
       "<style scoped>\n",
       "    .dataframe tbody tr th:only-of-type {\n",
       "        vertical-align: middle;\n",
       "    }\n",
       "\n",
       "    .dataframe tbody tr th {\n",
       "        vertical-align: top;\n",
       "    }\n",
       "\n",
       "    .dataframe thead th {\n",
       "        text-align: right;\n",
       "    }\n",
       "</style>\n",
       "<table border=\"1\" class=\"dataframe\">\n",
       "  <thead>\n",
       "    <tr style=\"text-align: right;\">\n",
       "      <th></th>\n",
       "      <th>track.name</th>\n",
       "      <th>name</th>\n",
       "      <th>song_id</th>\n",
       "    </tr>\n",
       "  </thead>\n",
       "  <tbody>\n",
       "    <tr>\n",
       "      <th>0</th>\n",
       "      <td>Runaway</td>\n",
       "      <td>Janet Jackson</td>\n",
       "      <td>1IQu8MIytsL3io4PvubwtW</td>\n",
       "    </tr>\n",
       "    <tr>\n",
       "      <th>1</th>\n",
       "      <td>Love My Life</td>\n",
       "      <td>Robbie Williams</td>\n",
       "      <td>1YW369EbVyjpeLE3YbsjKQ</td>\n",
       "    </tr>\n",
       "    <tr>\n",
       "      <th>2</th>\n",
       "      <td>You - Remastered</td>\n",
       "      <td>Marcia Hines</td>\n",
       "      <td>5r4a8aHraKhaK1u7OKvHwW</td>\n",
       "    </tr>\n",
       "    <tr>\n",
       "      <th>3</th>\n",
       "      <td>Colors Of The Wind - End Title</td>\n",
       "      <td>Vanessa Williams</td>\n",
       "      <td>4qjrCkcVbsYlitCqbBkeKe</td>\n",
       "    </tr>\n",
       "    <tr>\n",
       "      <th>4</th>\n",
       "      <td>Careful</td>\n",
       "      <td>Paramore</td>\n",
       "      <td>5u8F359esydVGN4thHmSRz</td>\n",
       "    </tr>\n",
       "    <tr>\n",
       "      <th>...</th>\n",
       "      <td>...</td>\n",
       "      <td>...</td>\n",
       "      <td>...</td>\n",
       "    </tr>\n",
       "    <tr>\n",
       "      <th>12153</th>\n",
       "      <td>Good as Hell (feat. Ariana Grande) - Remix</td>\n",
       "      <td>Lizzo</td>\n",
       "      <td>07Oz5StQ7GRoygNLaXs2pd</td>\n",
       "    </tr>\n",
       "    <tr>\n",
       "      <th>12154</th>\n",
       "      <td>Good as Hell (feat. Ariana Grande) - Remix</td>\n",
       "      <td>Ariana Grande</td>\n",
       "      <td>07Oz5StQ7GRoygNLaXs2pd</td>\n",
       "    </tr>\n",
       "    <tr>\n",
       "      <th>12155</th>\n",
       "      <td>Who's Laughing Now</td>\n",
       "      <td>Ava Max</td>\n",
       "      <td>73h4oe03sZy8bXfQLfnqMv</td>\n",
       "    </tr>\n",
       "    <tr>\n",
       "      <th>12156</th>\n",
       "      <td>Stop Callin' Me</td>\n",
       "      <td>Shakaya</td>\n",
       "      <td>0uaB8avevQNDd32qEqh6mx</td>\n",
       "    </tr>\n",
       "    <tr>\n",
       "      <th>12157</th>\n",
       "      <td>Dream Lover - 2006 Remaster</td>\n",
       "      <td>Bobby Darin</td>\n",
       "      <td>4GqMYg91LJXiLjvQBFc3s0</td>\n",
       "    </tr>\n",
       "  </tbody>\n",
       "</table>\n",
       "<p>12158 rows × 3 columns</p>\n",
       "</div>"
      ],
      "text/plain": [
       "                                       track.name              name  \\\n",
       "0                                         Runaway     Janet Jackson   \n",
       "1                                    Love My Life   Robbie Williams   \n",
       "2                                You - Remastered      Marcia Hines   \n",
       "3                  Colors Of The Wind - End Title  Vanessa Williams   \n",
       "4                                         Careful          Paramore   \n",
       "...                                           ...               ...   \n",
       "12153  Good as Hell (feat. Ariana Grande) - Remix             Lizzo   \n",
       "12154  Good as Hell (feat. Ariana Grande) - Remix     Ariana Grande   \n",
       "12155                          Who's Laughing Now           Ava Max   \n",
       "12156                             Stop Callin' Me           Shakaya   \n",
       "12157                 Dream Lover - 2006 Remaster       Bobby Darin   \n",
       "\n",
       "                      song_id  \n",
       "0      1IQu8MIytsL3io4PvubwtW  \n",
       "1      1YW369EbVyjpeLE3YbsjKQ  \n",
       "2      5r4a8aHraKhaK1u7OKvHwW  \n",
       "3      4qjrCkcVbsYlitCqbBkeKe  \n",
       "4      5u8F359esydVGN4thHmSRz  \n",
       "...                       ...  \n",
       "12153  07Oz5StQ7GRoygNLaXs2pd  \n",
       "12154  07Oz5StQ7GRoygNLaXs2pd  \n",
       "12155  73h4oe03sZy8bXfQLfnqMv  \n",
       "12156  0uaB8avevQNDd32qEqh6mx  \n",
       "12157  4GqMYg91LJXiLjvQBFc3s0  \n",
       "\n",
       "[12158 rows x 3 columns]"
      ]
     },
     "execution_count": 49,
     "metadata": {},
     "output_type": "execute_result"
    }
   ],
   "source": [
    "df_final3 = df_merged[['track.name', 'name', 'song_id']]\n",
    "df_final3"
   ]
  },
  {
   "cell_type": "code",
   "execution_count": 74,
   "id": "64f4c77b",
   "metadata": {},
   "outputs": [],
   "source": [
    "df_final3.to_csv('df_final3.csv', index=False)"
   ]
  },
  {
   "cell_type": "code",
   "execution_count": null,
   "id": "bc7f6057",
   "metadata": {},
   "outputs": [],
   "source": []
  },
  {
   "cell_type": "markdown",
   "id": "8e41cb3a",
   "metadata": {},
   "source": [
    "### Playlists | Playlist #4"
   ]
  },
  {
   "cell_type": "code",
   "execution_count": 93,
   "id": "c8322696",
   "metadata": {
    "id": "mbK1y25Ds0U5"
   },
   "outputs": [],
   "source": [
    "playlist = sp.user_playlist_tracks(\"spotify\", \"6sx8rpqIE3R9sfGSb8Udxy\")"
   ]
  },
  {
   "cell_type": "code",
   "execution_count": 94,
   "id": "0860aa46",
   "metadata": {
    "colab": {
     "base_uri": "https://localhost:8080/"
    },
    "executionInfo": {
     "elapsed": 724,
     "status": "ok",
     "timestamp": 1619600561407,
     "user": {
      "displayName": "David Henriques",
      "photoUrl": "",
      "userId": "14332050621134291491"
     },
     "user_tz": -60
    },
    "id": "mGHkfglOs_lj",
    "outputId": "23cf666a-c40e-4848-b906-905ed84a91eb"
   },
   "outputs": [
    {
     "data": {
      "text/plain": [
       "9999"
      ]
     },
     "execution_count": 94,
     "metadata": {},
     "output_type": "execute_result"
    }
   ],
   "source": [
    "playlist[\"total\"] "
   ]
  },
  {
   "cell_type": "code",
   "execution_count": 95,
   "id": "190835d5",
   "metadata": {},
   "outputs": [
    {
     "data": {
      "text/plain": [
       "100"
      ]
     },
     "execution_count": 95,
     "metadata": {},
     "output_type": "execute_result"
    }
   ],
   "source": [
    "len(playlist[\"items\"])"
   ]
  },
  {
   "cell_type": "code",
   "execution_count": 96,
   "id": "67f838df",
   "metadata": {},
   "outputs": [
    {
     "data": {
      "text/plain": [
       "9999"
      ]
     },
     "execution_count": 96,
     "metadata": {},
     "output_type": "execute_result"
    }
   ],
   "source": [
    "all_tracks = get_playlist_tracks(\"6sx8rpqIE3R9sfGSb8Udxy\")\n",
    "len(all_tracks)"
   ]
  },
  {
   "cell_type": "code",
   "execution_count": 101,
   "id": "bc89d95a",
   "metadata": {},
   "outputs": [],
   "source": [
    "tracks = json_normalize(all_tracks)"
   ]
  },
  {
   "cell_type": "code",
   "execution_count": 102,
   "id": "65298077",
   "metadata": {},
   "outputs": [
    {
     "data": {
      "text/plain": [
       "[{'external_urls': {'spotify': 'https://open.spotify.com/artist/6i6WlGzQtXtz7GcC5H5st5'},\n",
       "  'href': 'https://api.spotify.com/v1/artists/6i6WlGzQtXtz7GcC5H5st5',\n",
       "  'id': '6i6WlGzQtXtz7GcC5H5st5',\n",
       "  'name': '10cc',\n",
       "  'type': 'artist',\n",
       "  'uri': 'spotify:artist:6i6WlGzQtXtz7GcC5H5st5'}]"
      ]
     },
     "execution_count": 102,
     "metadata": {},
     "output_type": "execute_result"
    }
   ],
   "source": [
    "tracks['track.artists'][0]"
   ]
  },
  {
   "cell_type": "code",
   "execution_count": 103,
   "id": "4f8a8d4e",
   "metadata": {},
   "outputs": [
    {
     "data": {
      "text/plain": [
       "'3wSaVY4rEIAwl5RcHfSUrz'"
      ]
     },
     "execution_count": 103,
     "metadata": {},
     "output_type": "execute_result"
    }
   ],
   "source": [
    "tracks['track.id'][0]"
   ]
  },
  {
   "cell_type": "code",
   "execution_count": 104,
   "id": "48c53287",
   "metadata": {},
   "outputs": [
    {
     "data": {
      "text/html": [
       "<div>\n",
       "<style scoped>\n",
       "    .dataframe tbody tr th:only-of-type {\n",
       "        vertical-align: middle;\n",
       "    }\n",
       "\n",
       "    .dataframe tbody tr th {\n",
       "        vertical-align: top;\n",
       "    }\n",
       "\n",
       "    .dataframe thead th {\n",
       "        text-align: right;\n",
       "    }\n",
       "</style>\n",
       "<table border=\"1\" class=\"dataframe\">\n",
       "  <thead>\n",
       "    <tr style=\"text-align: right;\">\n",
       "      <th></th>\n",
       "      <th>href</th>\n",
       "      <th>id</th>\n",
       "      <th>name</th>\n",
       "      <th>type</th>\n",
       "      <th>uri</th>\n",
       "      <th>external_urls.spotify</th>\n",
       "      <th>song_id</th>\n",
       "    </tr>\n",
       "  </thead>\n",
       "  <tbody>\n",
       "    <tr>\n",
       "      <th>0</th>\n",
       "      <td>https://api.spotify.com/v1/artists/6i6WlGzQtXt...</td>\n",
       "      <td>6i6WlGzQtXtz7GcC5H5st5</td>\n",
       "      <td>10cc</td>\n",
       "      <td>artist</td>\n",
       "      <td>spotify:artist:6i6WlGzQtXtz7GcC5H5st5</td>\n",
       "      <td>https://open.spotify.com/artist/6i6WlGzQtXtz7G...</td>\n",
       "      <td>3wSaVY4rEIAwl5RcHfSUrz</td>\n",
       "    </tr>\n",
       "  </tbody>\n",
       "</table>\n",
       "</div>"
      ],
      "text/plain": [
       "                                                href                      id  \\\n",
       "0  https://api.spotify.com/v1/artists/6i6WlGzQtXt...  6i6WlGzQtXtz7GcC5H5st5   \n",
       "\n",
       "   name    type                                    uri  \\\n",
       "0  10cc  artist  spotify:artist:6i6WlGzQtXtz7GcC5H5st5   \n",
       "\n",
       "                               external_urls.spotify                 song_id  \n",
       "0  https://open.spotify.com/artist/6i6WlGzQtXtz7G...  3wSaVY4rEIAwl5RcHfSUrz  "
      ]
     },
     "execution_count": 104,
     "metadata": {},
     "output_type": "execute_result"
    }
   ],
   "source": [
    "tracks['artists_dfs'] = tracks.apply(expand_list_dict2, axis=1)\n",
    "tracks['artists_dfs'][0]"
   ]
  },
  {
   "cell_type": "code",
   "execution_count": 105,
   "id": "b5e04cb0",
   "metadata": {},
   "outputs": [
    {
     "data": {
      "text/html": [
       "<div>\n",
       "<style scoped>\n",
       "    .dataframe tbody tr th:only-of-type {\n",
       "        vertical-align: middle;\n",
       "    }\n",
       "\n",
       "    .dataframe tbody tr th {\n",
       "        vertical-align: top;\n",
       "    }\n",
       "\n",
       "    .dataframe thead th {\n",
       "        text-align: right;\n",
       "    }\n",
       "</style>\n",
       "<table border=\"1\" class=\"dataframe\">\n",
       "  <thead>\n",
       "    <tr style=\"text-align: right;\">\n",
       "      <th></th>\n",
       "      <th>href</th>\n",
       "      <th>id</th>\n",
       "      <th>name</th>\n",
       "      <th>type</th>\n",
       "      <th>uri</th>\n",
       "      <th>external_urls.spotify</th>\n",
       "      <th>song_id</th>\n",
       "    </tr>\n",
       "  </thead>\n",
       "  <tbody>\n",
       "    <tr>\n",
       "      <th>0</th>\n",
       "      <td>https://api.spotify.com/v1/artists/6i6WlGzQtXt...</td>\n",
       "      <td>6i6WlGzQtXtz7GcC5H5st5</td>\n",
       "      <td>10cc</td>\n",
       "      <td>artist</td>\n",
       "      <td>spotify:artist:6i6WlGzQtXtz7GcC5H5st5</td>\n",
       "      <td>https://open.spotify.com/artist/6i6WlGzQtXtz7G...</td>\n",
       "      <td>3wSaVY4rEIAwl5RcHfSUrz</td>\n",
       "    </tr>\n",
       "    <tr>\n",
       "      <th>0</th>\n",
       "      <td>https://api.spotify.com/v1/artists/6i6WlGzQtXt...</td>\n",
       "      <td>6i6WlGzQtXtz7GcC5H5st5</td>\n",
       "      <td>10cc</td>\n",
       "      <td>artist</td>\n",
       "      <td>spotify:artist:6i6WlGzQtXtz7GcC5H5st5</td>\n",
       "      <td>https://open.spotify.com/artist/6i6WlGzQtXtz7G...</td>\n",
       "      <td>1LOZMYF5s8qhW7Rv4w2gun</td>\n",
       "    </tr>\n",
       "    <tr>\n",
       "      <th>0</th>\n",
       "      <td>https://api.spotify.com/v1/artists/6i6WlGzQtXt...</td>\n",
       "      <td>6i6WlGzQtXtz7GcC5H5st5</td>\n",
       "      <td>10cc</td>\n",
       "      <td>artist</td>\n",
       "      <td>spotify:artist:6i6WlGzQtXtz7GcC5H5st5</td>\n",
       "      <td>https://open.spotify.com/artist/6i6WlGzQtXtz7G...</td>\n",
       "      <td>15vb7UNhJ5c5K4exsUk3B3</td>\n",
       "    </tr>\n",
       "    <tr>\n",
       "      <th>0</th>\n",
       "      <td>https://api.spotify.com/v1/artists/6i6WlGzQtXt...</td>\n",
       "      <td>6i6WlGzQtXtz7GcC5H5st5</td>\n",
       "      <td>10cc</td>\n",
       "      <td>artist</td>\n",
       "      <td>spotify:artist:6i6WlGzQtXtz7GcC5H5st5</td>\n",
       "      <td>https://open.spotify.com/artist/6i6WlGzQtXtz7G...</td>\n",
       "      <td>1fMGRxKRtIKNyaMMGrzInM</td>\n",
       "    </tr>\n",
       "    <tr>\n",
       "      <th>0</th>\n",
       "      <td>https://api.spotify.com/v1/artists/6i6WlGzQtXt...</td>\n",
       "      <td>6i6WlGzQtXtz7GcC5H5st5</td>\n",
       "      <td>10cc</td>\n",
       "      <td>artist</td>\n",
       "      <td>spotify:artist:6i6WlGzQtXtz7GcC5H5st5</td>\n",
       "      <td>https://open.spotify.com/artist/6i6WlGzQtXtz7G...</td>\n",
       "      <td>4mmWv18Tz155oy6x7PEe3q</td>\n",
       "    </tr>\n",
       "  </tbody>\n",
       "</table>\n",
       "</div>"
      ],
      "text/plain": [
       "                                                href                      id  \\\n",
       "0  https://api.spotify.com/v1/artists/6i6WlGzQtXt...  6i6WlGzQtXtz7GcC5H5st5   \n",
       "0  https://api.spotify.com/v1/artists/6i6WlGzQtXt...  6i6WlGzQtXtz7GcC5H5st5   \n",
       "0  https://api.spotify.com/v1/artists/6i6WlGzQtXt...  6i6WlGzQtXtz7GcC5H5st5   \n",
       "0  https://api.spotify.com/v1/artists/6i6WlGzQtXt...  6i6WlGzQtXtz7GcC5H5st5   \n",
       "0  https://api.spotify.com/v1/artists/6i6WlGzQtXt...  6i6WlGzQtXtz7GcC5H5st5   \n",
       "\n",
       "   name    type                                    uri  \\\n",
       "0  10cc  artist  spotify:artist:6i6WlGzQtXtz7GcC5H5st5   \n",
       "0  10cc  artist  spotify:artist:6i6WlGzQtXtz7GcC5H5st5   \n",
       "0  10cc  artist  spotify:artist:6i6WlGzQtXtz7GcC5H5st5   \n",
       "0  10cc  artist  spotify:artist:6i6WlGzQtXtz7GcC5H5st5   \n",
       "0  10cc  artist  spotify:artist:6i6WlGzQtXtz7GcC5H5st5   \n",
       "\n",
       "                               external_urls.spotify                 song_id  \n",
       "0  https://open.spotify.com/artist/6i6WlGzQtXtz7G...  3wSaVY4rEIAwl5RcHfSUrz  \n",
       "0  https://open.spotify.com/artist/6i6WlGzQtXtz7G...  1LOZMYF5s8qhW7Rv4w2gun  \n",
       "0  https://open.spotify.com/artist/6i6WlGzQtXtz7G...  15vb7UNhJ5c5K4exsUk3B3  \n",
       "0  https://open.spotify.com/artist/6i6WlGzQtXtz7G...  1fMGRxKRtIKNyaMMGrzInM  \n",
       "0  https://open.spotify.com/artist/6i6WlGzQtXtz7G...  4mmWv18Tz155oy6x7PEe3q  "
      ]
     },
     "execution_count": 105,
     "metadata": {},
     "output_type": "execute_result"
    }
   ],
   "source": [
    "artist_df = pd.DataFrame(columns=['href', 'id', 'name', 'type', 'uri'])\n",
    "for mini_df in tracks['artists_dfs']:\n",
    "    artist_df = pd.concat([artist_df, mini_df], axis=0)\n",
    "artist_df.head()"
   ]
  },
  {
   "cell_type": "code",
   "execution_count": 106,
   "id": "74145e28",
   "metadata": {},
   "outputs": [
    {
     "data": {
      "text/html": [
       "<div>\n",
       "<style scoped>\n",
       "    .dataframe tbody tr th:only-of-type {\n",
       "        vertical-align: middle;\n",
       "    }\n",
       "\n",
       "    .dataframe tbody tr th {\n",
       "        vertical-align: top;\n",
       "    }\n",
       "\n",
       "    .dataframe thead th {\n",
       "        text-align: right;\n",
       "    }\n",
       "</style>\n",
       "<table border=\"1\" class=\"dataframe\">\n",
       "  <thead>\n",
       "    <tr style=\"text-align: right;\">\n",
       "      <th></th>\n",
       "      <th>added_at</th>\n",
       "      <th>is_local</th>\n",
       "      <th>primary_color</th>\n",
       "      <th>added_by.external_urls.spotify</th>\n",
       "      <th>added_by.href</th>\n",
       "      <th>added_by.id</th>\n",
       "      <th>added_by.type</th>\n",
       "      <th>added_by.uri</th>\n",
       "      <th>track.album.album_type</th>\n",
       "      <th>track.album.artists</th>\n",
       "      <th>...</th>\n",
       "      <th>track.uri</th>\n",
       "      <th>video_thumbnail.url</th>\n",
       "      <th>artists_dfs</th>\n",
       "      <th>href</th>\n",
       "      <th>id</th>\n",
       "      <th>name</th>\n",
       "      <th>type</th>\n",
       "      <th>uri</th>\n",
       "      <th>external_urls.spotify</th>\n",
       "      <th>song_id</th>\n",
       "    </tr>\n",
       "  </thead>\n",
       "  <tbody>\n",
       "    <tr>\n",
       "      <th>0</th>\n",
       "      <td>2022-12-27T12:42:24Z</td>\n",
       "      <td>False</td>\n",
       "      <td>None</td>\n",
       "      <td>https://open.spotify.com/user/paterbobo</td>\n",
       "      <td>https://api.spotify.com/v1/users/paterbobo</td>\n",
       "      <td>paterbobo</td>\n",
       "      <td>user</td>\n",
       "      <td>spotify:user:paterbobo</td>\n",
       "      <td>compilation</td>\n",
       "      <td>[{'external_urls': {'spotify': 'https://open.s...</td>\n",
       "      <td>...</td>\n",
       "      <td>spotify:track:3wSaVY4rEIAwl5RcHfSUrz</td>\n",
       "      <td>None</td>\n",
       "      <td>...</td>\n",
       "      <td>https://api.spotify.com/v1/artists/6i6WlGzQtXt...</td>\n",
       "      <td>6i6WlGzQtXtz7GcC5H5st5</td>\n",
       "      <td>10cc</td>\n",
       "      <td>artist</td>\n",
       "      <td>spotify:artist:6i6WlGzQtXtz7GcC5H5st5</td>\n",
       "      <td>https://open.spotify.com/artist/6i6WlGzQtXtz7G...</td>\n",
       "      <td>3wSaVY4rEIAwl5RcHfSUrz</td>\n",
       "    </tr>\n",
       "    <tr>\n",
       "      <th>1</th>\n",
       "      <td>2022-12-27T12:42:36Z</td>\n",
       "      <td>False</td>\n",
       "      <td>None</td>\n",
       "      <td>https://open.spotify.com/user/paterbobo</td>\n",
       "      <td>https://api.spotify.com/v1/users/paterbobo</td>\n",
       "      <td>paterbobo</td>\n",
       "      <td>user</td>\n",
       "      <td>spotify:user:paterbobo</td>\n",
       "      <td>album</td>\n",
       "      <td>[{'external_urls': {'spotify': 'https://open.s...</td>\n",
       "      <td>...</td>\n",
       "      <td>spotify:track:1LOZMYF5s8qhW7Rv4w2gun</td>\n",
       "      <td>None</td>\n",
       "      <td>...</td>\n",
       "      <td>https://api.spotify.com/v1/artists/6i6WlGzQtXt...</td>\n",
       "      <td>6i6WlGzQtXtz7GcC5H5st5</td>\n",
       "      <td>10cc</td>\n",
       "      <td>artist</td>\n",
       "      <td>spotify:artist:6i6WlGzQtXtz7GcC5H5st5</td>\n",
       "      <td>https://open.spotify.com/artist/6i6WlGzQtXtz7G...</td>\n",
       "      <td>1LOZMYF5s8qhW7Rv4w2gun</td>\n",
       "    </tr>\n",
       "    <tr>\n",
       "      <th>2</th>\n",
       "      <td>2022-12-27T19:08:09Z</td>\n",
       "      <td>False</td>\n",
       "      <td>None</td>\n",
       "      <td>https://open.spotify.com/user/paterbobo</td>\n",
       "      <td>https://api.spotify.com/v1/users/paterbobo</td>\n",
       "      <td>paterbobo</td>\n",
       "      <td>user</td>\n",
       "      <td>spotify:user:paterbobo</td>\n",
       "      <td>album</td>\n",
       "      <td>[{'external_urls': {'spotify': 'https://open.s...</td>\n",
       "      <td>...</td>\n",
       "      <td>spotify:track:15vb7UNhJ5c5K4exsUk3B3</td>\n",
       "      <td>None</td>\n",
       "      <td>...</td>\n",
       "      <td>https://api.spotify.com/v1/artists/6i6WlGzQtXt...</td>\n",
       "      <td>6i6WlGzQtXtz7GcC5H5st5</td>\n",
       "      <td>10cc</td>\n",
       "      <td>artist</td>\n",
       "      <td>spotify:artist:6i6WlGzQtXtz7GcC5H5st5</td>\n",
       "      <td>https://open.spotify.com/artist/6i6WlGzQtXtz7G...</td>\n",
       "      <td>15vb7UNhJ5c5K4exsUk3B3</td>\n",
       "    </tr>\n",
       "    <tr>\n",
       "      <th>3</th>\n",
       "      <td>2022-12-27T19:08:21Z</td>\n",
       "      <td>False</td>\n",
       "      <td>None</td>\n",
       "      <td>https://open.spotify.com/user/paterbobo</td>\n",
       "      <td>https://api.spotify.com/v1/users/paterbobo</td>\n",
       "      <td>paterbobo</td>\n",
       "      <td>user</td>\n",
       "      <td>spotify:user:paterbobo</td>\n",
       "      <td>album</td>\n",
       "      <td>[{'external_urls': {'spotify': 'https://open.s...</td>\n",
       "      <td>...</td>\n",
       "      <td>spotify:track:1fMGRxKRtIKNyaMMGrzInM</td>\n",
       "      <td>None</td>\n",
       "      <td>...</td>\n",
       "      <td>https://api.spotify.com/v1/artists/6i6WlGzQtXt...</td>\n",
       "      <td>6i6WlGzQtXtz7GcC5H5st5</td>\n",
       "      <td>10cc</td>\n",
       "      <td>artist</td>\n",
       "      <td>spotify:artist:6i6WlGzQtXtz7GcC5H5st5</td>\n",
       "      <td>https://open.spotify.com/artist/6i6WlGzQtXtz7G...</td>\n",
       "      <td>1fMGRxKRtIKNyaMMGrzInM</td>\n",
       "    </tr>\n",
       "    <tr>\n",
       "      <th>4</th>\n",
       "      <td>2022-12-27T19:08:38Z</td>\n",
       "      <td>False</td>\n",
       "      <td>None</td>\n",
       "      <td>https://open.spotify.com/user/paterbobo</td>\n",
       "      <td>https://api.spotify.com/v1/users/paterbobo</td>\n",
       "      <td>paterbobo</td>\n",
       "      <td>user</td>\n",
       "      <td>spotify:user:paterbobo</td>\n",
       "      <td>album</td>\n",
       "      <td>[{'external_urls': {'spotify': 'https://open.s...</td>\n",
       "      <td>...</td>\n",
       "      <td>spotify:track:4mmWv18Tz155oy6x7PEe3q</td>\n",
       "      <td>None</td>\n",
       "      <td>...</td>\n",
       "      <td>https://api.spotify.com/v1/artists/6i6WlGzQtXt...</td>\n",
       "      <td>6i6WlGzQtXtz7GcC5H5st5</td>\n",
       "      <td>10cc</td>\n",
       "      <td>artist</td>\n",
       "      <td>spotify:artist:6i6WlGzQtXtz7GcC5H5st5</td>\n",
       "      <td>https://open.spotify.com/artist/6i6WlGzQtXtz7G...</td>\n",
       "      <td>4mmWv18Tz155oy6x7PEe3q</td>\n",
       "    </tr>\n",
       "  </tbody>\n",
       "</table>\n",
       "<p>5 rows × 48 columns</p>\n",
       "</div>"
      ],
      "text/plain": [
       "               added_at  is_local primary_color  \\\n",
       "0  2022-12-27T12:42:24Z     False          None   \n",
       "1  2022-12-27T12:42:36Z     False          None   \n",
       "2  2022-12-27T19:08:09Z     False          None   \n",
       "3  2022-12-27T19:08:21Z     False          None   \n",
       "4  2022-12-27T19:08:38Z     False          None   \n",
       "\n",
       "            added_by.external_urls.spotify  \\\n",
       "0  https://open.spotify.com/user/paterbobo   \n",
       "1  https://open.spotify.com/user/paterbobo   \n",
       "2  https://open.spotify.com/user/paterbobo   \n",
       "3  https://open.spotify.com/user/paterbobo   \n",
       "4  https://open.spotify.com/user/paterbobo   \n",
       "\n",
       "                                added_by.href added_by.id added_by.type  \\\n",
       "0  https://api.spotify.com/v1/users/paterbobo   paterbobo          user   \n",
       "1  https://api.spotify.com/v1/users/paterbobo   paterbobo          user   \n",
       "2  https://api.spotify.com/v1/users/paterbobo   paterbobo          user   \n",
       "3  https://api.spotify.com/v1/users/paterbobo   paterbobo          user   \n",
       "4  https://api.spotify.com/v1/users/paterbobo   paterbobo          user   \n",
       "\n",
       "             added_by.uri track.album.album_type  \\\n",
       "0  spotify:user:paterbobo            compilation   \n",
       "1  spotify:user:paterbobo                  album   \n",
       "2  spotify:user:paterbobo                  album   \n",
       "3  spotify:user:paterbobo                  album   \n",
       "4  spotify:user:paterbobo                  album   \n",
       "\n",
       "                                 track.album.artists  ...  \\\n",
       "0  [{'external_urls': {'spotify': 'https://open.s...  ...   \n",
       "1  [{'external_urls': {'spotify': 'https://open.s...  ...   \n",
       "2  [{'external_urls': {'spotify': 'https://open.s...  ...   \n",
       "3  [{'external_urls': {'spotify': 'https://open.s...  ...   \n",
       "4  [{'external_urls': {'spotify': 'https://open.s...  ...   \n",
       "\n",
       "                              track.uri video_thumbnail.url  \\\n",
       "0  spotify:track:3wSaVY4rEIAwl5RcHfSUrz                None   \n",
       "1  spotify:track:1LOZMYF5s8qhW7Rv4w2gun                None   \n",
       "2  spotify:track:15vb7UNhJ5c5K4exsUk3B3                None   \n",
       "3  spotify:track:1fMGRxKRtIKNyaMMGrzInM                None   \n",
       "4  spotify:track:4mmWv18Tz155oy6x7PEe3q                None   \n",
       "\n",
       "                                         artists_dfs  \\\n",
       "0                                                ...   \n",
       "1                                                ...   \n",
       "2                                                ...   \n",
       "3                                                ...   \n",
       "4                                                ...   \n",
       "\n",
       "                                                href                      id  \\\n",
       "0  https://api.spotify.com/v1/artists/6i6WlGzQtXt...  6i6WlGzQtXtz7GcC5H5st5   \n",
       "1  https://api.spotify.com/v1/artists/6i6WlGzQtXt...  6i6WlGzQtXtz7GcC5H5st5   \n",
       "2  https://api.spotify.com/v1/artists/6i6WlGzQtXt...  6i6WlGzQtXtz7GcC5H5st5   \n",
       "3  https://api.spotify.com/v1/artists/6i6WlGzQtXt...  6i6WlGzQtXtz7GcC5H5st5   \n",
       "4  https://api.spotify.com/v1/artists/6i6WlGzQtXt...  6i6WlGzQtXtz7GcC5H5st5   \n",
       "\n",
       "   name    type                                    uri  \\\n",
       "0  10cc  artist  spotify:artist:6i6WlGzQtXtz7GcC5H5st5   \n",
       "1  10cc  artist  spotify:artist:6i6WlGzQtXtz7GcC5H5st5   \n",
       "2  10cc  artist  spotify:artist:6i6WlGzQtXtz7GcC5H5st5   \n",
       "3  10cc  artist  spotify:artist:6i6WlGzQtXtz7GcC5H5st5   \n",
       "4  10cc  artist  spotify:artist:6i6WlGzQtXtz7GcC5H5st5   \n",
       "\n",
       "                               external_urls.spotify                 song_id  \n",
       "0  https://open.spotify.com/artist/6i6WlGzQtXtz7G...  3wSaVY4rEIAwl5RcHfSUrz  \n",
       "1  https://open.spotify.com/artist/6i6WlGzQtXtz7G...  1LOZMYF5s8qhW7Rv4w2gun  \n",
       "2  https://open.spotify.com/artist/6i6WlGzQtXtz7G...  15vb7UNhJ5c5K4exsUk3B3  \n",
       "3  https://open.spotify.com/artist/6i6WlGzQtXtz7G...  1fMGRxKRtIKNyaMMGrzInM  \n",
       "4  https://open.spotify.com/artist/6i6WlGzQtXtz7G...  4mmWv18Tz155oy6x7PEe3q  \n",
       "\n",
       "[5 rows x 48 columns]"
      ]
     },
     "execution_count": 106,
     "metadata": {},
     "output_type": "execute_result"
    }
   ],
   "source": [
    "df_merged = pd.merge(left=tracks,\n",
    "                    right=artist_df,\n",
    "                    how='inner',\n",
    "                    left_on='track.id',\n",
    "                    right_on='song_id')\n",
    "df_merged.head()"
   ]
  },
  {
   "cell_type": "code",
   "execution_count": 107,
   "id": "ad650ad6",
   "metadata": {
    "scrolled": false
   },
   "outputs": [
    {
     "data": {
      "text/html": [
       "<div>\n",
       "<style scoped>\n",
       "    .dataframe tbody tr th:only-of-type {\n",
       "        vertical-align: middle;\n",
       "    }\n",
       "\n",
       "    .dataframe tbody tr th {\n",
       "        vertical-align: top;\n",
       "    }\n",
       "\n",
       "    .dataframe thead th {\n",
       "        text-align: right;\n",
       "    }\n",
       "</style>\n",
       "<table border=\"1\" class=\"dataframe\">\n",
       "  <thead>\n",
       "    <tr style=\"text-align: right;\">\n",
       "      <th></th>\n",
       "      <th>track.name</th>\n",
       "      <th>name</th>\n",
       "      <th>song_id</th>\n",
       "    </tr>\n",
       "  </thead>\n",
       "  <tbody>\n",
       "    <tr>\n",
       "      <th>0</th>\n",
       "      <td>Donna</td>\n",
       "      <td>10cc</td>\n",
       "      <td>3wSaVY4rEIAwl5RcHfSUrz</td>\n",
       "    </tr>\n",
       "    <tr>\n",
       "      <th>1</th>\n",
       "      <td>Dreadlock Holiday</td>\n",
       "      <td>10cc</td>\n",
       "      <td>1LOZMYF5s8qhW7Rv4w2gun</td>\n",
       "    </tr>\n",
       "    <tr>\n",
       "      <th>2</th>\n",
       "      <td>Oomachasaooma (Feel The Love)</td>\n",
       "      <td>10cc</td>\n",
       "      <td>15vb7UNhJ5c5K4exsUk3B3</td>\n",
       "    </tr>\n",
       "    <tr>\n",
       "      <th>3</th>\n",
       "      <td>Good Morning Judge</td>\n",
       "      <td>10cc</td>\n",
       "      <td>1fMGRxKRtIKNyaMMGrzInM</td>\n",
       "    </tr>\n",
       "    <tr>\n",
       "      <th>4</th>\n",
       "      <td>I'm Mandy Fly Me</td>\n",
       "      <td>10cc</td>\n",
       "      <td>4mmWv18Tz155oy6x7PEe3q</td>\n",
       "    </tr>\n",
       "    <tr>\n",
       "      <th>...</th>\n",
       "      <td>...</td>\n",
       "      <td>...</td>\n",
       "      <td>...</td>\n",
       "    </tr>\n",
       "    <tr>\n",
       "      <th>9646</th>\n",
       "      <td>Blue feat. Ilse de Lange</td>\n",
       "      <td>Zucchero</td>\n",
       "      <td>583qzYY2ARvSDchyq8PkTF</td>\n",
       "    </tr>\n",
       "    <tr>\n",
       "      <th>9647</th>\n",
       "      <td>Blue feat. Ilse de Lange</td>\n",
       "      <td>Ilse DeLange</td>\n",
       "      <td>583qzYY2ARvSDchyq8PkTF</td>\n",
       "    </tr>\n",
       "    <tr>\n",
       "      <th>9648</th>\n",
       "      <td>All For Love - From \"The Three Musketeers\" Sou...</td>\n",
       "      <td>Bryan Adams</td>\n",
       "      <td>3sDWjYgYzAPUcwzuo6OGs8</td>\n",
       "    </tr>\n",
       "    <tr>\n",
       "      <th>9649</th>\n",
       "      <td>All For Love - From \"The Three Musketeers\" Sou...</td>\n",
       "      <td>Sting</td>\n",
       "      <td>3sDWjYgYzAPUcwzuo6OGs8</td>\n",
       "    </tr>\n",
       "    <tr>\n",
       "      <th>9650</th>\n",
       "      <td>All For Love - From \"The Three Musketeers\" Sou...</td>\n",
       "      <td>Rod Stewart</td>\n",
       "      <td>3sDWjYgYzAPUcwzuo6OGs8</td>\n",
       "    </tr>\n",
       "  </tbody>\n",
       "</table>\n",
       "<p>9651 rows × 3 columns</p>\n",
       "</div>"
      ],
      "text/plain": [
       "                                             track.name          name  \\\n",
       "0                                                 Donna          10cc   \n",
       "1                                     Dreadlock Holiday          10cc   \n",
       "2                         Oomachasaooma (Feel The Love)          10cc   \n",
       "3                                    Good Morning Judge          10cc   \n",
       "4                                      I'm Mandy Fly Me          10cc   \n",
       "...                                                 ...           ...   \n",
       "9646                           Blue feat. Ilse de Lange      Zucchero   \n",
       "9647                           Blue feat. Ilse de Lange  Ilse DeLange   \n",
       "9648  All For Love - From \"The Three Musketeers\" Sou...   Bryan Adams   \n",
       "9649  All For Love - From \"The Three Musketeers\" Sou...         Sting   \n",
       "9650  All For Love - From \"The Three Musketeers\" Sou...   Rod Stewart   \n",
       "\n",
       "                     song_id  \n",
       "0     3wSaVY4rEIAwl5RcHfSUrz  \n",
       "1     1LOZMYF5s8qhW7Rv4w2gun  \n",
       "2     15vb7UNhJ5c5K4exsUk3B3  \n",
       "3     1fMGRxKRtIKNyaMMGrzInM  \n",
       "4     4mmWv18Tz155oy6x7PEe3q  \n",
       "...                      ...  \n",
       "9646  583qzYY2ARvSDchyq8PkTF  \n",
       "9647  583qzYY2ARvSDchyq8PkTF  \n",
       "9648  3sDWjYgYzAPUcwzuo6OGs8  \n",
       "9649  3sDWjYgYzAPUcwzuo6OGs8  \n",
       "9650  3sDWjYgYzAPUcwzuo6OGs8  \n",
       "\n",
       "[9651 rows x 3 columns]"
      ]
     },
     "execution_count": 107,
     "metadata": {},
     "output_type": "execute_result"
    }
   ],
   "source": [
    "df_final4 = df_merged[['track.name', 'name', 'song_id']]\n",
    "df_final4"
   ]
  },
  {
   "cell_type": "code",
   "execution_count": 108,
   "id": "867ff26b",
   "metadata": {},
   "outputs": [],
   "source": [
    "df_final4.to_csv('df_final4.csv', index=False)"
   ]
  },
  {
   "cell_type": "markdown",
   "id": "facff9e9",
   "metadata": {},
   "source": [
    "### Playlists | Playlist #5"
   ]
  },
  {
   "cell_type": "code",
   "execution_count": 10,
   "id": "6ec494a8",
   "metadata": {
    "id": "mbK1y25Ds0U5"
   },
   "outputs": [],
   "source": [
    "playlist = sp.user_playlist_tracks(\"spotify\", \"32twOqGf8gIswTgzG3IKxP\")"
   ]
  },
  {
   "cell_type": "code",
   "execution_count": 11,
   "id": "baef3b73",
   "metadata": {
    "colab": {
     "base_uri": "https://localhost:8080/"
    },
    "executionInfo": {
     "elapsed": 724,
     "status": "ok",
     "timestamp": 1619600561407,
     "user": {
      "displayName": "David Henriques",
      "photoUrl": "",
      "userId": "14332050621134291491"
     },
     "user_tz": -60
    },
    "id": "mGHkfglOs_lj",
    "outputId": "23cf666a-c40e-4848-b906-905ed84a91eb"
   },
   "outputs": [
    {
     "data": {
      "text/plain": [
       "9985"
      ]
     },
     "execution_count": 11,
     "metadata": {},
     "output_type": "execute_result"
    }
   ],
   "source": [
    "playlist[\"total\"] "
   ]
  },
  {
   "cell_type": "code",
   "execution_count": 12,
   "id": "3bf10782",
   "metadata": {
    "scrolled": false
   },
   "outputs": [],
   "source": [
    "# playlist['items']"
   ]
  },
  {
   "cell_type": "code",
   "execution_count": 13,
   "id": "27b6c1e7",
   "metadata": {},
   "outputs": [
    {
     "data": {
      "text/plain": [
       "100"
      ]
     },
     "execution_count": 13,
     "metadata": {},
     "output_type": "execute_result"
    }
   ],
   "source": [
    "# Each page is limited to 100 tracks, we will have to fix it:\n",
    "len(playlist[\"items\"])"
   ]
  },
  {
   "cell_type": "code",
   "execution_count": 14,
   "id": "3760ef26",
   "metadata": {},
   "outputs": [
    {
     "data": {
      "text/plain": [
       "'https://api.spotify.com/v1/playlists/32twOqGf8gIswTgzG3IKxP/tracks?offset=100&limit=100&additional_types=track'"
      ]
     },
     "execution_count": 14,
     "metadata": {},
     "output_type": "execute_result"
    }
   ],
   "source": [
    "# we could use the url to the next page which is provided...\n",
    "playlist['next']"
   ]
  },
  {
   "cell_type": "code",
   "execution_count": 15,
   "id": "4d54bfdd",
   "metadata": {},
   "outputs": [],
   "source": [
    "from random import randint\n",
    "from time import sleep\n",
    "\n",
    "def get_playlist_tracks(playlist_id):\n",
    "    results = sp.user_playlist_tracks(\"spotify\",playlist_id)\n",
    "    tracks = results['items']\n",
    "    while results['next']!=None:\n",
    "        results = sp.next(results)\n",
    "        tracks = tracks + results['items']\n",
    "        sleep(randint(1,3000)/1000) # respectful nap\n",
    "    return tracks"
   ]
  },
  {
   "cell_type": "code",
   "execution_count": 16,
   "id": "363c4909",
   "metadata": {},
   "outputs": [
    {
     "data": {
      "text/plain": [
       "9985"
      ]
     },
     "execution_count": 16,
     "metadata": {},
     "output_type": "execute_result"
    }
   ],
   "source": [
    "# this will take at least around num_pages_in_playlist * (avg_sleep_time + processing_time) = 53 * (2+0.1) = 110 seconds\n",
    "all_tracks = get_playlist_tracks(\"32twOqGf8gIswTgzG3IKxP\")\n",
    "len(all_tracks)"
   ]
  },
  {
   "cell_type": "code",
   "execution_count": 17,
   "id": "9f87b3d0",
   "metadata": {},
   "outputs": [],
   "source": [
    "import pandas as pd\n",
    "from pandas import json_normalize\n",
    "tracks = json_normalize(all_tracks)"
   ]
  },
  {
   "cell_type": "code",
   "execution_count": 18,
   "id": "44a9f08e",
   "metadata": {},
   "outputs": [
    {
     "data": {
      "text/plain": [
       "Index(['added_at', 'is_local', 'primary_color',\n",
       "       'added_by.external_urls.spotify', 'added_by.href', 'added_by.id',\n",
       "       'added_by.type', 'added_by.uri', 'track.album.album_type',\n",
       "       'track.album.artists', 'track.album.available_markets',\n",
       "       'track.album.external_urls.spotify', 'track.album.href',\n",
       "       'track.album.id', 'track.album.images', 'track.album.name',\n",
       "       'track.album.release_date', 'track.album.release_date_precision',\n",
       "       'track.album.total_tracks', 'track.album.type', 'track.album.uri',\n",
       "       'track.artists', 'track.available_markets', 'track.disc_number',\n",
       "       'track.duration_ms', 'track.episode', 'track.explicit',\n",
       "       'track.external_ids.isrc', 'track.external_urls.spotify', 'track.href',\n",
       "       'track.id', 'track.is_local', 'track.name', 'track.popularity',\n",
       "       'track.preview_url', 'track.track', 'track.track_number', 'track.type',\n",
       "       'track.uri', 'video_thumbnail.url'],\n",
       "      dtype='object')"
      ]
     },
     "execution_count": 18,
     "metadata": {},
     "output_type": "execute_result"
    }
   ],
   "source": [
    "tracks.columns"
   ]
  },
  {
   "cell_type": "code",
   "execution_count": 19,
   "id": "e2c858d1",
   "metadata": {},
   "outputs": [
    {
     "data": {
      "text/plain": [
       "[{'external_urls': {'spotify': 'https://open.spotify.com/artist/0rvjqX7ttXeg3mTy8Xscbt'},\n",
       "  'href': 'https://api.spotify.com/v1/artists/0rvjqX7ttXeg3mTy8Xscbt',\n",
       "  'id': '0rvjqX7ttXeg3mTy8Xscbt',\n",
       "  'name': 'Journey',\n",
       "  'type': 'artist',\n",
       "  'uri': 'spotify:artist:0rvjqX7ttXeg3mTy8Xscbt'}]"
      ]
     },
     "execution_count": 19,
     "metadata": {},
     "output_type": "execute_result"
    }
   ],
   "source": [
    "tracks['track.artists'][0]"
   ]
  },
  {
   "cell_type": "code",
   "execution_count": 20,
   "id": "b2c72f47",
   "metadata": {},
   "outputs": [
    {
     "data": {
      "text/plain": [
       "'77NNZQSqzLNqh2A9JhLRkg'"
      ]
     },
     "execution_count": 20,
     "metadata": {},
     "output_type": "execute_result"
    }
   ],
   "source": [
    "tracks['track.id'][0]"
   ]
  },
  {
   "cell_type": "code",
   "execution_count": 21,
   "id": "426c28f4",
   "metadata": {},
   "outputs": [],
   "source": [
    "# JOSE\n",
    "def expand_list_dict2(row):\n",
    "    artists_data = row['track.artists']\n",
    "    if isinstance(artists_data, list):  # Check if it's a list\n",
    "        artists_data = [artist for artist in artists_data if isinstance(artist, dict)]  # Filter out non-dictionaries\n",
    "        if artists_data:  # Check if there's any artist data present\n",
    "            df = json_normalize(artists_data)\n",
    "            df['song_id'] = row['track.id']\n",
    "            return df\n",
    "    return None  # Return None if it's not a list or has no valid artist data"
   ]
  },
  {
   "cell_type": "code",
   "execution_count": 22,
   "id": "de6447d0",
   "metadata": {},
   "outputs": [
    {
     "data": {
      "text/html": [
       "<div>\n",
       "<style scoped>\n",
       "    .dataframe tbody tr th:only-of-type {\n",
       "        vertical-align: middle;\n",
       "    }\n",
       "\n",
       "    .dataframe tbody tr th {\n",
       "        vertical-align: top;\n",
       "    }\n",
       "\n",
       "    .dataframe thead th {\n",
       "        text-align: right;\n",
       "    }\n",
       "</style>\n",
       "<table border=\"1\" class=\"dataframe\">\n",
       "  <thead>\n",
       "    <tr style=\"text-align: right;\">\n",
       "      <th></th>\n",
       "      <th>href</th>\n",
       "      <th>id</th>\n",
       "      <th>name</th>\n",
       "      <th>type</th>\n",
       "      <th>uri</th>\n",
       "      <th>external_urls.spotify</th>\n",
       "      <th>song_id</th>\n",
       "    </tr>\n",
       "  </thead>\n",
       "  <tbody>\n",
       "    <tr>\n",
       "      <th>0</th>\n",
       "      <td>https://api.spotify.com/v1/artists/0rvjqX7ttXe...</td>\n",
       "      <td>0rvjqX7ttXeg3mTy8Xscbt</td>\n",
       "      <td>Journey</td>\n",
       "      <td>artist</td>\n",
       "      <td>spotify:artist:0rvjqX7ttXeg3mTy8Xscbt</td>\n",
       "      <td>https://open.spotify.com/artist/0rvjqX7ttXeg3m...</td>\n",
       "      <td>77NNZQSqzLNqh2A9JhLRkg</td>\n",
       "    </tr>\n",
       "  </tbody>\n",
       "</table>\n",
       "</div>"
      ],
      "text/plain": [
       "                                                href                      id  \\\n",
       "0  https://api.spotify.com/v1/artists/0rvjqX7ttXe...  0rvjqX7ttXeg3mTy8Xscbt   \n",
       "\n",
       "      name    type                                    uri  \\\n",
       "0  Journey  artist  spotify:artist:0rvjqX7ttXeg3mTy8Xscbt   \n",
       "\n",
       "                               external_urls.spotify                 song_id  \n",
       "0  https://open.spotify.com/artist/0rvjqX7ttXeg3m...  77NNZQSqzLNqh2A9JhLRkg  "
      ]
     },
     "execution_count": 22,
     "metadata": {},
     "output_type": "execute_result"
    }
   ],
   "source": [
    "tracks['artists_dfs'] = tracks.apply(expand_list_dict2, axis=1)\n",
    "tracks['artists_dfs'][0]"
   ]
  },
  {
   "cell_type": "code",
   "execution_count": 23,
   "id": "4bbc6e3e",
   "metadata": {},
   "outputs": [
    {
     "data": {
      "text/html": [
       "<div>\n",
       "<style scoped>\n",
       "    .dataframe tbody tr th:only-of-type {\n",
       "        vertical-align: middle;\n",
       "    }\n",
       "\n",
       "    .dataframe tbody tr th {\n",
       "        vertical-align: top;\n",
       "    }\n",
       "\n",
       "    .dataframe thead th {\n",
       "        text-align: right;\n",
       "    }\n",
       "</style>\n",
       "<table border=\"1\" class=\"dataframe\">\n",
       "  <thead>\n",
       "    <tr style=\"text-align: right;\">\n",
       "      <th></th>\n",
       "      <th>href</th>\n",
       "      <th>id</th>\n",
       "      <th>name</th>\n",
       "      <th>type</th>\n",
       "      <th>uri</th>\n",
       "      <th>external_urls.spotify</th>\n",
       "      <th>song_id</th>\n",
       "    </tr>\n",
       "  </thead>\n",
       "  <tbody>\n",
       "    <tr>\n",
       "      <th>0</th>\n",
       "      <td>https://api.spotify.com/v1/artists/0rvjqX7ttXe...</td>\n",
       "      <td>0rvjqX7ttXeg3mTy8Xscbt</td>\n",
       "      <td>Journey</td>\n",
       "      <td>artist</td>\n",
       "      <td>spotify:artist:0rvjqX7ttXeg3mTy8Xscbt</td>\n",
       "      <td>https://open.spotify.com/artist/0rvjqX7ttXeg3m...</td>\n",
       "      <td>77NNZQSqzLNqh2A9JhLRkg</td>\n",
       "    </tr>\n",
       "    <tr>\n",
       "      <th>0</th>\n",
       "      <td>https://api.spotify.com/v1/artists/4gzpq5DPGxS...</td>\n",
       "      <td>4gzpq5DPGxSnKTe4SA8HAU</td>\n",
       "      <td>Coldplay</td>\n",
       "      <td>artist</td>\n",
       "      <td>spotify:artist:4gzpq5DPGxSnKTe4SA8HAU</td>\n",
       "      <td>https://open.spotify.com/artist/4gzpq5DPGxSnKT...</td>\n",
       "      <td>7LVHVU3tWfcxj5aiPFEW4Q</td>\n",
       "    </tr>\n",
       "    <tr>\n",
       "      <th>0</th>\n",
       "      <td>https://api.spotify.com/v1/artists/4gzpq5DPGxS...</td>\n",
       "      <td>4gzpq5DPGxSnKTe4SA8HAU</td>\n",
       "      <td>Coldplay</td>\n",
       "      <td>artist</td>\n",
       "      <td>spotify:artist:4gzpq5DPGxSnKTe4SA8HAU</td>\n",
       "      <td>https://open.spotify.com/artist/4gzpq5DPGxSnKT...</td>\n",
       "      <td>75JFxkI2RXiU7L9VXzMkle</td>\n",
       "    </tr>\n",
       "    <tr>\n",
       "      <th>0</th>\n",
       "      <td>https://api.spotify.com/v1/artists/3qm84nBOXUE...</td>\n",
       "      <td>3qm84nBOXUEQ2vnTfUTTFC</td>\n",
       "      <td>Guns N' Roses</td>\n",
       "      <td>artist</td>\n",
       "      <td>spotify:artist:3qm84nBOXUEQ2vnTfUTTFC</td>\n",
       "      <td>https://open.spotify.com/artist/3qm84nBOXUEQ2v...</td>\n",
       "      <td>1kDYCn9VIDmOIbLZ2Xc7OO</td>\n",
       "    </tr>\n",
       "    <tr>\n",
       "      <th>0</th>\n",
       "      <td>https://api.spotify.com/v1/artists/4gzpq5DPGxS...</td>\n",
       "      <td>4gzpq5DPGxSnKTe4SA8HAU</td>\n",
       "      <td>Coldplay</td>\n",
       "      <td>artist</td>\n",
       "      <td>spotify:artist:4gzpq5DPGxSnKTe4SA8HAU</td>\n",
       "      <td>https://open.spotify.com/artist/4gzpq5DPGxSnKT...</td>\n",
       "      <td>1mea3bSkSGXuIRvnydlB5b</td>\n",
       "    </tr>\n",
       "    <tr>\n",
       "      <th>...</th>\n",
       "      <td>...</td>\n",
       "      <td>...</td>\n",
       "      <td>...</td>\n",
       "      <td>...</td>\n",
       "      <td>...</td>\n",
       "      <td>...</td>\n",
       "      <td>...</td>\n",
       "    </tr>\n",
       "    <tr>\n",
       "      <th>0</th>\n",
       "      <td>https://api.spotify.com/v1/artists/0YrtvWJMgSd...</td>\n",
       "      <td>0YrtvWJMgSdVrk3SfNjTbx</td>\n",
       "      <td>Death Cab for Cutie</td>\n",
       "      <td>artist</td>\n",
       "      <td>spotify:artist:0YrtvWJMgSdVrk3SfNjTbx</td>\n",
       "      <td>https://open.spotify.com/artist/0YrtvWJMgSdVrk...</td>\n",
       "      <td>5vFKQF10Jhyysg3JUbfBUd</td>\n",
       "    </tr>\n",
       "    <tr>\n",
       "      <th>0</th>\n",
       "      <td>https://api.spotify.com/v1/artists/5lPsVvHVDr6...</td>\n",
       "      <td>5lPsVvHVDr6R5mDxRUXdOs</td>\n",
       "      <td>A1</td>\n",
       "      <td>artist</td>\n",
       "      <td>spotify:artist:5lPsVvHVDr6R5mDxRUXdOs</td>\n",
       "      <td>https://open.spotify.com/artist/5lPsVvHVDr6R5m...</td>\n",
       "      <td>6IVJFZI4fejlJ9XTa3CG5G</td>\n",
       "    </tr>\n",
       "    <tr>\n",
       "      <th>0</th>\n",
       "      <td>https://api.spotify.com/v1/artists/04gDigrS5kc...</td>\n",
       "      <td>04gDigrS5kc9YWfZHwBETP</td>\n",
       "      <td>Maroon 5</td>\n",
       "      <td>artist</td>\n",
       "      <td>spotify:artist:04gDigrS5kc9YWfZHwBETP</td>\n",
       "      <td>https://open.spotify.com/artist/04gDigrS5kc9YW...</td>\n",
       "      <td>0Yb0L5qlyMDyAZor9d57iS</td>\n",
       "    </tr>\n",
       "    <tr>\n",
       "      <th>0</th>\n",
       "      <td>https://api.spotify.com/v1/artists/1RJkmcXtvDd...</td>\n",
       "      <td>1RJkmcXtvDdyhfn2PbrZzQ</td>\n",
       "      <td>Egotrippi</td>\n",
       "      <td>artist</td>\n",
       "      <td>spotify:artist:1RJkmcXtvDdyhfn2PbrZzQ</td>\n",
       "      <td>https://open.spotify.com/artist/1RJkmcXtvDdyhf...</td>\n",
       "      <td>5esJb63Nbi1LeG0v4NyKTt</td>\n",
       "    </tr>\n",
       "    <tr>\n",
       "      <th>0</th>\n",
       "      <td>https://api.spotify.com/v1/artists/6RZUqkomCmb...</td>\n",
       "      <td>6RZUqkomCmb8zCRqc9eznB</td>\n",
       "      <td>Placebo</td>\n",
       "      <td>artist</td>\n",
       "      <td>spotify:artist:6RZUqkomCmb8zCRqc9eznB</td>\n",
       "      <td>https://open.spotify.com/artist/6RZUqkomCmb8zC...</td>\n",
       "      <td>63Cg39cB5xAmjObaKPAd9z</td>\n",
       "    </tr>\n",
       "  </tbody>\n",
       "</table>\n",
       "<p>10469 rows × 7 columns</p>\n",
       "</div>"
      ],
      "text/plain": [
       "                                                 href                      id  \\\n",
       "0   https://api.spotify.com/v1/artists/0rvjqX7ttXe...  0rvjqX7ttXeg3mTy8Xscbt   \n",
       "0   https://api.spotify.com/v1/artists/4gzpq5DPGxS...  4gzpq5DPGxSnKTe4SA8HAU   \n",
       "0   https://api.spotify.com/v1/artists/4gzpq5DPGxS...  4gzpq5DPGxSnKTe4SA8HAU   \n",
       "0   https://api.spotify.com/v1/artists/3qm84nBOXUE...  3qm84nBOXUEQ2vnTfUTTFC   \n",
       "0   https://api.spotify.com/v1/artists/4gzpq5DPGxS...  4gzpq5DPGxSnKTe4SA8HAU   \n",
       "..                                                ...                     ...   \n",
       "0   https://api.spotify.com/v1/artists/0YrtvWJMgSd...  0YrtvWJMgSdVrk3SfNjTbx   \n",
       "0   https://api.spotify.com/v1/artists/5lPsVvHVDr6...  5lPsVvHVDr6R5mDxRUXdOs   \n",
       "0   https://api.spotify.com/v1/artists/04gDigrS5kc...  04gDigrS5kc9YWfZHwBETP   \n",
       "0   https://api.spotify.com/v1/artists/1RJkmcXtvDd...  1RJkmcXtvDdyhfn2PbrZzQ   \n",
       "0   https://api.spotify.com/v1/artists/6RZUqkomCmb...  6RZUqkomCmb8zCRqc9eznB   \n",
       "\n",
       "                   name    type                                    uri  \\\n",
       "0               Journey  artist  spotify:artist:0rvjqX7ttXeg3mTy8Xscbt   \n",
       "0              Coldplay  artist  spotify:artist:4gzpq5DPGxSnKTe4SA8HAU   \n",
       "0              Coldplay  artist  spotify:artist:4gzpq5DPGxSnKTe4SA8HAU   \n",
       "0         Guns N' Roses  artist  spotify:artist:3qm84nBOXUEQ2vnTfUTTFC   \n",
       "0              Coldplay  artist  spotify:artist:4gzpq5DPGxSnKTe4SA8HAU   \n",
       "..                  ...     ...                                    ...   \n",
       "0   Death Cab for Cutie  artist  spotify:artist:0YrtvWJMgSdVrk3SfNjTbx   \n",
       "0                    A1  artist  spotify:artist:5lPsVvHVDr6R5mDxRUXdOs   \n",
       "0              Maroon 5  artist  spotify:artist:04gDigrS5kc9YWfZHwBETP   \n",
       "0             Egotrippi  artist  spotify:artist:1RJkmcXtvDdyhfn2PbrZzQ   \n",
       "0               Placebo  artist  spotify:artist:6RZUqkomCmb8zCRqc9eznB   \n",
       "\n",
       "                                external_urls.spotify                 song_id  \n",
       "0   https://open.spotify.com/artist/0rvjqX7ttXeg3m...  77NNZQSqzLNqh2A9JhLRkg  \n",
       "0   https://open.spotify.com/artist/4gzpq5DPGxSnKT...  7LVHVU3tWfcxj5aiPFEW4Q  \n",
       "0   https://open.spotify.com/artist/4gzpq5DPGxSnKT...  75JFxkI2RXiU7L9VXzMkle  \n",
       "0   https://open.spotify.com/artist/3qm84nBOXUEQ2v...  1kDYCn9VIDmOIbLZ2Xc7OO  \n",
       "0   https://open.spotify.com/artist/4gzpq5DPGxSnKT...  1mea3bSkSGXuIRvnydlB5b  \n",
       "..                                                ...                     ...  \n",
       "0   https://open.spotify.com/artist/0YrtvWJMgSdVrk...  5vFKQF10Jhyysg3JUbfBUd  \n",
       "0   https://open.spotify.com/artist/5lPsVvHVDr6R5m...  6IVJFZI4fejlJ9XTa3CG5G  \n",
       "0   https://open.spotify.com/artist/04gDigrS5kc9YW...  0Yb0L5qlyMDyAZor9d57iS  \n",
       "0   https://open.spotify.com/artist/1RJkmcXtvDdyhf...  5esJb63Nbi1LeG0v4NyKTt  \n",
       "0   https://open.spotify.com/artist/6RZUqkomCmb8zC...  63Cg39cB5xAmjObaKPAd9z  \n",
       "\n",
       "[10469 rows x 7 columns]"
      ]
     },
     "execution_count": 23,
     "metadata": {},
     "output_type": "execute_result"
    }
   ],
   "source": [
    "# now we create a new dataframe with all these artists\n",
    "artist_df = pd.DataFrame(columns=['href', 'id', 'name', 'type', 'uri'])\n",
    "for mini_df in tracks['artists_dfs']:\n",
    "    #display(val)\n",
    "    artist_df = pd.concat([artist_df, mini_df], axis=0)\n",
    "artist_df"
   ]
  },
  {
   "cell_type": "code",
   "execution_count": 24,
   "id": "b62a16d3",
   "metadata": {},
   "outputs": [
    {
     "data": {
      "text/html": [
       "<div>\n",
       "<style scoped>\n",
       "    .dataframe tbody tr th:only-of-type {\n",
       "        vertical-align: middle;\n",
       "    }\n",
       "\n",
       "    .dataframe tbody tr th {\n",
       "        vertical-align: top;\n",
       "    }\n",
       "\n",
       "    .dataframe thead th {\n",
       "        text-align: right;\n",
       "    }\n",
       "</style>\n",
       "<table border=\"1\" class=\"dataframe\">\n",
       "  <thead>\n",
       "    <tr style=\"text-align: right;\">\n",
       "      <th></th>\n",
       "      <th>added_at</th>\n",
       "      <th>is_local</th>\n",
       "      <th>primary_color</th>\n",
       "      <th>added_by.external_urls.spotify</th>\n",
       "      <th>added_by.href</th>\n",
       "      <th>added_by.id</th>\n",
       "      <th>added_by.type</th>\n",
       "      <th>added_by.uri</th>\n",
       "      <th>track.album.album_type</th>\n",
       "      <th>track.album.artists</th>\n",
       "      <th>...</th>\n",
       "      <th>track.uri</th>\n",
       "      <th>video_thumbnail.url</th>\n",
       "      <th>artists_dfs</th>\n",
       "      <th>href</th>\n",
       "      <th>id</th>\n",
       "      <th>name</th>\n",
       "      <th>type</th>\n",
       "      <th>uri</th>\n",
       "      <th>external_urls.spotify</th>\n",
       "      <th>song_id</th>\n",
       "    </tr>\n",
       "  </thead>\n",
       "  <tbody>\n",
       "    <tr>\n",
       "      <th>0</th>\n",
       "      <td>2010-11-14T19:56:54Z</td>\n",
       "      <td>False</td>\n",
       "      <td>None</td>\n",
       "      <td>https://open.spotify.com/user/</td>\n",
       "      <td>https://api.spotify.com/v1/users/</td>\n",
       "      <td></td>\n",
       "      <td>user</td>\n",
       "      <td>spotify:user:</td>\n",
       "      <td>compilation</td>\n",
       "      <td>[{'external_urls': {'spotify': 'https://open.s...</td>\n",
       "      <td>...</td>\n",
       "      <td>spotify:track:77NNZQSqzLNqh2A9JhLRkg</td>\n",
       "      <td>None</td>\n",
       "      <td>...</td>\n",
       "      <td>https://api.spotify.com/v1/artists/0rvjqX7ttXe...</td>\n",
       "      <td>0rvjqX7ttXeg3mTy8Xscbt</td>\n",
       "      <td>Journey</td>\n",
       "      <td>artist</td>\n",
       "      <td>spotify:artist:0rvjqX7ttXeg3mTy8Xscbt</td>\n",
       "      <td>https://open.spotify.com/artist/0rvjqX7ttXeg3m...</td>\n",
       "      <td>77NNZQSqzLNqh2A9JhLRkg</td>\n",
       "    </tr>\n",
       "    <tr>\n",
       "      <th>1</th>\n",
       "      <td>2010-11-14T19:56:54Z</td>\n",
       "      <td>False</td>\n",
       "      <td>None</td>\n",
       "      <td>https://open.spotify.com/user/</td>\n",
       "      <td>https://api.spotify.com/v1/users/</td>\n",
       "      <td></td>\n",
       "      <td>user</td>\n",
       "      <td>spotify:user:</td>\n",
       "      <td>album</td>\n",
       "      <td>[{'external_urls': {'spotify': 'https://open.s...</td>\n",
       "      <td>...</td>\n",
       "      <td>spotify:track:7LVHVU3tWfcxj5aiPFEW4Q</td>\n",
       "      <td>None</td>\n",
       "      <td>...</td>\n",
       "      <td>https://api.spotify.com/v1/artists/4gzpq5DPGxS...</td>\n",
       "      <td>4gzpq5DPGxSnKTe4SA8HAU</td>\n",
       "      <td>Coldplay</td>\n",
       "      <td>artist</td>\n",
       "      <td>spotify:artist:4gzpq5DPGxSnKTe4SA8HAU</td>\n",
       "      <td>https://open.spotify.com/artist/4gzpq5DPGxSnKT...</td>\n",
       "      <td>7LVHVU3tWfcxj5aiPFEW4Q</td>\n",
       "    </tr>\n",
       "    <tr>\n",
       "      <th>2</th>\n",
       "      <td>2010-11-14T19:56:54Z</td>\n",
       "      <td>False</td>\n",
       "      <td>None</td>\n",
       "      <td>https://open.spotify.com/user/</td>\n",
       "      <td>https://api.spotify.com/v1/users/</td>\n",
       "      <td></td>\n",
       "      <td>user</td>\n",
       "      <td>spotify:user:</td>\n",
       "      <td>album</td>\n",
       "      <td>[{'external_urls': {'spotify': 'https://open.s...</td>\n",
       "      <td>...</td>\n",
       "      <td>spotify:track:75JFxkI2RXiU7L9VXzMkle</td>\n",
       "      <td>None</td>\n",
       "      <td>...</td>\n",
       "      <td>https://api.spotify.com/v1/artists/4gzpq5DPGxS...</td>\n",
       "      <td>4gzpq5DPGxSnKTe4SA8HAU</td>\n",
       "      <td>Coldplay</td>\n",
       "      <td>artist</td>\n",
       "      <td>spotify:artist:4gzpq5DPGxSnKTe4SA8HAU</td>\n",
       "      <td>https://open.spotify.com/artist/4gzpq5DPGxSnKT...</td>\n",
       "      <td>75JFxkI2RXiU7L9VXzMkle</td>\n",
       "    </tr>\n",
       "    <tr>\n",
       "      <th>3</th>\n",
       "      <td>2010-11-14T19:56:54Z</td>\n",
       "      <td>False</td>\n",
       "      <td>None</td>\n",
       "      <td>https://open.spotify.com/user/</td>\n",
       "      <td>https://api.spotify.com/v1/users/</td>\n",
       "      <td></td>\n",
       "      <td>user</td>\n",
       "      <td>spotify:user:</td>\n",
       "      <td>album</td>\n",
       "      <td>[{'external_urls': {'spotify': 'https://open.s...</td>\n",
       "      <td>...</td>\n",
       "      <td>spotify:track:1kDYCn9VIDmOIbLZ2Xc7OO</td>\n",
       "      <td>None</td>\n",
       "      <td>...</td>\n",
       "      <td>https://api.spotify.com/v1/artists/3qm84nBOXUE...</td>\n",
       "      <td>3qm84nBOXUEQ2vnTfUTTFC</td>\n",
       "      <td>Guns N' Roses</td>\n",
       "      <td>artist</td>\n",
       "      <td>spotify:artist:3qm84nBOXUEQ2vnTfUTTFC</td>\n",
       "      <td>https://open.spotify.com/artist/3qm84nBOXUEQ2v...</td>\n",
       "      <td>1kDYCn9VIDmOIbLZ2Xc7OO</td>\n",
       "    </tr>\n",
       "    <tr>\n",
       "      <th>4</th>\n",
       "      <td>2010-11-14T19:56:54Z</td>\n",
       "      <td>False</td>\n",
       "      <td>None</td>\n",
       "      <td>https://open.spotify.com/user/</td>\n",
       "      <td>https://api.spotify.com/v1/users/</td>\n",
       "      <td></td>\n",
       "      <td>user</td>\n",
       "      <td>spotify:user:</td>\n",
       "      <td>album</td>\n",
       "      <td>[{'external_urls': {'spotify': 'https://open.s...</td>\n",
       "      <td>...</td>\n",
       "      <td>spotify:track:1mea3bSkSGXuIRvnydlB5b</td>\n",
       "      <td>None</td>\n",
       "      <td>...</td>\n",
       "      <td>https://api.spotify.com/v1/artists/4gzpq5DPGxS...</td>\n",
       "      <td>4gzpq5DPGxSnKTe4SA8HAU</td>\n",
       "      <td>Coldplay</td>\n",
       "      <td>artist</td>\n",
       "      <td>spotify:artist:4gzpq5DPGxSnKTe4SA8HAU</td>\n",
       "      <td>https://open.spotify.com/artist/4gzpq5DPGxSnKT...</td>\n",
       "      <td>1mea3bSkSGXuIRvnydlB5b</td>\n",
       "    </tr>\n",
       "  </tbody>\n",
       "</table>\n",
       "<p>5 rows × 48 columns</p>\n",
       "</div>"
      ],
      "text/plain": [
       "               added_at  is_local primary_color  \\\n",
       "0  2010-11-14T19:56:54Z     False          None   \n",
       "1  2010-11-14T19:56:54Z     False          None   \n",
       "2  2010-11-14T19:56:54Z     False          None   \n",
       "3  2010-11-14T19:56:54Z     False          None   \n",
       "4  2010-11-14T19:56:54Z     False          None   \n",
       "\n",
       "   added_by.external_urls.spotify                      added_by.href  \\\n",
       "0  https://open.spotify.com/user/  https://api.spotify.com/v1/users/   \n",
       "1  https://open.spotify.com/user/  https://api.spotify.com/v1/users/   \n",
       "2  https://open.spotify.com/user/  https://api.spotify.com/v1/users/   \n",
       "3  https://open.spotify.com/user/  https://api.spotify.com/v1/users/   \n",
       "4  https://open.spotify.com/user/  https://api.spotify.com/v1/users/   \n",
       "\n",
       "  added_by.id added_by.type   added_by.uri track.album.album_type  \\\n",
       "0                      user  spotify:user:            compilation   \n",
       "1                      user  spotify:user:                  album   \n",
       "2                      user  spotify:user:                  album   \n",
       "3                      user  spotify:user:                  album   \n",
       "4                      user  spotify:user:                  album   \n",
       "\n",
       "                                 track.album.artists  ...  \\\n",
       "0  [{'external_urls': {'spotify': 'https://open.s...  ...   \n",
       "1  [{'external_urls': {'spotify': 'https://open.s...  ...   \n",
       "2  [{'external_urls': {'spotify': 'https://open.s...  ...   \n",
       "3  [{'external_urls': {'spotify': 'https://open.s...  ...   \n",
       "4  [{'external_urls': {'spotify': 'https://open.s...  ...   \n",
       "\n",
       "                              track.uri video_thumbnail.url  \\\n",
       "0  spotify:track:77NNZQSqzLNqh2A9JhLRkg                None   \n",
       "1  spotify:track:7LVHVU3tWfcxj5aiPFEW4Q                None   \n",
       "2  spotify:track:75JFxkI2RXiU7L9VXzMkle                None   \n",
       "3  spotify:track:1kDYCn9VIDmOIbLZ2Xc7OO                None   \n",
       "4  spotify:track:1mea3bSkSGXuIRvnydlB5b                None   \n",
       "\n",
       "                                         artists_dfs  \\\n",
       "0                                                ...   \n",
       "1                                                ...   \n",
       "2                                                ...   \n",
       "3                                                ...   \n",
       "4                                                ...   \n",
       "\n",
       "                                                href                      id  \\\n",
       "0  https://api.spotify.com/v1/artists/0rvjqX7ttXe...  0rvjqX7ttXeg3mTy8Xscbt   \n",
       "1  https://api.spotify.com/v1/artists/4gzpq5DPGxS...  4gzpq5DPGxSnKTe4SA8HAU   \n",
       "2  https://api.spotify.com/v1/artists/4gzpq5DPGxS...  4gzpq5DPGxSnKTe4SA8HAU   \n",
       "3  https://api.spotify.com/v1/artists/3qm84nBOXUE...  3qm84nBOXUEQ2vnTfUTTFC   \n",
       "4  https://api.spotify.com/v1/artists/4gzpq5DPGxS...  4gzpq5DPGxSnKTe4SA8HAU   \n",
       "\n",
       "            name    type                                    uri  \\\n",
       "0        Journey  artist  spotify:artist:0rvjqX7ttXeg3mTy8Xscbt   \n",
       "1       Coldplay  artist  spotify:artist:4gzpq5DPGxSnKTe4SA8HAU   \n",
       "2       Coldplay  artist  spotify:artist:4gzpq5DPGxSnKTe4SA8HAU   \n",
       "3  Guns N' Roses  artist  spotify:artist:3qm84nBOXUEQ2vnTfUTTFC   \n",
       "4       Coldplay  artist  spotify:artist:4gzpq5DPGxSnKTe4SA8HAU   \n",
       "\n",
       "                               external_urls.spotify                 song_id  \n",
       "0  https://open.spotify.com/artist/0rvjqX7ttXeg3m...  77NNZQSqzLNqh2A9JhLRkg  \n",
       "1  https://open.spotify.com/artist/4gzpq5DPGxSnKT...  7LVHVU3tWfcxj5aiPFEW4Q  \n",
       "2  https://open.spotify.com/artist/4gzpq5DPGxSnKT...  75JFxkI2RXiU7L9VXzMkle  \n",
       "3  https://open.spotify.com/artist/3qm84nBOXUEQ2v...  1kDYCn9VIDmOIbLZ2Xc7OO  \n",
       "4  https://open.spotify.com/artist/4gzpq5DPGxSnKT...  1mea3bSkSGXuIRvnydlB5b  \n",
       "\n",
       "[5 rows x 48 columns]"
      ]
     },
     "execution_count": 24,
     "metadata": {},
     "output_type": "execute_result"
    }
   ],
   "source": [
    "df_merged = pd.merge(left=tracks,\n",
    "                    right=artist_df,\n",
    "                    how='inner',\n",
    "                    left_on='track.id',\n",
    "                    right_on='song_id')\n",
    "df_merged.head()"
   ]
  },
  {
   "cell_type": "code",
   "execution_count": 25,
   "id": "899543e4",
   "metadata": {},
   "outputs": [
    {
     "data": {
      "text/html": [
       "<div>\n",
       "<style scoped>\n",
       "    .dataframe tbody tr th:only-of-type {\n",
       "        vertical-align: middle;\n",
       "    }\n",
       "\n",
       "    .dataframe tbody tr th {\n",
       "        vertical-align: top;\n",
       "    }\n",
       "\n",
       "    .dataframe thead th {\n",
       "        text-align: right;\n",
       "    }\n",
       "</style>\n",
       "<table border=\"1\" class=\"dataframe\">\n",
       "  <thead>\n",
       "    <tr style=\"text-align: right;\">\n",
       "      <th></th>\n",
       "      <th>track.name</th>\n",
       "      <th>name</th>\n",
       "      <th>song_id</th>\n",
       "    </tr>\n",
       "  </thead>\n",
       "  <tbody>\n",
       "    <tr>\n",
       "      <th>0</th>\n",
       "      <td>Don't Stop Believin'</td>\n",
       "      <td>Journey</td>\n",
       "      <td>77NNZQSqzLNqh2A9JhLRkg</td>\n",
       "    </tr>\n",
       "    <tr>\n",
       "      <th>1</th>\n",
       "      <td>Fix You</td>\n",
       "      <td>Coldplay</td>\n",
       "      <td>7LVHVU3tWfcxj5aiPFEW4Q</td>\n",
       "    </tr>\n",
       "    <tr>\n",
       "      <th>2</th>\n",
       "      <td>The Scientist</td>\n",
       "      <td>Coldplay</td>\n",
       "      <td>75JFxkI2RXiU7L9VXzMkle</td>\n",
       "    </tr>\n",
       "    <tr>\n",
       "      <th>3</th>\n",
       "      <td>Sweet Child O' Mine</td>\n",
       "      <td>Guns N' Roses</td>\n",
       "      <td>1kDYCn9VIDmOIbLZ2Xc7OO</td>\n",
       "    </tr>\n",
       "    <tr>\n",
       "      <th>4</th>\n",
       "      <td>Viva La Vida</td>\n",
       "      <td>Coldplay</td>\n",
       "      <td>1mea3bSkSGXuIRvnydlB5b</td>\n",
       "    </tr>\n",
       "    <tr>\n",
       "      <th>...</th>\n",
       "      <td>...</td>\n",
       "      <td>...</td>\n",
       "      <td>...</td>\n",
       "    </tr>\n",
       "    <tr>\n",
       "      <th>10544</th>\n",
       "      <td>Idiot Prayer</td>\n",
       "      <td>Nick Cave &amp; The Bad Seeds</td>\n",
       "      <td>2UGFmJOznwWfqjlCeswzoR</td>\n",
       "    </tr>\n",
       "    <tr>\n",
       "      <th>10545</th>\n",
       "      <td>The Human Stain</td>\n",
       "      <td>Kamelot</td>\n",
       "      <td>5skbmePF1sdCRQGchir7wi</td>\n",
       "    </tr>\n",
       "    <tr>\n",
       "      <th>10546</th>\n",
       "      <td>Dance On A Volcano - 2007 - Remaster</td>\n",
       "      <td>Genesis</td>\n",
       "      <td>3ZSsvthF4bBHngSe90ZHTG</td>\n",
       "    </tr>\n",
       "    <tr>\n",
       "      <th>10547</th>\n",
       "      <td>Jimmy Jazz</td>\n",
       "      <td>The Clash</td>\n",
       "      <td>6hDiRvumjEujaRqiV6E83s</td>\n",
       "    </tr>\n",
       "    <tr>\n",
       "      <th>10548</th>\n",
       "      <td>Groovy Woof</td>\n",
       "      <td>Arthur Dellea</td>\n",
       "      <td>427TSKfR29XCQOpzK4DKmY</td>\n",
       "    </tr>\n",
       "  </tbody>\n",
       "</table>\n",
       "<p>10549 rows × 3 columns</p>\n",
       "</div>"
      ],
      "text/plain": [
       "                                 track.name                       name  \\\n",
       "0                      Don't Stop Believin'                    Journey   \n",
       "1                                   Fix You                   Coldplay   \n",
       "2                             The Scientist                   Coldplay   \n",
       "3                       Sweet Child O' Mine              Guns N' Roses   \n",
       "4                              Viva La Vida                   Coldplay   \n",
       "...                                     ...                        ...   \n",
       "10544                          Idiot Prayer  Nick Cave & The Bad Seeds   \n",
       "10545                       The Human Stain                    Kamelot   \n",
       "10546  Dance On A Volcano - 2007 - Remaster                    Genesis   \n",
       "10547                            Jimmy Jazz                  The Clash   \n",
       "10548                           Groovy Woof              Arthur Dellea   \n",
       "\n",
       "                      song_id  \n",
       "0      77NNZQSqzLNqh2A9JhLRkg  \n",
       "1      7LVHVU3tWfcxj5aiPFEW4Q  \n",
       "2      75JFxkI2RXiU7L9VXzMkle  \n",
       "3      1kDYCn9VIDmOIbLZ2Xc7OO  \n",
       "4      1mea3bSkSGXuIRvnydlB5b  \n",
       "...                       ...  \n",
       "10544  2UGFmJOznwWfqjlCeswzoR  \n",
       "10545  5skbmePF1sdCRQGchir7wi  \n",
       "10546  3ZSsvthF4bBHngSe90ZHTG  \n",
       "10547  6hDiRvumjEujaRqiV6E83s  \n",
       "10548  427TSKfR29XCQOpzK4DKmY  \n",
       "\n",
       "[10549 rows x 3 columns]"
      ]
     },
     "execution_count": 25,
     "metadata": {},
     "output_type": "execute_result"
    }
   ],
   "source": [
    "df_final5 = df_merged[['track.name', 'name', 'song_id']]\n",
    "df_final5"
   ]
  },
  {
   "cell_type": "code",
   "execution_count": 26,
   "id": "40a06a18",
   "metadata": {},
   "outputs": [],
   "source": [
    "df_final5.to_csv('df_final5.csv', index=False)"
   ]
  },
  {
   "cell_type": "code",
   "execution_count": null,
   "id": "f17b317a",
   "metadata": {},
   "outputs": [],
   "source": []
  },
  {
   "cell_type": "markdown",
   "id": "924da2ae",
   "metadata": {},
   "source": [
    "### Playlists | concatenate all playlists"
   ]
  },
  {
   "cell_type": "code",
   "execution_count": 38,
   "id": "90f8b549",
   "metadata": {},
   "outputs": [
    {
     "data": {
      "text/plain": [
       "(13629, 3)"
      ]
     },
     "execution_count": 38,
     "metadata": {},
     "output_type": "execute_result"
    }
   ],
   "source": [
    "file_path = 'df_final.csv'\n",
    "df_final = pd.read_csv(file_path)\n",
    "df_final.shape"
   ]
  },
  {
   "cell_type": "code",
   "execution_count": 39,
   "id": "cee13a7a",
   "metadata": {},
   "outputs": [
    {
     "data": {
      "text/plain": [
       "(12681, 3)"
      ]
     },
     "execution_count": 39,
     "metadata": {},
     "output_type": "execute_result"
    }
   ],
   "source": [
    "file_path2 = 'df_final2.csv'\n",
    "df_final2 = pd.read_csv(file_path2)\n",
    "df_final2.shape"
   ]
  },
  {
   "cell_type": "code",
   "execution_count": 40,
   "id": "0ec0e826",
   "metadata": {},
   "outputs": [
    {
     "data": {
      "text/plain": [
       "(12158, 3)"
      ]
     },
     "execution_count": 40,
     "metadata": {},
     "output_type": "execute_result"
    }
   ],
   "source": [
    "file_path3 = 'df_final3.csv'\n",
    "df_final3 = pd.read_csv(file_path3)\n",
    "df_final3.shape"
   ]
  },
  {
   "cell_type": "code",
   "execution_count": 41,
   "id": "9abcb341",
   "metadata": {},
   "outputs": [
    {
     "data": {
      "text/plain": [
       "(9651, 3)"
      ]
     },
     "execution_count": 41,
     "metadata": {},
     "output_type": "execute_result"
    }
   ],
   "source": [
    "file_path4 = 'df_final4.csv'\n",
    "df_final4 = pd.read_csv(file_path4)\n",
    "df_final4.shape"
   ]
  },
  {
   "cell_type": "code",
   "execution_count": 42,
   "id": "74a00e01",
   "metadata": {},
   "outputs": [
    {
     "data": {
      "text/plain": [
       "(10549, 3)"
      ]
     },
     "execution_count": 42,
     "metadata": {},
     "output_type": "execute_result"
    }
   ],
   "source": [
    "file_path5 = 'df_final5.csv'\n",
    "df_final5 = pd.read_csv(file_path5)\n",
    "df_final5.shape"
   ]
  },
  {
   "cell_type": "code",
   "execution_count": 44,
   "id": "72f67f92",
   "metadata": {},
   "outputs": [
    {
     "name": "stdout",
     "output_type": "stream",
     "text": [
      "                       track.name            name                 song_id\n",
      "0            Like a Rolling Stone       Bob Dylan  3AhXZa8sUQht0UEdBJgpGc\n",
      "1         Smells Like Teen Spirit         Nirvana  3oTlkzk1OtrhH8wBAduVEi\n",
      "2  A Day In The Life - Remastered     The Beatles  3ZFBeIyP41HhnALjxWy1pR\n",
      "3          Good Vibrations (Mono)  The Beach Boys  5Qt4Cc66g24QWwGP3YYV9y\n",
      "4                  Johnny B Goode     Chuck Berry  7MH2ZclofPlTrZOkPzZKhK\n"
     ]
    }
   ],
   "source": [
    "dfs_to_concat = [df_final, df_final2, df_final3, df_final4, df_final5]\n",
    "result_df = pd.concat(dfs_to_concat, ignore_index=True)\n",
    "print(result_df.head())\n",
    "result_df.to_csv('concatenated_output.csv', index=False)"
   ]
  },
  {
   "cell_type": "code",
   "execution_count": 45,
   "id": "a455353f",
   "metadata": {},
   "outputs": [
    {
     "data": {
      "text/plain": [
       "(58668, 3)"
      ]
     },
     "execution_count": 45,
     "metadata": {},
     "output_type": "execute_result"
    }
   ],
   "source": [
    "result_df.shape"
   ]
  },
  {
   "cell_type": "markdown",
   "id": "94694159",
   "metadata": {},
   "source": [
    "### Playlists | Clean Duplicates"
   ]
  },
  {
   "cell_type": "code",
   "execution_count": 46,
   "id": "c6a1ac37",
   "metadata": {},
   "outputs": [
    {
     "name": "stdout",
     "output_type": "stream",
     "text": [
      "                       track.name            name                 song_id\n",
      "0            Like a Rolling Stone       Bob Dylan  3AhXZa8sUQht0UEdBJgpGc\n",
      "1         Smells Like Teen Spirit         Nirvana  3oTlkzk1OtrhH8wBAduVEi\n",
      "2  A Day In The Life - Remastered     The Beatles  3ZFBeIyP41HhnALjxWy1pR\n",
      "3          Good Vibrations (Mono)  The Beach Boys  5Qt4Cc66g24QWwGP3YYV9y\n",
      "4                  Johnny B Goode     Chuck Berry  7MH2ZclofPlTrZOkPzZKhK\n"
     ]
    },
    {
     "data": {
      "text/plain": [
       "(52773, 3)"
      ]
     },
     "execution_count": 46,
     "metadata": {},
     "output_type": "execute_result"
    }
   ],
   "source": [
    "result_df_no_duplicates = result_df.drop_duplicates()\n",
    "print(result_df_no_duplicates.head())\n",
    "result_df_no_duplicates.to_csv('output_no_duplicates.csv', index=False)\n",
    "result_df_no_duplicates.shape"
   ]
  },
  {
   "cell_type": "markdown",
   "id": "03b76821",
   "metadata": {},
   "source": [
    "### Playlists | Clean Nulls"
   ]
  },
  {
   "cell_type": "code",
   "execution_count": 47,
   "id": "7b9c3283",
   "metadata": {},
   "outputs": [
    {
     "data": {
      "text/plain": [
       "(50609, 3)"
      ]
     },
     "execution_count": 47,
     "metadata": {},
     "output_type": "execute_result"
    }
   ],
   "source": [
    "result_df_no_nulls = result_df_no_duplicates.dropna()\n",
    "result_df_no_nulls.shape"
   ]
  },
  {
   "cell_type": "code",
   "execution_count": null,
   "id": "e8668742",
   "metadata": {},
   "outputs": [],
   "source": []
  },
  {
   "cell_type": "markdown",
   "id": "b03a6c3c",
   "metadata": {},
   "source": [
    "### Audio features"
   ]
  },
  {
   "cell_type": "code",
   "execution_count": 54,
   "id": "f26edf47",
   "metadata": {},
   "outputs": [
    {
     "data": {
      "text/html": [
       "<div>\n",
       "<style scoped>\n",
       "    .dataframe tbody tr th:only-of-type {\n",
       "        vertical-align: middle;\n",
       "    }\n",
       "\n",
       "    .dataframe tbody tr th {\n",
       "        vertical-align: top;\n",
       "    }\n",
       "\n",
       "    .dataframe thead th {\n",
       "        text-align: right;\n",
       "    }\n",
       "</style>\n",
       "<table border=\"1\" class=\"dataframe\">\n",
       "  <thead>\n",
       "    <tr style=\"text-align: right;\">\n",
       "      <th></th>\n",
       "      <th>track.name</th>\n",
       "      <th>name</th>\n",
       "      <th>song_id</th>\n",
       "    </tr>\n",
       "  </thead>\n",
       "  <tbody>\n",
       "    <tr>\n",
       "      <th>0</th>\n",
       "      <td>Like a Rolling Stone</td>\n",
       "      <td>Bob Dylan</td>\n",
       "      <td>3AhXZa8sUQht0UEdBJgpGc</td>\n",
       "    </tr>\n",
       "    <tr>\n",
       "      <th>1</th>\n",
       "      <td>Smells Like Teen Spirit</td>\n",
       "      <td>Nirvana</td>\n",
       "      <td>3oTlkzk1OtrhH8wBAduVEi</td>\n",
       "    </tr>\n",
       "    <tr>\n",
       "      <th>2</th>\n",
       "      <td>A Day In The Life - Remastered</td>\n",
       "      <td>The Beatles</td>\n",
       "      <td>3ZFBeIyP41HhnALjxWy1pR</td>\n",
       "    </tr>\n",
       "    <tr>\n",
       "      <th>3</th>\n",
       "      <td>Good Vibrations (Mono)</td>\n",
       "      <td>The Beach Boys</td>\n",
       "      <td>5Qt4Cc66g24QWwGP3YYV9y</td>\n",
       "    </tr>\n",
       "    <tr>\n",
       "      <th>4</th>\n",
       "      <td>Johnny B Goode</td>\n",
       "      <td>Chuck Berry</td>\n",
       "      <td>7MH2ZclofPlTrZOkPzZKhK</td>\n",
       "    </tr>\n",
       "  </tbody>\n",
       "</table>\n",
       "</div>"
      ],
      "text/plain": [
       "                       track.name            name                 song_id\n",
       "0            Like a Rolling Stone       Bob Dylan  3AhXZa8sUQht0UEdBJgpGc\n",
       "1         Smells Like Teen Spirit         Nirvana  3oTlkzk1OtrhH8wBAduVEi\n",
       "2  A Day In The Life - Remastered     The Beatles  3ZFBeIyP41HhnALjxWy1pR\n",
       "3          Good Vibrations (Mono)  The Beach Boys  5Qt4Cc66g24QWwGP3YYV9y\n",
       "4                  Johnny B Goode     Chuck Berry  7MH2ZclofPlTrZOkPzZKhK"
      ]
     },
     "execution_count": 54,
     "metadata": {},
     "output_type": "execute_result"
    }
   ],
   "source": [
    "df_final=result_df_no_nulls\n",
    "df_final.head()"
   ]
  },
  {
   "cell_type": "code",
   "execution_count": 55,
   "id": "c1ebe8fb",
   "metadata": {
    "scrolled": false
   },
   "outputs": [
    {
     "data": {
      "text/plain": [
       "50609"
      ]
     },
     "execution_count": 55,
     "metadata": {},
     "output_type": "execute_result"
    }
   ],
   "source": [
    "chunks = [(i, i+100) for i in range(0, len(df_final), 100)]\n",
    "chunks\n",
    "audio_features_list = []\n",
    "for chunk in chunks:\n",
    "    id_list100 = df_final['song_id'][chunk[0]:chunk[1]]\n",
    "    audio_features_list = audio_features_list + sp.audio_features(id_list100)\n",
    "    sleep(randint(1,3000)/1000)\n",
    "len(audio_features_list)"
   ]
  },
  {
   "cell_type": "code",
   "execution_count": 66,
   "id": "66b5a2bc",
   "metadata": {},
   "outputs": [],
   "source": [
    "# !pip install requests spotipy"
   ]
  },
  {
   "cell_type": "code",
   "execution_count": 56,
   "id": "f97a90bc",
   "metadata": {},
   "outputs": [
    {
     "data": {
      "text/plain": [
       "101218"
      ]
     },
     "execution_count": 56,
     "metadata": {},
     "output_type": "execute_result"
    }
   ],
   "source": [
    "for chunk in chunks:\n",
    "    id_list100 = df_final['song_id'][chunk[0]:chunk[1]]\n",
    "    try:\n",
    "        audio_features = sp.audio_features(id_list100)\n",
    "        audio_features_list += audio_features\n",
    "    except SpotifyException as e:\n",
    "        if e.http_status == 429:\n",
    "            if 'Retry-After' in e.headers:\n",
    "                sleep(int(e.headers['Retry-After']))\n",
    "            else:\n",
    "                # Otherwise, use a fixed delay\n",
    "                sleep(10)  # Adjust the delay as needed\n",
    "            continue\n",
    "        else:\n",
    "            print(f\"Error: {e}\")\n",
    "    sleep(randint(1, 3))  # Add a delay to avoid rate limiting\n",
    "len(audio_features_list)"
   ]
  },
  {
   "cell_type": "code",
   "execution_count": 57,
   "id": "c0e96ee2",
   "metadata": {},
   "outputs": [],
   "source": [
    "audio_features_df = json_normalize(audio_features_list)"
   ]
  },
  {
   "cell_type": "code",
   "execution_count": 58,
   "id": "8ea5d0fb",
   "metadata": {},
   "outputs": [],
   "source": [
    "audio_features_df.drop_duplicates(inplace=True)"
   ]
  },
  {
   "cell_type": "code",
   "execution_count": 67,
   "id": "dd132f0b",
   "metadata": {},
   "outputs": [
    {
     "data": {
      "text/html": [
       "<div>\n",
       "<style scoped>\n",
       "    .dataframe tbody tr th:only-of-type {\n",
       "        vertical-align: middle;\n",
       "    }\n",
       "\n",
       "    .dataframe tbody tr th {\n",
       "        vertical-align: top;\n",
       "    }\n",
       "\n",
       "    .dataframe thead th {\n",
       "        text-align: right;\n",
       "    }\n",
       "</style>\n",
       "<table border=\"1\" class=\"dataframe\">\n",
       "  <thead>\n",
       "    <tr style=\"text-align: right;\">\n",
       "      <th></th>\n",
       "      <th>track.name</th>\n",
       "      <th>name</th>\n",
       "      <th>song_id</th>\n",
       "      <th>danceability</th>\n",
       "      <th>energy</th>\n",
       "      <th>key</th>\n",
       "      <th>loudness</th>\n",
       "      <th>mode</th>\n",
       "      <th>speechiness</th>\n",
       "      <th>acousticness</th>\n",
       "      <th>...</th>\n",
       "      <th>liveness</th>\n",
       "      <th>valence</th>\n",
       "      <th>tempo</th>\n",
       "      <th>type</th>\n",
       "      <th>id</th>\n",
       "      <th>uri</th>\n",
       "      <th>track_href</th>\n",
       "      <th>analysis_url</th>\n",
       "      <th>duration_ms</th>\n",
       "      <th>time_signature</th>\n",
       "    </tr>\n",
       "  </thead>\n",
       "  <tbody>\n",
       "    <tr>\n",
       "      <th>0</th>\n",
       "      <td>Like a Rolling Stone</td>\n",
       "      <td>Bob Dylan</td>\n",
       "      <td>3AhXZa8sUQht0UEdBJgpGc</td>\n",
       "      <td>0.482</td>\n",
       "      <td>0.721</td>\n",
       "      <td>0</td>\n",
       "      <td>-6.839</td>\n",
       "      <td>1</td>\n",
       "      <td>0.0321</td>\n",
       "      <td>0.731000</td>\n",
       "      <td>...</td>\n",
       "      <td>0.1890</td>\n",
       "      <td>0.557</td>\n",
       "      <td>95.263</td>\n",
       "      <td>audio_features</td>\n",
       "      <td>3AhXZa8sUQht0UEdBJgpGc</td>\n",
       "      <td>spotify:track:3AhXZa8sUQht0UEdBJgpGc</td>\n",
       "      <td>https://api.spotify.com/v1/tracks/3AhXZa8sUQht...</td>\n",
       "      <td>https://api.spotify.com/v1/audio-analysis/3AhX...</td>\n",
       "      <td>369600</td>\n",
       "      <td>4</td>\n",
       "    </tr>\n",
       "    <tr>\n",
       "      <th>1</th>\n",
       "      <td>Smells Like Teen Spirit</td>\n",
       "      <td>Nirvana</td>\n",
       "      <td>3oTlkzk1OtrhH8wBAduVEi</td>\n",
       "      <td>0.485</td>\n",
       "      <td>0.863</td>\n",
       "      <td>1</td>\n",
       "      <td>-9.027</td>\n",
       "      <td>1</td>\n",
       "      <td>0.0495</td>\n",
       "      <td>0.000012</td>\n",
       "      <td>...</td>\n",
       "      <td>0.1380</td>\n",
       "      <td>0.767</td>\n",
       "      <td>116.835</td>\n",
       "      <td>audio_features</td>\n",
       "      <td>3oTlkzk1OtrhH8wBAduVEi</td>\n",
       "      <td>spotify:track:3oTlkzk1OtrhH8wBAduVEi</td>\n",
       "      <td>https://api.spotify.com/v1/tracks/3oTlkzk1Otrh...</td>\n",
       "      <td>https://api.spotify.com/v1/audio-analysis/3oTl...</td>\n",
       "      <td>300977</td>\n",
       "      <td>4</td>\n",
       "    </tr>\n",
       "    <tr>\n",
       "      <th>2</th>\n",
       "      <td>A Day In The Life - Remastered</td>\n",
       "      <td>The Beatles</td>\n",
       "      <td>3ZFBeIyP41HhnALjxWy1pR</td>\n",
       "      <td>0.364</td>\n",
       "      <td>0.457</td>\n",
       "      <td>4</td>\n",
       "      <td>-14.162</td>\n",
       "      <td>0</td>\n",
       "      <td>0.0675</td>\n",
       "      <td>0.290000</td>\n",
       "      <td>...</td>\n",
       "      <td>0.9220</td>\n",
       "      <td>0.175</td>\n",
       "      <td>163.219</td>\n",
       "      <td>audio_features</td>\n",
       "      <td>3ZFBeIyP41HhnALjxWy1pR</td>\n",
       "      <td>spotify:track:3ZFBeIyP41HhnALjxWy1pR</td>\n",
       "      <td>https://api.spotify.com/v1/tracks/3ZFBeIyP41Hh...</td>\n",
       "      <td>https://api.spotify.com/v1/audio-analysis/3ZFB...</td>\n",
       "      <td>337413</td>\n",
       "      <td>4</td>\n",
       "    </tr>\n",
       "    <tr>\n",
       "      <th>3</th>\n",
       "      <td>Good Vibrations (Mono)</td>\n",
       "      <td>The Beach Boys</td>\n",
       "      <td>5Qt4Cc66g24QWwGP3YYV9y</td>\n",
       "      <td>0.398</td>\n",
       "      <td>0.413</td>\n",
       "      <td>1</td>\n",
       "      <td>-10.934</td>\n",
       "      <td>1</td>\n",
       "      <td>0.0388</td>\n",
       "      <td>0.082200</td>\n",
       "      <td>...</td>\n",
       "      <td>0.0891</td>\n",
       "      <td>0.331</td>\n",
       "      <td>133.574</td>\n",
       "      <td>audio_features</td>\n",
       "      <td>5Qt4Cc66g24QWwGP3YYV9y</td>\n",
       "      <td>spotify:track:5Qt4Cc66g24QWwGP3YYV9y</td>\n",
       "      <td>https://api.spotify.com/v1/tracks/5Qt4Cc66g24Q...</td>\n",
       "      <td>https://api.spotify.com/v1/audio-analysis/5Qt4...</td>\n",
       "      <td>219147</td>\n",
       "      <td>4</td>\n",
       "    </tr>\n",
       "    <tr>\n",
       "      <th>4</th>\n",
       "      <td>Johnny B Goode</td>\n",
       "      <td>Chuck Berry</td>\n",
       "      <td>7MH2ZclofPlTrZOkPzZKhK</td>\n",
       "      <td>0.518</td>\n",
       "      <td>0.756</td>\n",
       "      <td>10</td>\n",
       "      <td>-10.851</td>\n",
       "      <td>1</td>\n",
       "      <td>0.0915</td>\n",
       "      <td>0.735000</td>\n",
       "      <td>...</td>\n",
       "      <td>0.3170</td>\n",
       "      <td>0.968</td>\n",
       "      <td>166.429</td>\n",
       "      <td>audio_features</td>\n",
       "      <td>7MH2ZclofPlTrZOkPzZKhK</td>\n",
       "      <td>spotify:track:7MH2ZclofPlTrZOkPzZKhK</td>\n",
       "      <td>https://api.spotify.com/v1/tracks/7MH2ZclofPlT...</td>\n",
       "      <td>https://api.spotify.com/v1/audio-analysis/7MH2...</td>\n",
       "      <td>160893</td>\n",
       "      <td>4</td>\n",
       "    </tr>\n",
       "  </tbody>\n",
       "</table>\n",
       "<p>5 rows × 21 columns</p>\n",
       "</div>"
      ],
      "text/plain": [
       "                       track.name            name                 song_id  \\\n",
       "0            Like a Rolling Stone       Bob Dylan  3AhXZa8sUQht0UEdBJgpGc   \n",
       "1         Smells Like Teen Spirit         Nirvana  3oTlkzk1OtrhH8wBAduVEi   \n",
       "2  A Day In The Life - Remastered     The Beatles  3ZFBeIyP41HhnALjxWy1pR   \n",
       "3          Good Vibrations (Mono)  The Beach Boys  5Qt4Cc66g24QWwGP3YYV9y   \n",
       "4                  Johnny B Goode     Chuck Berry  7MH2ZclofPlTrZOkPzZKhK   \n",
       "\n",
       "   danceability  energy  key  loudness  mode  speechiness  acousticness  ...  \\\n",
       "0         0.482   0.721    0    -6.839     1       0.0321      0.731000  ...   \n",
       "1         0.485   0.863    1    -9.027     1       0.0495      0.000012  ...   \n",
       "2         0.364   0.457    4   -14.162     0       0.0675      0.290000  ...   \n",
       "3         0.398   0.413    1   -10.934     1       0.0388      0.082200  ...   \n",
       "4         0.518   0.756   10   -10.851     1       0.0915      0.735000  ...   \n",
       "\n",
       "   liveness  valence    tempo            type                      id  \\\n",
       "0    0.1890    0.557   95.263  audio_features  3AhXZa8sUQht0UEdBJgpGc   \n",
       "1    0.1380    0.767  116.835  audio_features  3oTlkzk1OtrhH8wBAduVEi   \n",
       "2    0.9220    0.175  163.219  audio_features  3ZFBeIyP41HhnALjxWy1pR   \n",
       "3    0.0891    0.331  133.574  audio_features  5Qt4Cc66g24QWwGP3YYV9y   \n",
       "4    0.3170    0.968  166.429  audio_features  7MH2ZclofPlTrZOkPzZKhK   \n",
       "\n",
       "                                    uri  \\\n",
       "0  spotify:track:3AhXZa8sUQht0UEdBJgpGc   \n",
       "1  spotify:track:3oTlkzk1OtrhH8wBAduVEi   \n",
       "2  spotify:track:3ZFBeIyP41HhnALjxWy1pR   \n",
       "3  spotify:track:5Qt4Cc66g24QWwGP3YYV9y   \n",
       "4  spotify:track:7MH2ZclofPlTrZOkPzZKhK   \n",
       "\n",
       "                                          track_href  \\\n",
       "0  https://api.spotify.com/v1/tracks/3AhXZa8sUQht...   \n",
       "1  https://api.spotify.com/v1/tracks/3oTlkzk1Otrh...   \n",
       "2  https://api.spotify.com/v1/tracks/3ZFBeIyP41Hh...   \n",
       "3  https://api.spotify.com/v1/tracks/5Qt4Cc66g24Q...   \n",
       "4  https://api.spotify.com/v1/tracks/7MH2ZclofPlT...   \n",
       "\n",
       "                                        analysis_url duration_ms  \\\n",
       "0  https://api.spotify.com/v1/audio-analysis/3AhX...      369600   \n",
       "1  https://api.spotify.com/v1/audio-analysis/3oTl...      300977   \n",
       "2  https://api.spotify.com/v1/audio-analysis/3ZFB...      337413   \n",
       "3  https://api.spotify.com/v1/audio-analysis/5Qt4...      219147   \n",
       "4  https://api.spotify.com/v1/audio-analysis/7MH2...      160893   \n",
       "\n",
       "   time_signature  \n",
       "0               4  \n",
       "1               4  \n",
       "2               4  \n",
       "3               4  \n",
       "4               4  \n",
       "\n",
       "[5 rows x 21 columns]"
      ]
     },
     "execution_count": 67,
     "metadata": {},
     "output_type": "execute_result"
    }
   ],
   "source": [
    "df_w_audio_ft = pd.merge(left=result_df_no_nulls,\n",
    "                        right=audio_features_df,\n",
    "                        how='inner',\n",
    "                        left_on='song_id',\n",
    "                        right_on='id')\n",
    "df_w_audio_ft.head()"
   ]
  },
  {
   "cell_type": "code",
   "execution_count": 63,
   "id": "6fa2c5a2",
   "metadata": {},
   "outputs": [],
   "source": [
    "df_w_audio_ft.to_csv('df_w_audio_ft2.csv', index=False)"
   ]
  },
  {
   "cell_type": "code",
   "execution_count": null,
   "id": "b3bc940f",
   "metadata": {},
   "outputs": [],
   "source": []
  }
 ],
 "metadata": {
  "kernelspec": {
   "display_name": "Python 3 (ipykernel)",
   "language": "python",
   "name": "python3"
  },
  "language_info": {
   "codemirror_mode": {
    "name": "ipython",
    "version": 3
   },
   "file_extension": ".py",
   "mimetype": "text/x-python",
   "name": "python",
   "nbconvert_exporter": "python",
   "pygments_lexer": "ipython3",
   "version": "3.9.12"
  }
 },
 "nbformat": 4,
 "nbformat_minor": 5
}
